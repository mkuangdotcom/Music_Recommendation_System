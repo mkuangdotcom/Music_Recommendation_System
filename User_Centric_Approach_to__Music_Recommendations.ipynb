{
  "nbformat": 4,
  "nbformat_minor": 0,
  "metadata": {
    "colab": {
      "provenance": [],
      "authorship_tag": "ABX9TyO/AcQnSrJ4r1bWqLcjlSdr"
    },
    "kernelspec": {
      "name": "python3",
      "display_name": "Python 3"
    },
    "language_info": {
      "name": "python"
    },
    "widgets": {
      "application/vnd.jupyter.widget-state+json": {
        "9e27b11390da496e8cfe1789a76c7e35": {
          "model_module": "@jupyter-widgets/controls",
          "model_name": "HBoxModel",
          "model_module_version": "1.5.0",
          "state": {
            "_dom_classes": [],
            "_model_module": "@jupyter-widgets/controls",
            "_model_module_version": "1.5.0",
            "_model_name": "HBoxModel",
            "_view_count": null,
            "_view_module": "@jupyter-widgets/controls",
            "_view_module_version": "1.5.0",
            "_view_name": "HBoxView",
            "box_style": "",
            "children": [
              "IPY_MODEL_0b5e9ea0c5ea4c9c9173b76d79296820",
              "IPY_MODEL_a4b416f129254af98e73ce84ce5c34bd",
              "IPY_MODEL_7bad397f7bb74281924e1da88a8d2b18"
            ],
            "layout": "IPY_MODEL_98d6ddde733840eea1d8312ceaa200b4"
          }
        },
        "0b5e9ea0c5ea4c9c9173b76d79296820": {
          "model_module": "@jupyter-widgets/controls",
          "model_name": "HTMLModel",
          "model_module_version": "1.5.0",
          "state": {
            "_dom_classes": [],
            "_model_module": "@jupyter-widgets/controls",
            "_model_module_version": "1.5.0",
            "_model_name": "HTMLModel",
            "_view_count": null,
            "_view_module": "@jupyter-widgets/controls",
            "_view_module_version": "1.5.0",
            "_view_name": "HTMLView",
            "description": "",
            "description_tooltip": null,
            "layout": "IPY_MODEL_295b04e11988404d8f5ac8827f7f8abb",
            "placeholder": "​",
            "style": "IPY_MODEL_6a11b581182d47c884b403192da2cca1",
            "value": "100%"
          }
        },
        "a4b416f129254af98e73ce84ce5c34bd": {
          "model_module": "@jupyter-widgets/controls",
          "model_name": "FloatProgressModel",
          "model_module_version": "1.5.0",
          "state": {
            "_dom_classes": [],
            "_model_module": "@jupyter-widgets/controls",
            "_model_module_version": "1.5.0",
            "_model_name": "FloatProgressModel",
            "_view_count": null,
            "_view_module": "@jupyter-widgets/controls",
            "_view_module_version": "1.5.0",
            "_view_name": "ProgressView",
            "bar_style": "success",
            "description": "",
            "description_tooltip": null,
            "layout": "IPY_MODEL_061f79f65bd545c79f301f592d890208",
            "max": 20,
            "min": 0,
            "orientation": "horizontal",
            "style": "IPY_MODEL_a8f8857f112b4c8c925d8d3968e25f6b",
            "value": 20
          }
        },
        "7bad397f7bb74281924e1da88a8d2b18": {
          "model_module": "@jupyter-widgets/controls",
          "model_name": "HTMLModel",
          "model_module_version": "1.5.0",
          "state": {
            "_dom_classes": [],
            "_model_module": "@jupyter-widgets/controls",
            "_model_module_version": "1.5.0",
            "_model_name": "HTMLModel",
            "_view_count": null,
            "_view_module": "@jupyter-widgets/controls",
            "_view_module_version": "1.5.0",
            "_view_name": "HTMLView",
            "description": "",
            "description_tooltip": null,
            "layout": "IPY_MODEL_3d131e22204240bbbd74eec233266c6c",
            "placeholder": "​",
            "style": "IPY_MODEL_e0fec48e40534a2a9030c5f6a027019d",
            "value": " 20/20 [00:13&lt;00:00,  1.53it/s]"
          }
        },
        "98d6ddde733840eea1d8312ceaa200b4": {
          "model_module": "@jupyter-widgets/base",
          "model_name": "LayoutModel",
          "model_module_version": "1.2.0",
          "state": {
            "_model_module": "@jupyter-widgets/base",
            "_model_module_version": "1.2.0",
            "_model_name": "LayoutModel",
            "_view_count": null,
            "_view_module": "@jupyter-widgets/base",
            "_view_module_version": "1.2.0",
            "_view_name": "LayoutView",
            "align_content": null,
            "align_items": null,
            "align_self": null,
            "border": null,
            "bottom": null,
            "display": null,
            "flex": null,
            "flex_flow": null,
            "grid_area": null,
            "grid_auto_columns": null,
            "grid_auto_flow": null,
            "grid_auto_rows": null,
            "grid_column": null,
            "grid_gap": null,
            "grid_row": null,
            "grid_template_areas": null,
            "grid_template_columns": null,
            "grid_template_rows": null,
            "height": null,
            "justify_content": null,
            "justify_items": null,
            "left": null,
            "margin": null,
            "max_height": null,
            "max_width": null,
            "min_height": null,
            "min_width": null,
            "object_fit": null,
            "object_position": null,
            "order": null,
            "overflow": null,
            "overflow_x": null,
            "overflow_y": null,
            "padding": null,
            "right": null,
            "top": null,
            "visibility": null,
            "width": null
          }
        },
        "295b04e11988404d8f5ac8827f7f8abb": {
          "model_module": "@jupyter-widgets/base",
          "model_name": "LayoutModel",
          "model_module_version": "1.2.0",
          "state": {
            "_model_module": "@jupyter-widgets/base",
            "_model_module_version": "1.2.0",
            "_model_name": "LayoutModel",
            "_view_count": null,
            "_view_module": "@jupyter-widgets/base",
            "_view_module_version": "1.2.0",
            "_view_name": "LayoutView",
            "align_content": null,
            "align_items": null,
            "align_self": null,
            "border": null,
            "bottom": null,
            "display": null,
            "flex": null,
            "flex_flow": null,
            "grid_area": null,
            "grid_auto_columns": null,
            "grid_auto_flow": null,
            "grid_auto_rows": null,
            "grid_column": null,
            "grid_gap": null,
            "grid_row": null,
            "grid_template_areas": null,
            "grid_template_columns": null,
            "grid_template_rows": null,
            "height": null,
            "justify_content": null,
            "justify_items": null,
            "left": null,
            "margin": null,
            "max_height": null,
            "max_width": null,
            "min_height": null,
            "min_width": null,
            "object_fit": null,
            "object_position": null,
            "order": null,
            "overflow": null,
            "overflow_x": null,
            "overflow_y": null,
            "padding": null,
            "right": null,
            "top": null,
            "visibility": null,
            "width": null
          }
        },
        "6a11b581182d47c884b403192da2cca1": {
          "model_module": "@jupyter-widgets/controls",
          "model_name": "DescriptionStyleModel",
          "model_module_version": "1.5.0",
          "state": {
            "_model_module": "@jupyter-widgets/controls",
            "_model_module_version": "1.5.0",
            "_model_name": "DescriptionStyleModel",
            "_view_count": null,
            "_view_module": "@jupyter-widgets/base",
            "_view_module_version": "1.2.0",
            "_view_name": "StyleView",
            "description_width": ""
          }
        },
        "061f79f65bd545c79f301f592d890208": {
          "model_module": "@jupyter-widgets/base",
          "model_name": "LayoutModel",
          "model_module_version": "1.2.0",
          "state": {
            "_model_module": "@jupyter-widgets/base",
            "_model_module_version": "1.2.0",
            "_model_name": "LayoutModel",
            "_view_count": null,
            "_view_module": "@jupyter-widgets/base",
            "_view_module_version": "1.2.0",
            "_view_name": "LayoutView",
            "align_content": null,
            "align_items": null,
            "align_self": null,
            "border": null,
            "bottom": null,
            "display": null,
            "flex": null,
            "flex_flow": null,
            "grid_area": null,
            "grid_auto_columns": null,
            "grid_auto_flow": null,
            "grid_auto_rows": null,
            "grid_column": null,
            "grid_gap": null,
            "grid_row": null,
            "grid_template_areas": null,
            "grid_template_columns": null,
            "grid_template_rows": null,
            "height": null,
            "justify_content": null,
            "justify_items": null,
            "left": null,
            "margin": null,
            "max_height": null,
            "max_width": null,
            "min_height": null,
            "min_width": null,
            "object_fit": null,
            "object_position": null,
            "order": null,
            "overflow": null,
            "overflow_x": null,
            "overflow_y": null,
            "padding": null,
            "right": null,
            "top": null,
            "visibility": null,
            "width": null
          }
        },
        "a8f8857f112b4c8c925d8d3968e25f6b": {
          "model_module": "@jupyter-widgets/controls",
          "model_name": "ProgressStyleModel",
          "model_module_version": "1.5.0",
          "state": {
            "_model_module": "@jupyter-widgets/controls",
            "_model_module_version": "1.5.0",
            "_model_name": "ProgressStyleModel",
            "_view_count": null,
            "_view_module": "@jupyter-widgets/base",
            "_view_module_version": "1.2.0",
            "_view_name": "StyleView",
            "bar_color": null,
            "description_width": ""
          }
        },
        "3d131e22204240bbbd74eec233266c6c": {
          "model_module": "@jupyter-widgets/base",
          "model_name": "LayoutModel",
          "model_module_version": "1.2.0",
          "state": {
            "_model_module": "@jupyter-widgets/base",
            "_model_module_version": "1.2.0",
            "_model_name": "LayoutModel",
            "_view_count": null,
            "_view_module": "@jupyter-widgets/base",
            "_view_module_version": "1.2.0",
            "_view_name": "LayoutView",
            "align_content": null,
            "align_items": null,
            "align_self": null,
            "border": null,
            "bottom": null,
            "display": null,
            "flex": null,
            "flex_flow": null,
            "grid_area": null,
            "grid_auto_columns": null,
            "grid_auto_flow": null,
            "grid_auto_rows": null,
            "grid_column": null,
            "grid_gap": null,
            "grid_row": null,
            "grid_template_areas": null,
            "grid_template_columns": null,
            "grid_template_rows": null,
            "height": null,
            "justify_content": null,
            "justify_items": null,
            "left": null,
            "margin": null,
            "max_height": null,
            "max_width": null,
            "min_height": null,
            "min_width": null,
            "object_fit": null,
            "object_position": null,
            "order": null,
            "overflow": null,
            "overflow_x": null,
            "overflow_y": null,
            "padding": null,
            "right": null,
            "top": null,
            "visibility": null,
            "width": null
          }
        },
        "e0fec48e40534a2a9030c5f6a027019d": {
          "model_module": "@jupyter-widgets/controls",
          "model_name": "DescriptionStyleModel",
          "model_module_version": "1.5.0",
          "state": {
            "_model_module": "@jupyter-widgets/controls",
            "_model_module_version": "1.5.0",
            "_model_name": "DescriptionStyleModel",
            "_view_count": null,
            "_view_module": "@jupyter-widgets/base",
            "_view_module_version": "1.2.0",
            "_view_name": "StyleView",
            "description_width": ""
          }
        }
      }
    }
  },
  "cells": [
    {
      "cell_type": "markdown",
      "source": [
        "# Problem Statement\n",
        "\n",
        "Music streaming platforms need to recommend relevant songs to users from millions of tracks.\n",
        "This project implements and compares three recommendation approaches:\n",
        "\n",
        "1. Baseline: Popularity-based recommendations (recommend top songs to everyone)\n",
        "2. ALS (Alternating Least Squares): Advanced collaborative filtering\n",
        "3. Factorization Machines: Machine learning with user features"
      ],
      "metadata": {
        "id": "BzsWzoEVk2ec"
      }
    },
    {
      "cell_type": "markdown",
      "source": [
        "In this project, we use the Last.fm 360K dataset, scaled to 10,000 users and 5,000 artists for computational efficiency.\n",
        "\n",
        "Dataset: http://ocelma.net/MusicRecommendationDataset/lastfm-360K.html (depreated)\n",
        "\n",
        "Download link: https://zenodo.org/record/6090214/files/lastfm-dataset-360K.tar.gz"
      ],
      "metadata": {
        "id": "LRooI8x6k-Vz"
      }
    },
    {
      "cell_type": "markdown",
      "source": [
        "## Data Loading"
      ],
      "metadata": {
        "id": "SiM01EczY8h4"
      }
    },
    {
      "cell_type": "code",
      "source": [
        "!curl -L -o lastfm-dataset-360K.tar.gz https://zenodo.org/records/6090214/files/lastfm-dataset-360K.tar.gz\n",
        "\n",
        "# Extract\n",
        "!tar -xzf lastfm-dataset-360K.tar.gz\n",
        "\n",
        "# Remove tar file\n",
        "!rm lastfm-dataset-360K.tar.gz\n",
        "\n",
        "data_path = 'lastfm-dataset-360K/usersha1-artmbid-artname-plays.tsv'"
      ],
      "metadata": {
        "colab": {
          "base_uri": "https://localhost:8080/"
        },
        "id": "RmYBFiHyY8Jr",
        "outputId": "62573b9d-096a-4654-d4d9-ca77ea683315"
      },
      "execution_count": 1,
      "outputs": [
        {
          "output_type": "stream",
          "name": "stdout",
          "text": [
            "  % Total    % Received % Xferd  Average Speed   Time    Time     Time  Current\n",
            "                                 Dload  Upload   Total   Spent    Left  Speed\n",
            "100  542M  100  542M    0     0   527k      0  0:17:33  0:17:33 --:--:--  536k\n"
          ]
        }
      ]
    },
    {
      "cell_type": "code",
      "source": [
        "import pandas as pd\n",
        "\n",
        "# Load\n",
        "df = pd.read_csv(data_path, sep='\\t', header=None,\n",
        "                 names=['user_id', 'artist_id', 'artist_name', 'play_count'])\n",
        "\n",
        "print(f\"Total interactions: {len(df):,}\")\n",
        "print(f\"Unique users: {df['user_id'].nunique():,}\")\n",
        "print(f\"Unique artists: {df['artist_id'].nunique():,}\")\n",
        "print(f\"Play count range: {df['play_count'].min()} - {df['play_count'].max()}\")\n",
        "\n",
        "df.head()"
      ],
      "metadata": {
        "colab": {
          "base_uri": "https://localhost:8080/",
          "height": 275
        },
        "id": "xx8CIh1Labc6",
        "outputId": "a55b4e8a-1f86-4fd6-d736-02635395cbcd"
      },
      "execution_count": 2,
      "outputs": [
        {
          "output_type": "stream",
          "name": "stdout",
          "text": [
            "Total interactions: 17,535,655\n",
            "Unique users: 358,868\n",
            "Unique artists: 160,112\n",
            "Play count range: 0 - 419157\n"
          ]
        },
        {
          "output_type": "execute_result",
          "data": {
            "text/plain": [
              "                                    user_id  \\\n",
              "0  00000c289a1829a808ac09c00daf10bc3c4e223b   \n",
              "1  00000c289a1829a808ac09c00daf10bc3c4e223b   \n",
              "2  00000c289a1829a808ac09c00daf10bc3c4e223b   \n",
              "3  00000c289a1829a808ac09c00daf10bc3c4e223b   \n",
              "4  00000c289a1829a808ac09c00daf10bc3c4e223b   \n",
              "\n",
              "                              artist_id           artist_name  play_count  \n",
              "0  3bd73256-3905-4f3a-97e2-8b341527f805       betty blowtorch        2137  \n",
              "1  f2fb0ff0-5679-42ec-a55c-15109ce6e320             die Ärzte        1099  \n",
              "2  b3ae82c2-e60b-4551-a76d-6620f1b456aa     melissa etheridge         897  \n",
              "3  3d6bbeb7-f90e-4d10-b440-e153c0d10b53             elvenking         717  \n",
              "4  bbd2ffd7-17f4-4506-8572-c1ea58c3f9a8  juliette & the licks         706  "
            ],
            "text/html": [
              "\n",
              "  <div id=\"df-aac2e406-3aba-4dbe-8f6f-caac9a680296\" class=\"colab-df-container\">\n",
              "    <div>\n",
              "<style scoped>\n",
              "    .dataframe tbody tr th:only-of-type {\n",
              "        vertical-align: middle;\n",
              "    }\n",
              "\n",
              "    .dataframe tbody tr th {\n",
              "        vertical-align: top;\n",
              "    }\n",
              "\n",
              "    .dataframe thead th {\n",
              "        text-align: right;\n",
              "    }\n",
              "</style>\n",
              "<table border=\"1\" class=\"dataframe\">\n",
              "  <thead>\n",
              "    <tr style=\"text-align: right;\">\n",
              "      <th></th>\n",
              "      <th>user_id</th>\n",
              "      <th>artist_id</th>\n",
              "      <th>artist_name</th>\n",
              "      <th>play_count</th>\n",
              "    </tr>\n",
              "  </thead>\n",
              "  <tbody>\n",
              "    <tr>\n",
              "      <th>0</th>\n",
              "      <td>00000c289a1829a808ac09c00daf10bc3c4e223b</td>\n",
              "      <td>3bd73256-3905-4f3a-97e2-8b341527f805</td>\n",
              "      <td>betty blowtorch</td>\n",
              "      <td>2137</td>\n",
              "    </tr>\n",
              "    <tr>\n",
              "      <th>1</th>\n",
              "      <td>00000c289a1829a808ac09c00daf10bc3c4e223b</td>\n",
              "      <td>f2fb0ff0-5679-42ec-a55c-15109ce6e320</td>\n",
              "      <td>die Ärzte</td>\n",
              "      <td>1099</td>\n",
              "    </tr>\n",
              "    <tr>\n",
              "      <th>2</th>\n",
              "      <td>00000c289a1829a808ac09c00daf10bc3c4e223b</td>\n",
              "      <td>b3ae82c2-e60b-4551-a76d-6620f1b456aa</td>\n",
              "      <td>melissa etheridge</td>\n",
              "      <td>897</td>\n",
              "    </tr>\n",
              "    <tr>\n",
              "      <th>3</th>\n",
              "      <td>00000c289a1829a808ac09c00daf10bc3c4e223b</td>\n",
              "      <td>3d6bbeb7-f90e-4d10-b440-e153c0d10b53</td>\n",
              "      <td>elvenking</td>\n",
              "      <td>717</td>\n",
              "    </tr>\n",
              "    <tr>\n",
              "      <th>4</th>\n",
              "      <td>00000c289a1829a808ac09c00daf10bc3c4e223b</td>\n",
              "      <td>bbd2ffd7-17f4-4506-8572-c1ea58c3f9a8</td>\n",
              "      <td>juliette &amp; the licks</td>\n",
              "      <td>706</td>\n",
              "    </tr>\n",
              "  </tbody>\n",
              "</table>\n",
              "</div>\n",
              "    <div class=\"colab-df-buttons\">\n",
              "\n",
              "  <div class=\"colab-df-container\">\n",
              "    <button class=\"colab-df-convert\" onclick=\"convertToInteractive('df-aac2e406-3aba-4dbe-8f6f-caac9a680296')\"\n",
              "            title=\"Convert this dataframe to an interactive table.\"\n",
              "            style=\"display:none;\">\n",
              "\n",
              "  <svg xmlns=\"http://www.w3.org/2000/svg\" height=\"24px\" viewBox=\"0 -960 960 960\">\n",
              "    <path d=\"M120-120v-720h720v720H120Zm60-500h600v-160H180v160Zm220 220h160v-160H400v160Zm0 220h160v-160H400v160ZM180-400h160v-160H180v160Zm440 0h160v-160H620v160ZM180-180h160v-160H180v160Zm440 0h160v-160H620v160Z\"/>\n",
              "  </svg>\n",
              "    </button>\n",
              "\n",
              "  <style>\n",
              "    .colab-df-container {\n",
              "      display:flex;\n",
              "      gap: 12px;\n",
              "    }\n",
              "\n",
              "    .colab-df-convert {\n",
              "      background-color: #E8F0FE;\n",
              "      border: none;\n",
              "      border-radius: 50%;\n",
              "      cursor: pointer;\n",
              "      display: none;\n",
              "      fill: #1967D2;\n",
              "      height: 32px;\n",
              "      padding: 0 0 0 0;\n",
              "      width: 32px;\n",
              "    }\n",
              "\n",
              "    .colab-df-convert:hover {\n",
              "      background-color: #E2EBFA;\n",
              "      box-shadow: 0px 1px 2px rgba(60, 64, 67, 0.3), 0px 1px 3px 1px rgba(60, 64, 67, 0.15);\n",
              "      fill: #174EA6;\n",
              "    }\n",
              "\n",
              "    .colab-df-buttons div {\n",
              "      margin-bottom: 4px;\n",
              "    }\n",
              "\n",
              "    [theme=dark] .colab-df-convert {\n",
              "      background-color: #3B4455;\n",
              "      fill: #D2E3FC;\n",
              "    }\n",
              "\n",
              "    [theme=dark] .colab-df-convert:hover {\n",
              "      background-color: #434B5C;\n",
              "      box-shadow: 0px 1px 3px 1px rgba(0, 0, 0, 0.15);\n",
              "      filter: drop-shadow(0px 1px 2px rgba(0, 0, 0, 0.3));\n",
              "      fill: #FFFFFF;\n",
              "    }\n",
              "  </style>\n",
              "\n",
              "    <script>\n",
              "      const buttonEl =\n",
              "        document.querySelector('#df-aac2e406-3aba-4dbe-8f6f-caac9a680296 button.colab-df-convert');\n",
              "      buttonEl.style.display =\n",
              "        google.colab.kernel.accessAllowed ? 'block' : 'none';\n",
              "\n",
              "      async function convertToInteractive(key) {\n",
              "        const element = document.querySelector('#df-aac2e406-3aba-4dbe-8f6f-caac9a680296');\n",
              "        const dataTable =\n",
              "          await google.colab.kernel.invokeFunction('convertToInteractive',\n",
              "                                                    [key], {});\n",
              "        if (!dataTable) return;\n",
              "\n",
              "        const docLinkHtml = 'Like what you see? Visit the ' +\n",
              "          '<a target=\"_blank\" href=https://colab.research.google.com/notebooks/data_table.ipynb>data table notebook</a>'\n",
              "          + ' to learn more about interactive tables.';\n",
              "        element.innerHTML = '';\n",
              "        dataTable['output_type'] = 'display_data';\n",
              "        await google.colab.output.renderOutput(dataTable, element);\n",
              "        const docLink = document.createElement('div');\n",
              "        docLink.innerHTML = docLinkHtml;\n",
              "        element.appendChild(docLink);\n",
              "      }\n",
              "    </script>\n",
              "  </div>\n",
              "\n",
              "\n",
              "    <div id=\"df-7f4f3f11-9281-4b50-a41a-c46a2ce62591\">\n",
              "      <button class=\"colab-df-quickchart\" onclick=\"quickchart('df-7f4f3f11-9281-4b50-a41a-c46a2ce62591')\"\n",
              "                title=\"Suggest charts\"\n",
              "                style=\"display:none;\">\n",
              "\n",
              "<svg xmlns=\"http://www.w3.org/2000/svg\" height=\"24px\"viewBox=\"0 0 24 24\"\n",
              "     width=\"24px\">\n",
              "    <g>\n",
              "        <path d=\"M19 3H5c-1.1 0-2 .9-2 2v14c0 1.1.9 2 2 2h14c1.1 0 2-.9 2-2V5c0-1.1-.9-2-2-2zM9 17H7v-7h2v7zm4 0h-2V7h2v10zm4 0h-2v-4h2v4z\"/>\n",
              "    </g>\n",
              "</svg>\n",
              "      </button>\n",
              "\n",
              "<style>\n",
              "  .colab-df-quickchart {\n",
              "      --bg-color: #E8F0FE;\n",
              "      --fill-color: #1967D2;\n",
              "      --hover-bg-color: #E2EBFA;\n",
              "      --hover-fill-color: #174EA6;\n",
              "      --disabled-fill-color: #AAA;\n",
              "      --disabled-bg-color: #DDD;\n",
              "  }\n",
              "\n",
              "  [theme=dark] .colab-df-quickchart {\n",
              "      --bg-color: #3B4455;\n",
              "      --fill-color: #D2E3FC;\n",
              "      --hover-bg-color: #434B5C;\n",
              "      --hover-fill-color: #FFFFFF;\n",
              "      --disabled-bg-color: #3B4455;\n",
              "      --disabled-fill-color: #666;\n",
              "  }\n",
              "\n",
              "  .colab-df-quickchart {\n",
              "    background-color: var(--bg-color);\n",
              "    border: none;\n",
              "    border-radius: 50%;\n",
              "    cursor: pointer;\n",
              "    display: none;\n",
              "    fill: var(--fill-color);\n",
              "    height: 32px;\n",
              "    padding: 0;\n",
              "    width: 32px;\n",
              "  }\n",
              "\n",
              "  .colab-df-quickchart:hover {\n",
              "    background-color: var(--hover-bg-color);\n",
              "    box-shadow: 0 1px 2px rgba(60, 64, 67, 0.3), 0 1px 3px 1px rgba(60, 64, 67, 0.15);\n",
              "    fill: var(--button-hover-fill-color);\n",
              "  }\n",
              "\n",
              "  .colab-df-quickchart-complete:disabled,\n",
              "  .colab-df-quickchart-complete:disabled:hover {\n",
              "    background-color: var(--disabled-bg-color);\n",
              "    fill: var(--disabled-fill-color);\n",
              "    box-shadow: none;\n",
              "  }\n",
              "\n",
              "  .colab-df-spinner {\n",
              "    border: 2px solid var(--fill-color);\n",
              "    border-color: transparent;\n",
              "    border-bottom-color: var(--fill-color);\n",
              "    animation:\n",
              "      spin 1s steps(1) infinite;\n",
              "  }\n",
              "\n",
              "  @keyframes spin {\n",
              "    0% {\n",
              "      border-color: transparent;\n",
              "      border-bottom-color: var(--fill-color);\n",
              "      border-left-color: var(--fill-color);\n",
              "    }\n",
              "    20% {\n",
              "      border-color: transparent;\n",
              "      border-left-color: var(--fill-color);\n",
              "      border-top-color: var(--fill-color);\n",
              "    }\n",
              "    30% {\n",
              "      border-color: transparent;\n",
              "      border-left-color: var(--fill-color);\n",
              "      border-top-color: var(--fill-color);\n",
              "      border-right-color: var(--fill-color);\n",
              "    }\n",
              "    40% {\n",
              "      border-color: transparent;\n",
              "      border-right-color: var(--fill-color);\n",
              "      border-top-color: var(--fill-color);\n",
              "    }\n",
              "    60% {\n",
              "      border-color: transparent;\n",
              "      border-right-color: var(--fill-color);\n",
              "    }\n",
              "    80% {\n",
              "      border-color: transparent;\n",
              "      border-right-color: var(--fill-color);\n",
              "      border-bottom-color: var(--fill-color);\n",
              "    }\n",
              "    90% {\n",
              "      border-color: transparent;\n",
              "      border-bottom-color: var(--fill-color);\n",
              "    }\n",
              "  }\n",
              "</style>\n",
              "\n",
              "      <script>\n",
              "        async function quickchart(key) {\n",
              "          const quickchartButtonEl =\n",
              "            document.querySelector('#' + key + ' button');\n",
              "          quickchartButtonEl.disabled = true;  // To prevent multiple clicks.\n",
              "          quickchartButtonEl.classList.add('colab-df-spinner');\n",
              "          try {\n",
              "            const charts = await google.colab.kernel.invokeFunction(\n",
              "                'suggestCharts', [key], {});\n",
              "          } catch (error) {\n",
              "            console.error('Error during call to suggestCharts:', error);\n",
              "          }\n",
              "          quickchartButtonEl.classList.remove('colab-df-spinner');\n",
              "          quickchartButtonEl.classList.add('colab-df-quickchart-complete');\n",
              "        }\n",
              "        (() => {\n",
              "          let quickchartButtonEl =\n",
              "            document.querySelector('#df-7f4f3f11-9281-4b50-a41a-c46a2ce62591 button');\n",
              "          quickchartButtonEl.style.display =\n",
              "            google.colab.kernel.accessAllowed ? 'block' : 'none';\n",
              "        })();\n",
              "      </script>\n",
              "    </div>\n",
              "\n",
              "    </div>\n",
              "  </div>\n"
            ],
            "application/vnd.google.colaboratory.intrinsic+json": {
              "type": "dataframe",
              "variable_name": "df"
            }
          },
          "metadata": {},
          "execution_count": 2
        }
      ]
    },
    {
      "cell_type": "markdown",
      "source": [
        "## Visualize and Scale the Data"
      ],
      "metadata": {
        "id": "B_df2SzYgUjy"
      }
    },
    {
      "cell_type": "markdown",
      "source": [
        "Visualizations of user play counts, artist popularity, and user activity distributions."
      ],
      "metadata": {
        "id": "oxfmNn6jgnkH"
      }
    },
    {
      "cell_type": "code",
      "source": [
        "# User activity analysis\n",
        "user_activity = df.groupby('user_id').agg({\n",
        "    'artist_id': 'count',      # number of different artists\n",
        "    'play_count': 'sum'        # total plays\n",
        "}).rename(columns={'artist_id': 'num_artists', 'play_count': 'total_plays'})\n",
        "\n",
        "print(\"User Activity Stats:\")\n",
        "print(f\"Average artists per user: {user_activity['num_artists'].mean():.1f}\")\n",
        "print(f\"Median artists per user: {user_activity['num_artists'].median()}\")\n",
        "print(f\"Most active user: {user_activity['num_artists'].max()} artists\")\n",
        "print(f\"Least active user: {user_activity['num_artists'].min()} artists\")\n",
        "\n",
        "# Artist popularity analysis\n",
        "artist_popularity = df.groupby('artist_id').agg({\n",
        "    'user_id': 'count',        # number of different users\n",
        "    'play_count': 'sum'        # total plays\n",
        "}).rename(columns={'user_id': 'num_listeners', 'play_count': 'total_plays'})\n",
        "\n",
        "print(\"\\nArtist Popularity Stats:\")\n",
        "print(f\"Average listeners per artist: {artist_popularity['num_listeners'].mean():.1f}\")\n",
        "print(f\"Median listeners per artist: {artist_popularity['num_listeners'].median()}\")\n",
        "print(f\"Most popular artist: {artist_popularity['num_listeners'].max()} listeners\")\n",
        "print(f\"Least popular artist: {artist_popularity['num_listeners'].min()} listeners\")"
      ],
      "metadata": {
        "colab": {
          "base_uri": "https://localhost:8080/"
        },
        "id": "RO5ICXd6D1cn",
        "outputId": "b756ad20-0f23-4e76-8054-63261f132b43"
      },
      "execution_count": 3,
      "outputs": [
        {
          "output_type": "stream",
          "name": "stdout",
          "text": [
            "User Activity Stats:\n",
            "Average artists per user: 48.2\n",
            "Median artists per user: 48.0\n",
            "Most active user: 165 artists\n",
            "Least active user: 0 artists\n",
            "\n",
            "Artist Popularity Stats:\n",
            "Average listeners per artist: 108.1\n",
            "Median listeners per artist: 6.0\n",
            "Most popular artist: 77254 listeners\n",
            "Least popular artist: 1 listeners\n"
          ]
        }
      ]
    },
    {
      "cell_type": "code",
      "source": [
        "import matplotlib.pyplot as plt\n",
        "import seaborn as sns\n",
        "\n",
        "# Calculate user activity (number of unique artists per user)\n",
        "user_activity = df.groupby('user_id')['artist_id'].nunique().reset_index(name='num_artists')\n",
        "\n",
        "# Calculate artist popularity (number of unique listeners per artist)\n",
        "artist_popularity = df.groupby('artist_id')['user_id'].nunique().reset_index(name='num_listeners')\n",
        "\n",
        "# Visualize play count distribution\n",
        "plt.figure(figsize=(6, 6))\n",
        "sns.histplot(df['play_count'], bins=50, kde=False, color='skyblue')\n",
        "plt.title('Distribution of Play Counts')\n",
        "plt.xlabel('Play Count')\n",
        "plt.ylabel('Frequency')\n",
        "plt.yscale('log')\n",
        "plt.show()\n",
        "\n",
        "# Visualize user activity distribution\n",
        "plt.figure(figsize=(6, 6))\n",
        "sns.histplot(user_activity['num_artists'], bins=50, kde=False, color='lightgreen')\n",
        "plt.title('Distribution of Number of Artists per User')\n",
        "plt.xlabel('Number of Artists')\n",
        "plt.ylabel('Number of Users')\n",
        "plt.yscale('log')\n",
        "plt.show()\n",
        "\n",
        "# Visualize artist popularity distribution\n",
        "plt.figure(figsize=(6, 6))\n",
        "sns.histplot(artist_popularity['num_listeners'], bins=50, kde=False, color='salmon')\n",
        "plt.title('Distribution of Number of Listeners per Artist')\n",
        "plt.xlabel('Number of Listeners')\n",
        "plt.ylabel('Number of Artists')\n",
        "plt.yscale('log')\n",
        "plt.show()"
      ],
      "metadata": {
        "colab": {
          "base_uri": "https://localhost:8080/",
          "height": 1000
        },
        "id": "JwAVebbPeJcs",
        "outputId": "c067b9cf-cb36-449c-ec1f-a36d44589d2f"
      },
      "execution_count": 4,
      "outputs": [
        {
          "output_type": "display_data",
          "data": {
            "text/plain": [
              "<Figure size 600x600 with 1 Axes>"
            ],
            "image/png": "[encoded data removed]"
          },
          "metadata": {}
        },
        {
          "output_type": "display_data",
          "data": {
            "text/plain": [
              "<Figure size 600x600 with 1 Axes>"
            ],
            "image/png": "[encoded data removed]"
          },
          "metadata": {}
        },
        {
          "output_type": "display_data",
          "data": {
            "text/plain": [
              "<Figure size 600x600 with 1 Axes>"
            ],
            "image/png": "[encoded data removed]"
          },
          "metadata": {}
        }
      ]
    },
    {
      "cell_type": "markdown",
      "source": [
        "## Filter and Scale"
      ],
      "metadata": {
        "id": "C7G0Cmxy-xR3"
      }
    },
    {
      "cell_type": "code",
      "source": [
        "# Filter users with at least 5 unique artists\n",
        "user_counts = df.groupby('user_id').size()\n",
        "active_users = user_counts[user_counts >= 5].index\n",
        "df_filtered = df[df['user_id'].isin(active_users)]\n",
        "\n",
        "# Filter artists with at least 5 unique listeners\n",
        "artist_counts = df_filtered.groupby('artist_id').size()\n",
        "popular_artists = artist_counts[artist_counts >= 5].index\n",
        "df_filtered = df_filtered[df_filtered['artist_id'].isin(popular_artists)]\n",
        "\n",
        "# Scale down to the top 20,000 users\n",
        "top_users = df_filtered['user_id'].value_counts().head(20000).index\n",
        "df_scaled = df_filtered[df_filtered['user_id'].isin(top_users)]\n",
        "\n",
        "\n",
        "print(f\"Final scaled data: {len(df_scaled):,} interactions\")\n",
        "print(f\"Users: {df_scaled['user_id'].nunique():,}\")\n",
        "print(f\"Artists: {df_scaled['artist_id'].nunique():,}\")"
      ],
      "metadata": {
        "colab": {
          "base_uri": "https://localhost:8080/"
        },
        "id": "UyH441HVgaNw",
        "outputId": "8841d28e-4b82-4b29-96da-10f0c09d45da"
      },
      "execution_count": 5,
      "outputs": [
        {
          "output_type": "stream",
          "name": "stdout",
          "text": [
            "Final scaled data: 1,357,087 interactions\n",
            "Users: 20,000\n",
            "Artists: 66,959\n"
          ]
        }
      ]
    },
    {
      "cell_type": "markdown",
      "source": [
        "## Preprocessing"
      ],
      "metadata": {
        "id": "IDENmJFboIIT"
      }
    },
    {
      "cell_type": "code",
      "source": [
        "from scipy.sparse import csr_matrix\n",
        "\n",
        "# Create user and artist mappings\n",
        "user_mapping = {user: idx for idx, user in enumerate(df_scaled['user_id'].unique())}\n",
        "artist_mapping = {artist: idx for idx, artist in enumerate(df_scaled['artist_id'].unique())}\n",
        "\n",
        "# Map IDs to indices\n",
        "user_mapping = {user: idx for idx, user in enumerate(df_scaled['user_id'].unique())}\n",
        "artist_mapping = {artist: idx for idx, artist in enumerate(df_scaled['artist_id'].unique())}\n",
        "\n",
        "df_scaled['user_idx'] = df_scaled['user_id'].map(user_mapping)\n",
        "df_scaled['artist_idx'] = df_scaled['artist_id'].map(artist_mapping)\n",
        "\n",
        "# Create sparse matrix\n",
        "rows = df_scaled['user_idx'].values\n",
        "cols = df_scaled['artist_idx'].values\n",
        "data = df_scaled['play_count'].values\n",
        "sparse_matrix = csr_matrix((data, (rows, cols)),\n",
        "                           shape=(len(user_mapping), len(artist_mapping)))\n",
        "\n",
        "# Sparse Matrix Statistics\n",
        "print(f\"\\nSparse Matrix Statistics:\")\n",
        "print(f\"Shape: {sparse_matrix.shape}\")\n",
        "print(f\"Total possible entries: {sparse_matrix.shape[0] * sparse_matrix.shape[1]:,}\")\n",
        "print(f\"Non-zero entries: {sparse_matrix.nnz:,}\")\n",
        "sparsity_percent = (1 - sparse_matrix.nnz / (sparse_matrix.shape[0] * sparse_matrix.shape[1])) * 100\n",
        "print(f\"Sparsity: {sparsity_percent:.2f}%\")\n",
        "print(f\"Density: {100 - sparsity_percent:.2f}%\")"
      ],
      "metadata": {
        "colab": {
          "base_uri": "https://localhost:8080/"
        },
        "id": "pPXIuqCYhLVt",
        "outputId": "c497672a-4123-4315-fee4-a673da149517"
      },
      "execution_count": 6,
      "outputs": [
        {
          "output_type": "stream",
          "name": "stderr",
          "text": [
            "/tmp/ipython-input-1383041103.py:11: SettingWithCopyWarning: \n",
            "A value is trying to be set on a copy of a slice from a DataFrame.\n",
            "Try using .loc[row_indexer,col_indexer] = value instead\n",
            "\n",
            "See the caveats in the documentation: https://pandas.pydata.org/pandas-docs/stable/user_guide/indexing.html#returning-a-view-versus-a-copy\n",
            "  df_scaled['user_idx'] = df_scaled['user_id'].map(user_mapping)\n"
          ]
        },
        {
          "output_type": "stream",
          "name": "stdout",
          "text": [
            "\n",
            "Sparse Matrix Statistics:\n",
            "Shape: (20000, 66959)\n",
            "Total possible entries: 1,339,180,000\n",
            "Non-zero entries: 1,357,032\n",
            "Sparsity: 99.90%\n",
            "Density: 0.10%\n"
          ]
        },
        {
          "output_type": "stream",
          "name": "stderr",
          "text": [
            "/tmp/ipython-input-1383041103.py:12: SettingWithCopyWarning: \n",
            "A value is trying to be set on a copy of a slice from a DataFrame.\n",
            "Try using .loc[row_indexer,col_indexer] = value instead\n",
            "\n",
            "See the caveats in the documentation: https://pandas.pydata.org/pandas-docs/stable/user_guide/indexing.html#returning-a-view-versus-a-copy\n",
            "  df_scaled['artist_idx'] = df_scaled['artist_id'].map(artist_mapping)\n"
          ]
        }
      ]
    },
    {
      "cell_type": "markdown",
      "source": [
        "## Train/Test Split"
      ],
      "metadata": {
        "id": "ptjmH6BQn93h"
      }
    },
    {
      "cell_type": "code",
      "source": [
        "import numpy as np\n",
        "\n",
        "# Split into train and test sets\n",
        "train_matrix = sparse_matrix.copy()\n",
        "test_interactions = []\n",
        "\n",
        "test_ratio = 0.2 # 20% for testing\n",
        "min_interactions = 5  # only consider users with at least 5 interactions\n",
        "\n",
        "for user_idx in range(sparse_matrix.shape[0]):\n",
        "    user_interactions = sparse_matrix.getrow(user_idx)\n",
        "    nonzero_items = user_interactions.nonzero()[1]\n",
        "\n",
        "    if len(nonzero_items) >= min_interactions:\n",
        "        n_test = max(1, int(len(nonzero_items) * test_ratio))\n",
        "        test_items = np.random.choice(nonzero_items, n_test, replace=False)\n",
        "\n",
        "        for item_idx in test_items:\n",
        "            test_interactions.append({\n",
        "                'user_idx': user_idx,\n",
        "                'item_idx': item_idx,\n",
        "                'rating': sparse_matrix[user_idx, item_idx]\n",
        "            })\n",
        "            train_matrix[user_idx, item_idx] = 0\n",
        "\n",
        "train_matrix.eliminate_zeros()\n",
        "\n",
        "print(f\"\\nTrain Matrix Statistics:\")\n",
        "print(f\"Shape: {train_matrix.shape}\")\n",
        "print(f\"Total possible entries: {train_matrix.shape[0] * train_matrix.shape[1]:,}\")\n",
        "print(f\"Non-zero entries: {train_matrix.nnz:,}\")\n",
        "train_sparsity = (1 - train_matrix.nnz / (train_matrix.shape[0] * train_matrix.shape[1])) * 100\n",
        "print(f\"Train set sparsity: {train_sparsity:.2f}%\")"
      ],
      "metadata": {
        "colab": {
          "base_uri": "https://localhost:8080/"
        },
        "id": "bmxNqSLdoA5i",
        "outputId": "a469d6e2-345c-4d0a-e2d8-9b41b773cfbe"
      },
      "execution_count": 7,
      "outputs": [
        {
          "output_type": "stream",
          "name": "stdout",
          "text": [
            "\n",
            "Train Matrix Statistics:\n",
            "Shape: (20000, 66959)\n",
            "Total possible entries: 1,339,180,000\n",
            "Non-zero entries: 1,093,796\n",
            "Train set sparsity: 99.92%\n"
          ]
        }
      ]
    },
    {
      "cell_type": "code",
      "source": [
        "# Check for data leakage\n",
        "assert train_matrix.nnz + len(test_interactions) == sparse_matrix.nnz, \"Data leakage detected\"\n",
        "\n",
        "# Check sparsity\n",
        "train_sparsity = (1 - train_matrix.nnz / (train_matrix.shape[0] * train_matrix.shape[1])) * 100\n",
        "print(f\"Train set sparsity: {train_sparsity:.2f}%\")\n",
        "\n",
        "# Check for cold-start users\n",
        "train_user_counts = np.array(train_matrix.sum(axis=1)).flatten()\n",
        "cold_start_users = np.sum(train_user_counts == 0)\n",
        "print(f\"Cold-start users: {cold_start_users}\")"
      ],
      "metadata": {
        "id": "TRV99m6u_Jqz",
        "colab": {
          "base_uri": "https://localhost:8080/"
        },
        "outputId": "0494e189-6eb6-4042-847a-7c5f33915f4d"
      },
      "execution_count": 8,
      "outputs": [
        {
          "output_type": "stream",
          "name": "stdout",
          "text": [
            "Train set sparsity: 99.92%\n",
            "Cold-start users: 0\n"
          ]
        }
      ]
    },
    {
      "cell_type": "markdown",
      "source": [
        "## Model Implementation and Training\n",
        "\n",
        "We'll implement two advanced recommendation approaches:\n",
        "1. **Baseline**: Popularity-based recommendations for comparison\n",
        "2. **ALS (Alternating Least Squares)**: Matrix factorization optimized for implicit feedback"
      ],
      "metadata": {
        "id": "ajWu9pKCE0ic"
      }
    },
    {
      "cell_type": "markdown",
      "source": [
        "### Baseline Model: Popularity-Based Recommendations\n",
        "\n",
        "First, let's establish our baseline by identifying the most popular artists based on total play counts across all training users."
      ],
      "metadata": {
        "id": "zh0_cr1kG_jZ"
      }
    },
    {
      "cell_type": "code",
      "source": [
        "# Calculate artist popularity from training data\n",
        "artist_popularity = np.array(train_matrix.sum(axis=0)).flatten()\n",
        "\n",
        "# Get top artists for baseline recommendations\n",
        "n_recommendations = 10\n",
        "top_artists_baseline = np.argsort(artist_popularity)[::-1][:n_recommendations]\n",
        "\n",
        "print(\"Baseline Model - Most Popular Artists:\")\n",
        "for i, artist_idx in enumerate(top_artists_baseline):\n",
        "    plays = artist_popularity[artist_idx]\n",
        "    print(f\"  {i+1}. Artist {artist_idx}: {plays:,.0f} total plays\")"
      ],
      "metadata": {
        "id": "IoAcP5VqG_FM",
        "colab": {
          "base_uri": "https://localhost:8080/"
        },
        "outputId": "b22e17b9-ca42-4d0c-befd-72fd5653e56c"
      },
      "execution_count": 9,
      "outputs": [
        {
          "output_type": "stream",
          "name": "stdout",
          "text": [
            "Baseline Model - Most Popular Artists:\n",
            "  1. Artist 156: 1,010,803 total plays\n",
            "  2. Artist 305: 734,360 total plays\n",
            "  3. Artist 816: 542,673 total plays\n",
            "  4. Artist 344: 490,337 total plays\n",
            "  5. Artist 421: 444,171 total plays\n",
            "  6. Artist 674: 422,973 total plays\n",
            "  7. Artist 304: 422,652 total plays\n",
            "  8. Artist 2425: 361,215 total plays\n",
            "  9. Artist 134: 347,791 total plays\n",
            "  10. Artist 154: 342,197 total plays\n"
          ]
        }
      ]
    },
    {
      "cell_type": "markdown",
      "source": [
        "### ALS Model: Collaborative Filtering\n",
        "\n",
        "ALS (Alternating Least Squares) is a matrix factorization technique that learns latent user and item factors by alternately optimizing user and item representations. It's particularly well-suited for implicit feedback data like play counts.\n",
        "\n",
        "Key advantages:\n",
        "- Handles sparse matrices efficiently\n",
        "- Optimized for implicit feedback (play counts vs explicit ratings)\n",
        "- Scalable to large datasets"
      ],
      "metadata": {
        "id": "CGaKN7I5HVsJ"
      }
    },
    {
      "cell_type": "code",
      "source": [
        "!pip install implicit"
      ],
      "metadata": {
        "colab": {
          "base_uri": "https://localhost:8080/"
        },
        "id": "StlQenUxO_5-",
        "outputId": "c7b6b65d-d664-45ac-ec1d-f6683c9b723a"
      },
      "execution_count": 10,
      "outputs": [
        {
          "output_type": "stream",
          "name": "stdout",
          "text": [
            "Collecting implicit\n",
            "  Downloading implicit-0.7.2.tar.gz (70 kB)\n",
            "\u001b[2K     \u001b[90m━━━━━━━━━━━━━━━━━━━━━━━━━━━━━━━━━━━━━━━━\u001b[0m \u001b[32m70.3/70.3 kB\u001b[0m \u001b[31m1.5 MB/s\u001b[0m eta \u001b[36m0:00:00\u001b[0m\n",
            "\u001b[?25h  Installing build dependencies ... \u001b[?25l\u001b[?25hdone\n",
            "  Getting requirements to build wheel ... \u001b[?25l\u001b[?25hdone\n",
            "  Preparing metadata (pyproject.toml) ... \u001b[?25l\u001b[?25hdone\n",
            "Requirement already satisfied: numpy>=1.17.0 in /usr/local/lib/python3.12/dist-packages (from implicit) (2.0.2)\n",
            "Requirement already satisfied: scipy>=0.16 in /usr/local/lib/python3.12/dist-packages (from implicit) (1.16.2)\n",
            "Requirement already satisfied: tqdm>=4.27 in /usr/local/lib/python3.12/dist-packages (from implicit) (4.67.1)\n",
            "Requirement already satisfied: threadpoolctl in /usr/local/lib/python3.12/dist-packages (from implicit) (3.6.0)\n",
            "Building wheels for collected packages: implicit\n",
            "  Building wheel for implicit (pyproject.toml) ... \u001b[?25l\u001b[?25hdone\n",
            "  Created wheel for implicit: filename=implicit-0.7.2-cp312-cp312-linux_x86_64.whl size=10855841 sha256=21759cb7d5fc6c886fbccf98bbadaafb46ffce74fbb2632c9bd8a2c38a64595b\n",
            "  Stored in directory: /root/.cache/pip/wheels/b2/00/4f/9ff8af07a0a53ac6007ea5d739da19cfe147a2df542b6899f8\n",
            "Successfully built implicit\n",
            "Installing collected packages: implicit\n",
            "Successfully installed implicit-0.7.2\n"
          ]
        }
      ]
    },
    {
      "cell_type": "code",
      "source": [
        "import time\n",
        "from implicit.als import AlternatingLeastSquares\n",
        "from tqdm import tqdm\n",
        "\n",
        "def quick_evaluate(model, test_sample, k=10):\n",
        "    \"\"\"\n",
        "      Quick evaluation on sample of test data for hyperparameter search.\n",
        "\n",
        "      Args:\n",
        "          model: Trained ALS model\n",
        "          test_sample (list): Test interactions\n",
        "          k (int): Number of recommendations\n",
        "\n",
        "      Returns:\n",
        "          float: Average precision@k across sampled users\n",
        "    \"\"\"\n",
        "    precisions = []\n",
        "\n",
        "    # Sample 1000 users for fast evaluation\n",
        "    user_test_items = {}\n",
        "    for interaction in test_sample:\n",
        "        user_idx = interaction['user_idx']\n",
        "        if user_idx not in user_test_items:\n",
        "            user_test_items[user_idx] = []\n",
        "        user_test_items[user_idx].append(interaction['item_idx'])\n",
        "        if len(user_test_items) >= 1000:\n",
        "            break\n",
        "\n",
        "    for user_idx, true_items in user_test_items.items():\n",
        "        try:\n",
        "            user_items = train_matrix[user_idx].tocsr()\n",
        "            recs, _ = model.recommend(userid=user_idx, user_items=user_items, N=k)\n",
        "            hits = len(set(recs) & set(true_items))\n",
        "            precisions.append(hits / k)\n",
        "        except:\n",
        "            precisions.append(0)\n",
        "\n",
        "    return np.mean(precisions)\n",
        "\n",
        "# Parameter search space\n",
        "param_space = {\n",
        "    'factors': [30, 50, 70, 100],\n",
        "    'regularization': [0.001, 0.01, 0.05, 0.1],\n",
        "    'iterations': [10, 15, 20],\n",
        "    'alpha': [0.5, 1.0, 2.0, 5.0]\n",
        "}\n",
        "\n",
        "# Random search configuration\n",
        "n_trials = 12\n",
        "results = []\n",
        "\n",
        "print(f\"Random Hyperparameter Search: {n_trials} trials\")\n",
        "print(\"-\" * 60)\n",
        "\n",
        "for trial in tqdm(range(n_trials), desc=\"Searching hyperparameters\", ncols=80):\n",
        "    # Sample random parameters\n",
        "    params = {\n",
        "        'factors': np.random.choice(param_space['factors']),\n",
        "        'regularization': np.random.choice(param_space['regularization']),\n",
        "        'iterations': np.random.choice(param_space['iterations']),\n",
        "        'alpha': np.random.choice(param_space['alpha']),\n",
        "        'random_state': 42\n",
        "    }\n",
        "\n",
        "    # Train and evaluate\n",
        "    start = time.time()\n",
        "    model = AlternatingLeastSquares(**params)\n",
        "    model.fit(train_matrix.tocsr(), show_progress=False)\n",
        "    precision = quick_evaluate(model, test_interactions, k=10)\n",
        "    train_time = time.time() - start\n",
        "\n",
        "    tqdm.write(f\"Trial {trial+1:2d}: P@10={precision:.4f} | \"\n",
        "               f\"f={params['factors']:3d} r={params['regularization']:.3f} \"\n",
        "               f\"i={params['iterations']:2d} a={params['alpha']:.1f} | {train_time:.1f}s\")\n",
        "\n",
        "    results.append({\n",
        "        **params,\n",
        "        'precision': precision,\n",
        "        'train_time': train_time\n",
        "    })\n",
        "\n",
        "# Results summary\n",
        "print(\"\\n\" + \"=\" * 60)\n",
        "results_df = pd.DataFrame(results).sort_values('precision', ascending=False)\n",
        "print(\"Top 3 Configurations:\")\n",
        "print(results_df[['factors', 'regularization', 'iterations', 'alpha', 'precision']].head(3).to_string(index=False))\n",
        "\n",
        "# Best parameters\n",
        "best = results_df.iloc[0]\n",
        "print(\"\\n\" + \"=\" * 60)\n",
        "print(\"Best Parameters:\")\n",
        "print(f\"  factors={int(best['factors'])}, regularization={best['regularization']}, \"\n",
        "      f\"iterations={int(best['iterations'])}, alpha={best['alpha']}\")\n",
        "print(f\"  Validation Precision@10: {best['precision']:.4f}\")\n",
        "print(\"=\" * 60)\n",
        "\n",
        "# Train final model with best parameters\n",
        "als_model = AlternatingLeastSquares(\n",
        "    factors=int(best['factors']),\n",
        "    regularization=best['regularization'],\n",
        "    iterations=int(best['iterations']),\n",
        "    alpha=best['alpha'],\n",
        "    random_state=42\n",
        ")\n",
        "als_model.fit(train_matrix.tocsr(), show_progress=True)\n",
        "print(\"Training complete.\")"
      ],
      "metadata": {
        "colab": {
          "base_uri": "https://localhost:8080/",
          "height": 642,
          "referenced_widgets": [
            "9e27b11390da496e8cfe1789a76c7e35",
            "0b5e9ea0c5ea4c9c9173b76d79296820",
            "a4b416f129254af98e73ce84ce5c34bd",
            "7bad397f7bb74281924e1da88a8d2b18",
            "98d6ddde733840eea1d8312ceaa200b4",
            "295b04e11988404d8f5ac8827f7f8abb",
            "6a11b581182d47c884b403192da2cca1",
            "061f79f65bd545c79f301f592d890208",
            "a8f8857f112b4c8c925d8d3968e25f6b",
            "3d131e22204240bbbd74eec233266c6c",
            "e0fec48e40534a2a9030c5f6a027019d"
          ]
        },
        "id": "G0SCrrPvQbR1",
        "outputId": "20536156-06fa-4870-df92-7e60c20090b1"
      },
      "execution_count": 11,
      "outputs": [
        {
          "output_type": "stream",
          "name": "stderr",
          "text": [
            "/usr/local/lib/python3.12/dist-packages/implicit/gpu/__init__.py:13: UserWarning: CUDA extension is built, but disabling GPU support because of 'Cuda Error: CUDA driver version is insufficient for CUDA runtime version (/tmp/pip-install-3_1r3os0/implicit_94401f4e88f44c80b4eee93486205df5/./implicit/gpu/utils.h:71)'\n",
            "  warnings.warn(\n"
          ]
        },
        {
          "output_type": "stream",
          "name": "stdout",
          "text": [
            "Random Hyperparameter Search: 12 trials\n",
            "------------------------------------------------------------\n"
          ]
        },
        {
          "output_type": "stream",
          "name": "stderr",
          "text": [
            "\rSearching hyperparameters:   0%|                         | 0/12 [00:00<?, ?it/s]/usr/local/lib/python3.12/dist-packages/implicit/cpu/als.py:95: RuntimeWarning: OpenBLAS is configured to use 2 threads. It is highly recommended to disable its internal threadpool by setting the environment variable 'OPENBLAS_NUM_THREADS=1' or by calling 'threadpoolctl.threadpool_limits(1, \"blas\")'. Having OpenBLAS use a threadpool can lead to severe performance issues here.\n",
            "  check_blas_config()\n",
            "Searching hyperparameters:   8%|█▍               | 1/12 [00:20<03:46, 20.63s/it]"
          ]
        },
        {
          "output_type": "stream",
          "name": "stdout",
          "text": [
            "Trial  1: P@10=0.1055 | f= 70 r=0.050 i=15 a=2.0 | 20.6s\n"
          ]
        },
        {
          "output_type": "stream",
          "name": "stderr",
          "text": [
            "Searching hyperparameters:  17%|██▊              | 2/12 [00:29<02:18, 13.89s/it]"
          ]
        },
        {
          "output_type": "stream",
          "name": "stdout",
          "text": [
            "Trial  2: P@10=0.1034 | f= 70 r=0.050 i=10 a=2.0 | 9.2s\n"
          ]
        },
        {
          "output_type": "stream",
          "name": "stderr",
          "text": [
            "Searching hyperparameters:  25%|████▎            | 3/12 [00:45<02:10, 14.51s/it]"
          ]
        },
        {
          "output_type": "stream",
          "name": "stdout",
          "text": [
            "Trial  3: P@10=0.0838 | f= 70 r=0.001 i=20 a=5.0 | 15.2s\n"
          ]
        },
        {
          "output_type": "stream",
          "name": "stderr",
          "text": [
            "Searching hyperparameters:  33%|█████▋           | 4/12 [01:01<02:03, 15.39s/it]"
          ]
        },
        {
          "output_type": "stream",
          "name": "stdout",
          "text": [
            "Trial  4: P@10=0.1318 | f= 70 r=0.100 i=20 a=0.5 | 16.7s\n"
          ]
        },
        {
          "output_type": "stream",
          "name": "stderr",
          "text": [
            "Searching hyperparameters:  42%|███████          | 5/12 [01:15<01:42, 14.71s/it]"
          ]
        },
        {
          "output_type": "stream",
          "name": "stdout",
          "text": [
            "Trial  5: P@10=0.0721 | f= 30 r=0.001 i=20 a=5.0 | 13.5s\n"
          ]
        },
        {
          "output_type": "stream",
          "name": "stderr",
          "text": [
            "Searching hyperparameters:  50%|████████▌        | 6/12 [01:30<01:28, 14.82s/it]"
          ]
        },
        {
          "output_type": "stream",
          "name": "stdout",
          "text": [
            "Trial  6: P@10=0.0838 | f= 70 r=0.001 i=20 a=5.0 | 15.0s\n"
          ]
        },
        {
          "output_type": "stream",
          "name": "stderr",
          "text": [
            "Searching hyperparameters:  58%|█████████▉       | 7/12 [01:49<01:20, 16.12s/it]"
          ]
        },
        {
          "output_type": "stream",
          "name": "stdout",
          "text": [
            "Trial  7: P@10=0.0916 | f=100 r=0.050 i=20 a=5.0 | 18.8s\n"
          ]
        },
        {
          "output_type": "stream",
          "name": "stderr",
          "text": [
            "Searching hyperparameters:  67%|███████████▎     | 8/12 [01:59<00:57, 14.41s/it]"
          ]
        },
        {
          "output_type": "stream",
          "name": "stdout",
          "text": [
            "Trial  8: P@10=0.0826 | f=100 r=0.050 i=10 a=5.0 | 10.7s\n"
          ]
        },
        {
          "output_type": "stream",
          "name": "stderr",
          "text": [
            "Searching hyperparameters:  75%|████████████▊    | 9/12 [02:15<00:44, 14.71s/it]"
          ]
        },
        {
          "output_type": "stream",
          "name": "stdout",
          "text": [
            "Trial  9: P@10=0.1247 | f=100 r=0.010 i=15 a=1.0 | 15.4s\n"
          ]
        },
        {
          "output_type": "stream",
          "name": "stderr",
          "text": [
            "Searching hyperparameters:  83%|█████████████▎  | 10/12 [02:31<00:30, 15.16s/it]"
          ]
        },
        {
          "output_type": "stream",
          "name": "stdout",
          "text": [
            "Trial 10: P@10=0.0896 | f=100 r=0.100 i=15 a=5.0 | 16.2s\n"
          ]
        },
        {
          "output_type": "stream",
          "name": "stderr",
          "text": [
            "Searching hyperparameters:  92%|██████████████▋ | 11/12 [02:49<00:16, 16.08s/it]"
          ]
        },
        {
          "output_type": "stream",
          "name": "stdout",
          "text": [
            "Trial 11: P@10=0.1098 | f=100 r=0.001 i=20 a=2.0 | 18.2s\n"
          ]
        },
        {
          "output_type": "stream",
          "name": "stderr",
          "text": [
            "Searching hyperparameters: 100%|████████████████| 12/12 [03:00<00:00, 15.03s/it]"
          ]
        },
        {
          "output_type": "stream",
          "name": "stdout",
          "text": [
            "Trial 12: P@10=0.1058 | f=100 r=0.010 i=10 a=2.0 | 10.8s\n",
            "\n",
            "============================================================\n",
            "Top 3 Configurations:\n",
            " factors  regularization  iterations  alpha  precision\n",
            "      70           0.100          20    0.5     0.1318\n",
            "     100           0.010          15    1.0     0.1247\n",
            "     100           0.001          20    2.0     0.1098\n",
            "\n",
            "============================================================\n",
            "Best Parameters:\n",
            "  factors=70, regularization=0.1, iterations=20, alpha=0.5\n",
            "  Validation Precision@10: 0.1318\n",
            "============================================================\n"
          ]
        },
        {
          "output_type": "stream",
          "name": "stderr",
          "text": [
            "\n"
          ]
        },
        {
          "output_type": "display_data",
          "data": {
            "text/plain": [
              "  0%|          | 0/20 [00:00<?, ?it/s]"
            ],
            "application/vnd.jupyter.widget-view+json": {
              "version_major": 2,
              "version_minor": 0,
              "model_id": "9e27b11390da496e8cfe1789a76c7e35"
            }
          },
          "metadata": {}
        },
        {
          "output_type": "stream",
          "name": "stdout",
          "text": [
            "Training complete.\n"
          ]
        }
      ]
    },
    {
      "cell_type": "markdown",
      "source": [
        "## Recommendation Generation Functions\n",
        "\n",
        "We'll implement functions to generate recommendations from both our baseline and ALS models, then evaluate their performance using standard recommendation metrics."
      ],
      "metadata": {
        "id": "gFFYKcsUHtEm"
      }
    },
    {
      "cell_type": "code",
      "source": [
        "def get_baseline_recommendations(k=10):\n",
        "    \"\"\"Return top K popular artists.\"\"\"\n",
        "    return top_artists_baseline[:k]\n",
        "\n",
        "def get_als_recommendations(user_idx, k=10):\n",
        "    \"\"\"\n",
        "    Get personalized ALS recommendations for a user.\n",
        "\n",
        "    Args:\n",
        "        user_idx: user index (0 to n_users-1)\n",
        "        k: number of recommendations\n",
        "\n",
        "    Returns:\n",
        "        artist_indices: array of recommended artist IDs\n",
        "        scores: prediction scores\n",
        "    \"\"\"\n",
        "    try:\n",
        "        # Get user's listening history (for filtering)\n",
        "        user_items = train_matrix[user_idx].tocsr()\n",
        "\n",
        "        recs, scores = als_model.recommend(\n",
        "            userid=user_idx,\n",
        "            user_items=user_items,\n",
        "            N=k,\n",
        "            filter_already_liked_items=True\n",
        "        )\n",
        "        return recs, scores\n",
        "\n",
        "    except Exception as e:\n",
        "        print(f\"Error getting recommendations for user {user_idx}: {e}\")\n",
        "        # Fallback to baseline\n",
        "        return np.array([]), np.array([])\n",
        "\n",
        "# Test the functions\n",
        "print(\"Testing recommendation functions...\")\n",
        "test_user = 0\n",
        "baseline_recs = get_baseline_recommendations(5)\n",
        "als_recs, als_scores = get_als_recommendations(test_user, 5)\n",
        "\n",
        "print(f\"Baseline recommendations: {baseline_recs}\")\n",
        "print(f\"ALS recommendations for user {test_user}: {als_recs}\")\n",
        "print(f\"ALS scores: {als_scores}\")"
      ],
      "metadata": {
        "id": "3pxojwGZHq7G",
        "colab": {
          "base_uri": "https://localhost:8080/"
        },
        "outputId": "b075dd80-d095-48e5-bc80-9ee600644eb1"
      },
      "execution_count": 12,
      "outputs": [
        {
          "output_type": "stream",
          "name": "stdout",
          "text": [
            "Testing recommendation functions...\n",
            "Baseline recommendations: [156 305 816 344 421]\n",
            "ALS recommendations for user 0: [ 264  283 8748   27 1217]\n",
            "ALS scores: [1.4489456 1.2920336 1.2068331 1.1972021 1.1942244]\n"
          ]
        }
      ]
    },
    {
      "cell_type": "markdown",
      "source": [
        "## Model Evaluation and Comparison\n",
        "\n",
        "Now we'll evaluate both models on our test set and compare their performance across multiple metrics."
      ],
      "metadata": {
        "id": "gCCRFRtcH2I9"
      }
    },
    {
      "cell_type": "code",
      "source": [
        "def evaluate_recommendations(model_name, get_recs_func, test_interactions, k=10):\n",
        "    \"\"\"\n",
        "    Evaluate recommendation quality using multiple metrics.\n",
        "\n",
        "    Args:\n",
        "        model_name (str): Name of the model being evaluated\n",
        "        get_recs_func (function): Function that generates recommendations\n",
        "                                   For baseline: takes only k\n",
        "                                   For other models: takes (user_idx, k)\n",
        "        test_interactions (list): List of test interaction dictionaries with keys:\n",
        "                                  'user_idx', 'item_idx', 'rating'\n",
        "        k (int): Number of recommendations to evaluate (default: 10)\n",
        "\n",
        "    Returns:\n",
        "        dict: Dictionary containing evaluation metrics:\n",
        "              - precision: Average precision@k across all users\n",
        "              - recall: Average recall@k across all users\n",
        "              - ndcg: Average NDCG@k across all users\n",
        "              - coverage: Fraction of items recommended at least once\n",
        "              - name: Model name string\n",
        "    \"\"\"\n",
        "    print(f\"\\nEvaluating {model_name}...\")\n",
        "\n",
        "    # Group test items by user\n",
        "    user_test_items = {}\n",
        "    for interaction in test_interactions:\n",
        "        user_idx = interaction['user_idx']\n",
        "        artist_idx = interaction['item_idx']\n",
        "        if user_idx not in user_test_items:\n",
        "            user_test_items[user_idx] = []\n",
        "        user_test_items[user_idx].append(artist_idx)\n",
        "\n",
        "    print(f\"  Evaluating on {len(user_test_items)} users\")\n",
        "\n",
        "    # Initialize metric lists\n",
        "    precisions = []\n",
        "    recalls = []\n",
        "    ndcgs = []\n",
        "    all_recommended = set()\n",
        "\n",
        "    for user_idx, true_items in user_test_items.items():\n",
        "        # Get recommendations based on model type\n",
        "        if model_name == \"Baseline\":\n",
        "            recs = get_recs_func(k)\n",
        "        else:\n",
        "            recs, _ = get_recs_func(user_idx, k)\n",
        "\n",
        "        # Ensure recommendations are valid indices\n",
        "        recs = np.array(recs)\n",
        "        valid_recs = recs[recs < train_matrix.shape[1]]\n",
        "\n",
        "        # Calculate hits\n",
        "        rec_set = set(valid_recs)\n",
        "        true_set = set(true_items)\n",
        "        hits = len(rec_set & true_set)\n",
        "\n",
        "        # Precision@k: fraction of recommendations that are relevant\n",
        "        precision = hits / k if k > 0 else 0\n",
        "        precisions.append(precision)\n",
        "\n",
        "        # Recall@k: fraction of relevant items that are recommended\n",
        "        recall = hits / len(true_set) if len(true_set) > 0 else 0\n",
        "        recalls.append(recall)\n",
        "\n",
        "        # NDCG@k: ranking quality metric (relevant items at top positions score higher)\n",
        "        dcg = 0.0\n",
        "        for i, item in enumerate(valid_recs[:k]):\n",
        "            if item in true_set:\n",
        "                dcg += 1.0 / np.log2(i + 2)\n",
        "\n",
        "        idcg = 0.0\n",
        "        for i in range(min(len(true_set), k)):\n",
        "            idcg += 1.0 / np.log2(i + 2)\n",
        "\n",
        "        ndcg = dcg / idcg if idcg > 0 else 0.0\n",
        "        ndcgs.append(ndcg)\n",
        "\n",
        "        # Track all recommended items for coverage\n",
        "        all_recommended.update(valid_recs)\n",
        "\n",
        "    # Calculate average metrics\n",
        "    avg_precision = np.mean(precisions)\n",
        "    avg_recall = np.mean(recalls)\n",
        "    avg_ndcg = np.mean(ndcgs)\n",
        "    coverage = len(all_recommended) / train_matrix.shape[1]\n",
        "\n",
        "    print(f\"  Precision@{k}: {avg_precision:.4f}\")\n",
        "    print(f\"  Recall@{k}: {avg_recall:.4f}\")\n",
        "    print(f\"  NDCG@{k}: {avg_ndcg:.4f}\")\n",
        "    print(f\"  Coverage: {coverage:.4f}\")\n",
        "\n",
        "    return {\n",
        "        'precision': avg_precision,\n",
        "        'recall': avg_recall,\n",
        "        'ndcg': avg_ndcg,\n",
        "        'coverage': coverage,\n",
        "        'name': model_name\n",
        "    }"
      ],
      "metadata": {
        "id": "IJZazULLH4yv"
      },
      "execution_count": 13,
      "outputs": []
    },
    {
      "cell_type": "code",
      "source": [
        "# Evaluate baseline\n",
        "baseline_results = evaluate_recommendations(\n",
        "    \"Baseline\",\n",
        "    get_baseline_recommendations,\n",
        "    test_interactions,\n",
        "    k=10\n",
        ")\n",
        "\n",
        "# Evaluate ALS\n",
        "als_results = evaluate_recommendations(\n",
        "    \"ALS\",\n",
        "    get_als_recommendations,\n",
        "    test_interactions,\n",
        "    k=10\n",
        ")\n",
        "\n",
        "# Compare results\n",
        "print(f\"\\n{'Metric':<15} {'Baseline':<12} {'ALS':<12} {'Improvement'}\")\n",
        "print(\"-\"*60)\n",
        "for metric in ['precision', 'recall', 'ndcg', 'coverage']:\n",
        "    base = baseline_results[metric]\n",
        "    als = als_results[metric]\n",
        "    improvement = ((als - base) / base * 100) if base > 0 else 0\n",
        "    print(f\"{metric.capitalize():<15} {base:<12.4f} {als:<12.4f} {improvement:>+7.1f}%\")"
      ],
      "metadata": {
        "colab": {
          "base_uri": "https://localhost:8080/"
        },
        "id": "OZrYjl_2Wv8G",
        "outputId": "d8c12e5c-be74-4d58-8157-a9af169a2e57"
      },
      "execution_count": 14,
      "outputs": [
        {
          "output_type": "stream",
          "name": "stdout",
          "text": [
            "\n",
            "Evaluating Baseline...\n",
            "  Evaluating on 20000 users\n",
            "  Precision@10: 0.0292\n",
            "  Recall@10: 0.0224\n",
            "  NDCG@10: 0.0328\n",
            "  Coverage: 0.0001\n",
            "\n",
            "Evaluating ALS...\n",
            "  Evaluating on 20000 users\n",
            "  Precision@10: 0.1380\n",
            "  Recall@10: 0.1059\n",
            "  NDCG@10: 0.1554\n",
            "  Coverage: 0.0669\n",
            "\n",
            "Metric          Baseline     ALS          Improvement\n",
            "------------------------------------------------------------\n",
            "Precision       0.0292       0.1380        +373.2%\n",
            "Recall          0.0224       0.1059        +372.4%\n",
            "Ndcg            0.0328       0.1554        +373.8%\n",
            "Coverage        0.0001       0.0669       +44690.0%\n"
          ]
        }
      ]
    },
    {
      "cell_type": "code",
      "source": [
        "fig, axes = plt.subplots(1, 2, figsize=(14, 5))\n",
        "\n",
        "# Performance comparison\n",
        "metrics = ['Precision@10', 'Recall@10', 'NDCG@10', 'Coverage']\n",
        "baseline_vals = [baseline_results['precision'], baseline_results['recall'], baseline_results['ndcg'], baseline_results['coverage']]\n",
        "als_vals = [als_results['precision'], als_results['recall'], als_results['ndcg'], als_results['coverage']]\n",
        "\n",
        "\n",
        "x = np.arange(len(metrics))\n",
        "width = 0.35\n",
        "\n",
        "axes[0].bar(x - width/2, baseline_vals, width, label='Baseline', alpha=0.8, color='skyblue')\n",
        "axes[0].bar(x + width/2, als_vals, width, label='ALS Model', alpha=0.8, color='lightcoral')\n",
        "axes[0].set_ylabel('Score')\n",
        "axes[0].set_title('Model Performance Comparison')\n",
        "axes[0].set_xticks(x)\n",
        "axes[0].set_xticklabels(metrics)\n",
        "axes[0].legend()\n",
        "axes[0].grid(axis='y', alpha=0.3)\n",
        "\n",
        "# Improvement percentages\n",
        "improvements = []\n",
        "for base, als in zip(baseline_vals, als_vals):\n",
        "    imp = ((als - base) / base * 100) if base > 0 else 0\n",
        "    improvements.append(imp)\n",
        "\n",
        "colors = ['green' if x > 0 else 'red' for x in improvements]\n",
        "bars = axes[1].bar(metrics, improvements, color=colors, alpha=0.7)\n",
        "axes[1].set_ylabel('Improvement (%)')\n",
        "axes[1].set_title('ALS vs Baseline Improvement')\n",
        "axes[1].axhline(y=0, color='black', linestyle='-', linewidth=0.8)\n",
        "axes[1].grid(axis='y', alpha=0.3)\n",
        "\n",
        "# Add value labels\n",
        "for bar, val in zip(bars, improvements):\n",
        "    height = bar.get_height()\n",
        "    axes[1].text(bar.get_x() + bar.get_width()/2., height + (2 if height > 0 else -5),\n",
        "                f'{val:.1f}%', ha='center', va='bottom' if height > 0 else 'top')\n",
        "\n",
        "plt.tight_layout()\n",
        "plt.show()"
      ],
      "metadata": {
        "id": "P66FZSrfH83b",
        "colab": {
          "base_uri": "https://localhost:8080/",
          "height": 492
        },
        "outputId": "1a662797-ed16-4c3c-8cae-411ed6d34941"
      },
      "execution_count": 15,
      "outputs": [
        {
          "output_type": "display_data",
          "data": {
            "text/plain": [
              "<Figure size 1400x500 with 2 Axes>"
            ],
            "image/png": "[encoded data removed]"
          },
          "metadata": {}
        }
      ]
    },
    {
      "cell_type": "markdown",
      "source": [
        "## Sample Recommendations Analysis\n",
        "\n",
        "Let's examine actual recommendations for a sample user to understand the difference between baseline and collaborative filtering approaches."
      ],
      "metadata": {
        "id": "4inHpfJ0H_k2"
      }
    },
    {
      "cell_type": "code",
      "source": [
        "sample_user = 0\n",
        "\n",
        "# User's profile\n",
        "user_artists = train_matrix[sample_user].nonzero()[1]\n",
        "total_plays = train_matrix[sample_user].sum()\n",
        "\n",
        "print(f\"Sample User {sample_user} Profile:\")\n",
        "print(f\"  Artists listened to: {len(user_artists)}\")\n",
        "print(f\"  Total plays: {total_plays}\")\n",
        "\n",
        "# Get recommendations\n",
        "baseline_recs = get_baseline_recommendations(5)\n",
        "als_recs, als_scores = get_als_recommendations(sample_user, 5)\n",
        "\n",
        "print(f\"\\nBaseline Recommendations (Same for Everyone):\")\n",
        "for i, artist_idx in enumerate(baseline_recs):\n",
        "    plays = int(artist_popularity[artist_idx])\n",
        "    print(f\"  {i+1}. Artist {artist_idx} ({plays:,} total plays)\")\n",
        "\n",
        "print(f\"\\nALS Recommendations (Personalized for User {sample_user}):\")\n",
        "for i, (artist_idx, score) in enumerate(zip(als_recs, als_scores)):\n",
        "    print(f\"  {i+1}. Artist {artist_idx} (score: {score:.3f})\")\n",
        "\n",
        "# Check against test set\n",
        "user_test_items = [item['item_idx'] for item in test_interactions if item['user_idx'] == sample_user]\n",
        "if user_test_items:\n",
        "    baseline_hits = len(set(baseline_recs) & set(user_test_items))\n",
        "    als_hits = len(set(als_recs) & set(user_test_items))\n",
        "    print(f\"\\nActual Relevance (Test Set Hits):\")\n",
        "    print(f\"  Baseline: {baseline_hits}/5\")\n",
        "    print(f\"  ALS: {als_hits}/5\")"
      ],
      "metadata": {
        "id": "VpPcXcoWIBQo",
        "colab": {
          "base_uri": "https://localhost:8080/"
        },
        "outputId": "2adf8817-ecd6-4080-b175-05b77998d7be"
      },
      "execution_count": 16,
      "outputs": [
        {
          "output_type": "stream",
          "name": "stdout",
          "text": [
            "Sample User 0 Profile:\n",
            "  Artists listened to: 52\n",
            "  Total plays: 13440\n",
            "\n",
            "Baseline Recommendations (Same for Everyone):\n",
            "  1. Artist 156 (1,010,803 total plays)\n",
            "  2. Artist 305 (734,360 total plays)\n",
            "  3. Artist 816 (542,673 total plays)\n",
            "  4. Artist 344 (490,337 total plays)\n",
            "  5. Artist 421 (444,171 total plays)\n",
            "\n",
            "ALS Recommendations (Personalized for User 0):\n",
            "  1. Artist 264 (score: 1.449)\n",
            "  2. Artist 283 (score: 1.292)\n",
            "  3. Artist 8748 (score: 1.207)\n",
            "  4. Artist 27 (score: 1.197)\n",
            "  5. Artist 1217 (score: 1.194)\n",
            "\n",
            "Actual Relevance (Test Set Hits):\n",
            "  Baseline: 0/5\n",
            "  ALS: 1/5\n"
          ]
        }
      ]
    }
  ]
}