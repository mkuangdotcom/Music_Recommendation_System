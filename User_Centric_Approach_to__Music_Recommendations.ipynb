{
  "nbformat": 4,
  "nbformat_minor": 0,
  "metadata": {
    "colab": {
      "provenance": [],
      "authorship_tag": "ABX9TyPJDDqIt99edceAgyKRtDVx",
      "include_colab_link": true
    },
    "kernelspec": {
      "name": "python3",
      "display_name": "Python 3"
    },
    "language_info": {
      "name": "python"
    },
    "widgets": {
      "application/vnd.jupyter.widget-state+json": {
        "c0a0c6db5de349f9b62f1f204af69c0c": {
          "model_module": "@jupyter-widgets/controls",
          "model_name": "HBoxModel",
          "model_module_version": "1.5.0",
          "state": {
            "_dom_classes": [],
            "_model_module": "@jupyter-widgets/controls",
            "_model_module_version": "1.5.0",
            "_model_name": "HBoxModel",
            "_view_count": null,
            "_view_module": "@jupyter-widgets/controls",
            "_view_module_version": "1.5.0",
            "_view_name": "HBoxView",
            "box_style": "",
            "children": [
              "IPY_MODEL_df78dedfa5174b75a9a576f3a536ef0b",
              "IPY_MODEL_ff5cf6bbbc8040da95ff237cb31b8d80",
              "IPY_MODEL_b4f44bdd40c241b6b7b3fa38cc59f91d"
            ],
            "layout": "IPY_MODEL_e8a7eec998d345899035a1b0bf35e607"
          }
        },
        "df78dedfa5174b75a9a576f3a536ef0b": {
          "model_module": "@jupyter-widgets/controls",
          "model_name": "HTMLModel",
          "model_module_version": "1.5.0",
          "state": {
            "_dom_classes": [],
            "_model_module": "@jupyter-widgets/controls",
            "_model_module_version": "1.5.0",
            "_model_name": "HTMLModel",
            "_view_count": null,
            "_view_module": "@jupyter-widgets/controls",
            "_view_module_version": "1.5.0",
            "_view_name": "HTMLView",
            "description": "",
            "description_tooltip": null,
            "layout": "IPY_MODEL_7de0bc6884404a9e890ca483d2224c66",
            "placeholder": "​",
            "style": "IPY_MODEL_58ae958418a544778aabb7fe65ab30e8",
            "value": "100%"
          }
        },
        "ff5cf6bbbc8040da95ff237cb31b8d80": {
          "model_module": "@jupyter-widgets/controls",
          "model_name": "FloatProgressModel",
          "model_module_version": "1.5.0",
          "state": {
            "_dom_classes": [],
            "_model_module": "@jupyter-widgets/controls",
            "_model_module_version": "1.5.0",
            "_model_name": "FloatProgressModel",
            "_view_count": null,
            "_view_module": "@jupyter-widgets/controls",
            "_view_module_version": "1.5.0",
            "_view_name": "ProgressView",
            "bar_style": "success",
            "description": "",
            "description_tooltip": null,
            "layout": "IPY_MODEL_ca706148b6be4b1e914264725579f269",
            "max": 15,
            "min": 0,
            "orientation": "horizontal",
            "style": "IPY_MODEL_dd0bf1bf5094432bba4c150f6e50c21a",
            "value": 15
          }
        },
        "b4f44bdd40c241b6b7b3fa38cc59f91d": {
          "model_module": "@jupyter-widgets/controls",
          "model_name": "HTMLModel",
          "model_module_version": "1.5.0",
          "state": {
            "_dom_classes": [],
            "_model_module": "@jupyter-widgets/controls",
            "_model_module_version": "1.5.0",
            "_model_name": "HTMLModel",
            "_view_count": null,
            "_view_module": "@jupyter-widgets/controls",
            "_view_module_version": "1.5.0",
            "_view_name": "HTMLView",
            "description": "",
            "description_tooltip": null,
            "layout": "IPY_MODEL_2c81bdb791754c579820f64197a52598",
            "placeholder": "​",
            "style": "IPY_MODEL_bbf11e77ee3047718d5b7f50209c6059",
            "value": " 15/15 [00:09&lt;00:00,  1.31it/s]"
          }
        },
        "e8a7eec998d345899035a1b0bf35e607": {
          "model_module": "@jupyter-widgets/base",
          "model_name": "LayoutModel",
          "model_module_version": "1.2.0",
          "state": {
            "_model_module": "@jupyter-widgets/base",
            "_model_module_version": "1.2.0",
            "_model_name": "LayoutModel",
            "_view_count": null,
            "_view_module": "@jupyter-widgets/base",
            "_view_module_version": "1.2.0",
            "_view_name": "LayoutView",
            "align_content": null,
            "align_items": null,
            "align_self": null,
            "border": null,
            "bottom": null,
            "display": null,
            "flex": null,
            "flex_flow": null,
            "grid_area": null,
            "grid_auto_columns": null,
            "grid_auto_flow": null,
            "grid_auto_rows": null,
            "grid_column": null,
            "grid_gap": null,
            "grid_row": null,
            "grid_template_areas": null,
            "grid_template_columns": null,
            "grid_template_rows": null,
            "height": null,
            "justify_content": null,
            "justify_items": null,
            "left": null,
            "margin": null,
            "max_height": null,
            "max_width": null,
            "min_height": null,
            "min_width": null,
            "object_fit": null,
            "object_position": null,
            "order": null,
            "overflow": null,
            "overflow_x": null,
            "overflow_y": null,
            "padding": null,
            "right": null,
            "top": null,
            "visibility": null,
            "width": null
          }
        },
        "7de0bc6884404a9e890ca483d2224c66": {
          "model_module": "@jupyter-widgets/base",
          "model_name": "LayoutModel",
          "model_module_version": "1.2.0",
          "state": {
            "_model_module": "@jupyter-widgets/base",
            "_model_module_version": "1.2.0",
            "_model_name": "LayoutModel",
            "_view_count": null,
            "_view_module": "@jupyter-widgets/base",
            "_view_module_version": "1.2.0",
            "_view_name": "LayoutView",
            "align_content": null,
            "align_items": null,
            "align_self": null,
            "border": null,
            "bottom": null,
            "display": null,
            "flex": null,
            "flex_flow": null,
            "grid_area": null,
            "grid_auto_columns": null,
            "grid_auto_flow": null,
            "grid_auto_rows": null,
            "grid_column": null,
            "grid_gap": null,
            "grid_row": null,
            "grid_template_areas": null,
            "grid_template_columns": null,
            "grid_template_rows": null,
            "height": null,
            "justify_content": null,
            "justify_items": null,
            "left": null,
            "margin": null,
            "max_height": null,
            "max_width": null,
            "min_height": null,
            "min_width": null,
            "object_fit": null,
            "object_position": null,
            "order": null,
            "overflow": null,
            "overflow_x": null,
            "overflow_y": null,
            "padding": null,
            "right": null,
            "top": null,
            "visibility": null,
            "width": null
          }
        },
        "58ae958418a544778aabb7fe65ab30e8": {
          "model_module": "@jupyter-widgets/controls",
          "model_name": "DescriptionStyleModel",
          "model_module_version": "1.5.0",
          "state": {
            "_model_module": "@jupyter-widgets/controls",
            "_model_module_version": "1.5.0",
            "_model_name": "DescriptionStyleModel",
            "_view_count": null,
            "_view_module": "@jupyter-widgets/base",
            "_view_module_version": "1.2.0",
            "_view_name": "StyleView",
            "description_width": ""
          }
        },
        "ca706148b6be4b1e914264725579f269": {
          "model_module": "@jupyter-widgets/base",
          "model_name": "LayoutModel",
          "model_module_version": "1.2.0",
          "state": {
            "_model_module": "@jupyter-widgets/base",
            "_model_module_version": "1.2.0",
            "_model_name": "LayoutModel",
            "_view_count": null,
            "_view_module": "@jupyter-widgets/base",
            "_view_module_version": "1.2.0",
            "_view_name": "LayoutView",
            "align_content": null,
            "align_items": null,
            "align_self": null,
            "border": null,
            "bottom": null,
            "display": null,
            "flex": null,
            "flex_flow": null,
            "grid_area": null,
            "grid_auto_columns": null,
            "grid_auto_flow": null,
            "grid_auto_rows": null,
            "grid_column": null,
            "grid_gap": null,
            "grid_row": null,
            "grid_template_areas": null,
            "grid_template_columns": null,
            "grid_template_rows": null,
            "height": null,
            "justify_content": null,
            "justify_items": null,
            "left": null,
            "margin": null,
            "max_height": null,
            "max_width": null,
            "min_height": null,
            "min_width": null,
            "object_fit": null,
            "object_position": null,
            "order": null,
            "overflow": null,
            "overflow_x": null,
            "overflow_y": null,
            "padding": null,
            "right": null,
            "top": null,
            "visibility": null,
            "width": null
          }
        },
        "dd0bf1bf5094432bba4c150f6e50c21a": {
          "model_module": "@jupyter-widgets/controls",
          "model_name": "ProgressStyleModel",
          "model_module_version": "1.5.0",
          "state": {
            "_model_module": "@jupyter-widgets/controls",
            "_model_module_version": "1.5.0",
            "_model_name": "ProgressStyleModel",
            "_view_count": null,
            "_view_module": "@jupyter-widgets/base",
            "_view_module_version": "1.2.0",
            "_view_name": "StyleView",
            "bar_color": null,
            "description_width": ""
          }
        },
        "2c81bdb791754c579820f64197a52598": {
          "model_module": "@jupyter-widgets/base",
          "model_name": "LayoutModel",
          "model_module_version": "1.2.0",
          "state": {
            "_model_module": "@jupyter-widgets/base",
            "_model_module_version": "1.2.0",
            "_model_name": "LayoutModel",
            "_view_count": null,
            "_view_module": "@jupyter-widgets/base",
            "_view_module_version": "1.2.0",
            "_view_name": "LayoutView",
            "align_content": null,
            "align_items": null,
            "align_self": null,
            "border": null,
            "bottom": null,
            "display": null,
            "flex": null,
            "flex_flow": null,
            "grid_area": null,
            "grid_auto_columns": null,
            "grid_auto_flow": null,
            "grid_auto_rows": null,
            "grid_column": null,
            "grid_gap": null,
            "grid_row": null,
            "grid_template_areas": null,
            "grid_template_columns": null,
            "grid_template_rows": null,
            "height": null,
            "justify_content": null,
            "justify_items": null,
            "left": null,
            "margin": null,
            "max_height": null,
            "max_width": null,
            "min_height": null,
            "min_width": null,
            "object_fit": null,
            "object_position": null,
            "order": null,
            "overflow": null,
            "overflow_x": null,
            "overflow_y": null,
            "padding": null,
            "right": null,
            "top": null,
            "visibility": null,
            "width": null
          }
        },
        "bbf11e77ee3047718d5b7f50209c6059": {
          "model_module": "@jupyter-widgets/controls",
          "model_name": "DescriptionStyleModel",
          "model_module_version": "1.5.0",
          "state": {
            "_model_module": "@jupyter-widgets/controls",
            "_model_module_version": "1.5.0",
            "_model_name": "DescriptionStyleModel",
            "_view_count": null,
            "_view_module": "@jupyter-widgets/base",
            "_view_module_version": "1.2.0",
            "_view_name": "StyleView",
            "description_width": ""
          }
        }
      }
    }
  },
  "cells": [
    {
      "cell_type": "markdown",
      "metadata": {
        "id": "view-in-github",
        "colab_type": "text"
      },
      "source": [
        "<a href=\"https://colab.research.google.com/github/mkuangdotcom/Music_Recommendation_System/blob/main/User_Centric_Approach_to__Music_Recommendations.ipynb\" target=\"_parent\"><img src=\"https://colab.research.google.com/assets/colab-badge.svg\" alt=\"Open In Colab\"/></a>"
      ]
    },
    {
      "cell_type": "markdown",
      "source": [
        "# Music Recommendation System: Collaborative Filtering Approach\n",
        "\n",
        "**Name:** Foo Ming Kuang\n",
        "\n",
        "**Student ID:** 26130714\n",
        "\n",
        "**Task Type:** Option 2 - Practical Machine Learning System  \n",
        "\n"
      ],
      "metadata": {
        "id": "h14fvXp1XeYM"
      }
    },
    {
      "cell_type": "markdown",
      "source": [
        "# Problem Statement\n",
        "\n",
        "\n",
        "Music streaming platforms face the challenge of recommending relevant content from millions of tracks. Simple popularity-based recommendations suffer from:\n",
        "- **Popularity bias:** Already-popular items receive disproportionate exposure\n",
        "- **Cold-start problems:** New artists struggle to gain visibility\n",
        "- **Zero personalization:** All users receive identical recommendations\n",
        "This project implements and compares three recommendation approaches:\n",
        "\n",
        "1. Baseline: Popularity-based recommendations (recommend top songs to everyone)\n",
        "2. ALS (Alternating Least Squares): Advanced collaborative filtering"
      ],
      "metadata": {
        "id": "BzsWzoEVk2ec"
      }
    },
    {
      "cell_type": "markdown",
      "source": [
        "In this project, we use the Last.fm 360K dataset, scaled to 20,000 users for computational efficiency.\n",
        "\n",
        "Dataset: http://ocelma.net/MusicRecommendationDataset/lastfm-360K.html (depreated)\n",
        "\n",
        "Download link: https://zenodo.org/record/6090214/files/lastfm-dataset-360K.tar.gz"
      ],
      "metadata": {
        "id": "LRooI8x6k-Vz"
      }
    },
    {
      "cell_type": "code",
      "source": [
        "!pip install implicit pandas numpy scipy matplotlib seaborn scikit-learn tqdm"
      ],
      "metadata": {
        "colab": {
          "base_uri": "https://localhost:8080/",
          "height": 0
        },
        "id": "WB8TZ85gYgiU",
        "outputId": "8fee08ef-02ac-4f38-94ad-25cad2bcdef5"
      },
      "execution_count": 1,
      "outputs": [
        {
          "output_type": "stream",
          "name": "stdout",
          "text": [
            "Requirement already satisfied: implicit in /usr/local/lib/python3.12/dist-packages (0.7.2)\n",
            "Requirement already satisfied: pandas in /usr/local/lib/python3.12/dist-packages (2.2.2)\n",
            "Requirement already satisfied: numpy in /usr/local/lib/python3.12/dist-packages (2.0.2)\n",
            "Requirement already satisfied: scipy in /usr/local/lib/python3.12/dist-packages (1.16.2)\n",
            "Requirement already satisfied: matplotlib in /usr/local/lib/python3.12/dist-packages (3.10.0)\n",
            "Requirement already satisfied: seaborn in /usr/local/lib/python3.12/dist-packages (0.13.2)\n",
            "Requirement already satisfied: scikit-learn in /usr/local/lib/python3.12/dist-packages (1.6.1)\n",
            "Requirement already satisfied: tqdm in /usr/local/lib/python3.12/dist-packages (4.67.1)\n",
            "Requirement already satisfied: threadpoolctl in /usr/local/lib/python3.12/dist-packages (from implicit) (3.6.0)\n",
            "Requirement already satisfied: python-dateutil>=2.8.2 in /usr/local/lib/python3.12/dist-packages (from pandas) (2.9.0.post0)\n",
            "Requirement already satisfied: pytz>=2020.1 in /usr/local/lib/python3.12/dist-packages (from pandas) (2025.2)\n",
            "Requirement already satisfied: tzdata>=2022.7 in /usr/local/lib/python3.12/dist-packages (from pandas) (2025.2)\n",
            "Requirement already satisfied: contourpy>=1.0.1 in /usr/local/lib/python3.12/dist-packages (from matplotlib) (1.3.3)\n",
            "Requirement already satisfied: cycler>=0.10 in /usr/local/lib/python3.12/dist-packages (from matplotlib) (0.12.1)\n",
            "Requirement already satisfied: fonttools>=4.22.0 in /usr/local/lib/python3.12/dist-packages (from matplotlib) (4.60.1)\n",
            "Requirement already satisfied: kiwisolver>=1.3.1 in /usr/local/lib/python3.12/dist-packages (from matplotlib) (1.4.9)\n",
            "Requirement already satisfied: packaging>=20.0 in /usr/local/lib/python3.12/dist-packages (from matplotlib) (25.0)\n",
            "Requirement already satisfied: pillow>=8 in /usr/local/lib/python3.12/dist-packages (from matplotlib) (11.3.0)\n",
            "Requirement already satisfied: pyparsing>=2.3.1 in /usr/local/lib/python3.12/dist-packages (from matplotlib) (3.2.5)\n",
            "Requirement already satisfied: joblib>=1.2.0 in /usr/local/lib/python3.12/dist-packages (from scikit-learn) (1.5.2)\n",
            "Requirement already satisfied: six>=1.5 in /usr/local/lib/python3.12/dist-packages (from python-dateutil>=2.8.2->pandas) (1.17.0)\n"
          ]
        }
      ]
    },
    {
      "cell_type": "markdown",
      "source": [
        "## Data Loading\n",
        "About the dataset:\n",
        "The Last.fm 360K dataset contains user-artist play counts from the Last.fm music streaming service. It includes:\n",
        "- 360,000 users\n",
        "- 170,000 artists\n",
        "- 17 million play count records"
      ],
      "metadata": {
        "id": "SiM01EczY8h4"
      }
    },
    {
      "cell_type": "code",
      "source": [
        "!curl -L -o lastfm-dataset-360K.tar.gz https://zenodo.org/records/6090214/files/lastfm-dataset-360K.tar.gz\n",
        "\n",
        "# Extract\n",
        "!tar -xzf lastfm-dataset-360K.tar.gz\n",
        "\n",
        "# Remove tar file\n",
        "!rm lastfm-dataset-360K.tar.gz\n",
        "\n",
        "data_path = 'lastfm-dataset-360K/usersha1-artmbid-artname-plays.tsv'"
      ],
      "metadata": {
        "id": "RmYBFiHyY8Jr",
        "colab": {
          "base_uri": "https://localhost:8080/",
          "height": 0
        },
        "outputId": "5285eb51-cbbc-4a61-e2b1-1b3007977518"
      },
      "execution_count": 2,
      "outputs": [
        {
          "output_type": "stream",
          "name": "stdout",
          "text": [
            "  % Total    % Received % Xferd  Average Speed   Time    Time     Time  Current\n",
            "                                 Dload  Upload   Total   Spent    Left  Speed\n",
            "100  542M  100  542M    0     0  6354k      0  0:01:27  0:01:27 --:--:-- 3497k\n"
          ]
        }
      ]
    },
    {
      "cell_type": "markdown",
      "metadata": {
        "id": "7ecb831e"
      },
      "source": [
        "\n",
        "The Last.fm 360K dataset contains the following variables:\n",
        "\n",
        "*   **user_id:** A unique identifier for each user.\n",
        "*   **artist_id:** A unique identifier for each artist.\n",
        "*   **artist_name:** The name of the artist.\n",
        "*   **play_count:** The number of times the user has played the artist's songs. This represents the strength of the implicit feedback."
      ]
    },
    {
      "cell_type": "code",
      "source": [
        "import pandas as pd\n",
        "\n",
        "# Load\n",
        "df = pd.read_csv(data_path, sep='\\t', header=None,\n",
        "                 names=['user_id', 'artist_id', 'artist_name', 'play_count'])\n",
        "\n",
        "print(f\"Total interactions: {len(df):,}\")\n",
        "print(f\"Unique users: {df['user_id'].nunique():,}\")\n",
        "print(f\"Unique artists: {df['artist_id'].nunique():,}\")\n",
        "print(f\"Play count range: {df['play_count'].min()} - {df['play_count'].max()}\")\n",
        "\n",
        "df.head()"
      ],
      "metadata": {
        "id": "xx8CIh1Labc6",
        "colab": {
          "base_uri": "https://localhost:8080/",
          "height": 275
        },
        "outputId": "bbc275b6-13ba-4f60-e62d-e8c920694ab2"
      },
      "execution_count": 3,
      "outputs": [
        {
          "output_type": "stream",
          "name": "stdout",
          "text": [
            "Total interactions: 17,535,655\n",
            "Unique users: 358,868\n",
            "Unique artists: 160,112\n",
            "Play count range: 0 - 419157\n"
          ]
        },
        {
          "output_type": "execute_result",
          "data": {
            "text/plain": [
              "                                    user_id  \\\n",
              "0  00000c289a1829a808ac09c00daf10bc3c4e223b   \n",
              "1  00000c289a1829a808ac09c00daf10bc3c4e223b   \n",
              "2  00000c289a1829a808ac09c00daf10bc3c4e223b   \n",
              "3  00000c289a1829a808ac09c00daf10bc3c4e223b   \n",
              "4  00000c289a1829a808ac09c00daf10bc3c4e223b   \n",
              "\n",
              "                              artist_id           artist_name  play_count  \n",
              "0  3bd73256-3905-4f3a-97e2-8b341527f805       betty blowtorch        2137  \n",
              "1  f2fb0ff0-5679-42ec-a55c-15109ce6e320             die Ärzte        1099  \n",
              "2  b3ae82c2-e60b-4551-a76d-6620f1b456aa     melissa etheridge         897  \n",
              "3  3d6bbeb7-f90e-4d10-b440-e153c0d10b53             elvenking         717  \n",
              "4  bbd2ffd7-17f4-4506-8572-c1ea58c3f9a8  juliette & the licks         706  "
            ],
            "text/html": [
              "\n",
              "  <div id=\"df-7c977f69-6fa3-4505-a3d7-93e9239ba862\" class=\"colab-df-container\">\n",
              "    <div>\n",
              "<style scoped>\n",
              "    .dataframe tbody tr th:only-of-type {\n",
              "        vertical-align: middle;\n",
              "    }\n",
              "\n",
              "    .dataframe tbody tr th {\n",
              "        vertical-align: top;\n",
              "    }\n",
              "\n",
              "    .dataframe thead th {\n",
              "        text-align: right;\n",
              "    }\n",
              "</style>\n",
              "<table border=\"1\" class=\"dataframe\">\n",
              "  <thead>\n",
              "    <tr style=\"text-align: right;\">\n",
              "      <th></th>\n",
              "      <th>user_id</th>\n",
              "      <th>artist_id</th>\n",
              "      <th>artist_name</th>\n",
              "      <th>play_count</th>\n",
              "    </tr>\n",
              "  </thead>\n",
              "  <tbody>\n",
              "    <tr>\n",
              "      <th>0</th>\n",
              "      <td>00000c289a1829a808ac09c00daf10bc3c4e223b</td>\n",
              "      <td>3bd73256-3905-4f3a-97e2-8b341527f805</td>\n",
              "      <td>betty blowtorch</td>\n",
              "      <td>2137</td>\n",
              "    </tr>\n",
              "    <tr>\n",
              "      <th>1</th>\n",
              "      <td>00000c289a1829a808ac09c00daf10bc3c4e223b</td>\n",
              "      <td>f2fb0ff0-5679-42ec-a55c-15109ce6e320</td>\n",
              "      <td>die Ärzte</td>\n",
              "      <td>1099</td>\n",
              "    </tr>\n",
              "    <tr>\n",
              "      <th>2</th>\n",
              "      <td>00000c289a1829a808ac09c00daf10bc3c4e223b</td>\n",
              "      <td>b3ae82c2-e60b-4551-a76d-6620f1b456aa</td>\n",
              "      <td>melissa etheridge</td>\n",
              "      <td>897</td>\n",
              "    </tr>\n",
              "    <tr>\n",
              "      <th>3</th>\n",
              "      <td>00000c289a1829a808ac09c00daf10bc3c4e223b</td>\n",
              "      <td>3d6bbeb7-f90e-4d10-b440-e153c0d10b53</td>\n",
              "      <td>elvenking</td>\n",
              "      <td>717</td>\n",
              "    </tr>\n",
              "    <tr>\n",
              "      <th>4</th>\n",
              "      <td>00000c289a1829a808ac09c00daf10bc3c4e223b</td>\n",
              "      <td>bbd2ffd7-17f4-4506-8572-c1ea58c3f9a8</td>\n",
              "      <td>juliette &amp; the licks</td>\n",
              "      <td>706</td>\n",
              "    </tr>\n",
              "  </tbody>\n",
              "</table>\n",
              "</div>\n",
              "    <div class=\"colab-df-buttons\">\n",
              "\n",
              "  <div class=\"colab-df-container\">\n",
              "    <button class=\"colab-df-convert\" onclick=\"convertToInteractive('df-7c977f69-6fa3-4505-a3d7-93e9239ba862')\"\n",
              "            title=\"Convert this dataframe to an interactive table.\"\n",
              "            style=\"display:none;\">\n",
              "\n",
              "  <svg xmlns=\"http://www.w3.org/2000/svg\" height=\"24px\" viewBox=\"0 -960 960 960\">\n",
              "    <path d=\"M120-120v-720h720v720H120Zm60-500h600v-160H180v160Zm220 220h160v-160H400v160Zm0 220h160v-160H400v160ZM180-400h160v-160H180v160Zm440 0h160v-160H620v160ZM180-180h160v-160H180v160Zm440 0h160v-160H620v160Z\"/>\n",
              "  </svg>\n",
              "    </button>\n",
              "\n",
              "  <style>\n",
              "    .colab-df-container {\n",
              "      display:flex;\n",
              "      gap: 12px;\n",
              "    }\n",
              "\n",
              "    .colab-df-convert {\n",
              "      background-color: #E8F0FE;\n",
              "      border: none;\n",
              "      border-radius: 50%;\n",
              "      cursor: pointer;\n",
              "      display: none;\n",
              "      fill: #1967D2;\n",
              "      height: 32px;\n",
              "      padding: 0 0 0 0;\n",
              "      width: 32px;\n",
              "    }\n",
              "\n",
              "    .colab-df-convert:hover {\n",
              "      background-color: #E2EBFA;\n",
              "      box-shadow: 0px 1px 2px rgba(60, 64, 67, 0.3), 0px 1px 3px 1px rgba(60, 64, 67, 0.15);\n",
              "      fill: #174EA6;\n",
              "    }\n",
              "\n",
              "    .colab-df-buttons div {\n",
              "      margin-bottom: 4px;\n",
              "    }\n",
              "\n",
              "    [theme=dark] .colab-df-convert {\n",
              "      background-color: #3B4455;\n",
              "      fill: #D2E3FC;\n",
              "    }\n",
              "\n",
              "    [theme=dark] .colab-df-convert:hover {\n",
              "      background-color: #434B5C;\n",
              "      box-shadow: 0px 1px 3px 1px rgba(0, 0, 0, 0.15);\n",
              "      filter: drop-shadow(0px 1px 2px rgba(0, 0, 0, 0.3));\n",
              "      fill: #FFFFFF;\n",
              "    }\n",
              "  </style>\n",
              "\n",
              "    <script>\n",
              "      const buttonEl =\n",
              "        document.querySelector('#df-7c977f69-6fa3-4505-a3d7-93e9239ba862 button.colab-df-convert');\n",
              "      buttonEl.style.display =\n",
              "        google.colab.kernel.accessAllowed ? 'block' : 'none';\n",
              "\n",
              "      async function convertToInteractive(key) {\n",
              "        const element = document.querySelector('#df-7c977f69-6fa3-4505-a3d7-93e9239ba862');\n",
              "        const dataTable =\n",
              "          await google.colab.kernel.invokeFunction('convertToInteractive',\n",
              "                                                    [key], {});\n",
              "        if (!dataTable) return;\n",
              "\n",
              "        const docLinkHtml = 'Like what you see? Visit the ' +\n",
              "          '<a target=\"_blank\" href=https://colab.research.google.com/notebooks/data_table.ipynb>data table notebook</a>'\n",
              "          + ' to learn more about interactive tables.';\n",
              "        element.innerHTML = '';\n",
              "        dataTable['output_type'] = 'display_data';\n",
              "        await google.colab.output.renderOutput(dataTable, element);\n",
              "        const docLink = document.createElement('div');\n",
              "        docLink.innerHTML = docLinkHtml;\n",
              "        element.appendChild(docLink);\n",
              "      }\n",
              "    </script>\n",
              "  </div>\n",
              "\n",
              "\n",
              "    <div id=\"df-6f6e09e4-e12a-4ce0-8089-2ebd81ae64bc\">\n",
              "      <button class=\"colab-df-quickchart\" onclick=\"quickchart('df-6f6e09e4-e12a-4ce0-8089-2ebd81ae64bc')\"\n",
              "                title=\"Suggest charts\"\n",
              "                style=\"display:none;\">\n",
              "\n",
              "<svg xmlns=\"http://www.w3.org/2000/svg\" height=\"24px\"viewBox=\"0 0 24 24\"\n",
              "     width=\"24px\">\n",
              "    <g>\n",
              "        <path d=\"M19 3H5c-1.1 0-2 .9-2 2v14c0 1.1.9 2 2 2h14c1.1 0 2-.9 2-2V5c0-1.1-.9-2-2-2zM9 17H7v-7h2v7zm4 0h-2V7h2v10zm4 0h-2v-4h2v4z\"/>\n",
              "    </g>\n",
              "</svg>\n",
              "      </button>\n",
              "\n",
              "<style>\n",
              "  .colab-df-quickchart {\n",
              "      --bg-color: #E8F0FE;\n",
              "      --fill-color: #1967D2;\n",
              "      --hover-bg-color: #E2EBFA;\n",
              "      --hover-fill-color: #174EA6;\n",
              "      --disabled-fill-color: #AAA;\n",
              "      --disabled-bg-color: #DDD;\n",
              "  }\n",
              "\n",
              "  [theme=dark] .colab-df-quickchart {\n",
              "      --bg-color: #3B4455;\n",
              "      --fill-color: #D2E3FC;\n",
              "      --hover-bg-color: #434B5C;\n",
              "      --hover-fill-color: #FFFFFF;\n",
              "      --disabled-bg-color: #3B4455;\n",
              "      --disabled-fill-color: #666;\n",
              "  }\n",
              "\n",
              "  .colab-df-quickchart {\n",
              "    background-color: var(--bg-color);\n",
              "    border: none;\n",
              "    border-radius: 50%;\n",
              "    cursor: pointer;\n",
              "    display: none;\n",
              "    fill: var(--fill-color);\n",
              "    height: 32px;\n",
              "    padding: 0;\n",
              "    width: 32px;\n",
              "  }\n",
              "\n",
              "  .colab-df-quickchart:hover {\n",
              "    background-color: var(--hover-bg-color);\n",
              "    box-shadow: 0 1px 2px rgba(60, 64, 67, 0.3), 0 1px 3px 1px rgba(60, 64, 67, 0.15);\n",
              "    fill: var(--button-hover-fill-color);\n",
              "  }\n",
              "\n",
              "  .colab-df-quickchart-complete:disabled,\n",
              "  .colab-df-quickchart-complete:disabled:hover {\n",
              "    background-color: var(--disabled-bg-color);\n",
              "    fill: var(--disabled-fill-color);\n",
              "    box-shadow: none;\n",
              "  }\n",
              "\n",
              "  .colab-df-spinner {\n",
              "    border: 2px solid var(--fill-color);\n",
              "    border-color: transparent;\n",
              "    border-bottom-color: var(--fill-color);\n",
              "    animation:\n",
              "      spin 1s steps(1) infinite;\n",
              "  }\n",
              "\n",
              "  @keyframes spin {\n",
              "    0% {\n",
              "      border-color: transparent;\n",
              "      border-bottom-color: var(--fill-color);\n",
              "      border-left-color: var(--fill-color);\n",
              "    }\n",
              "    20% {\n",
              "      border-color: transparent;\n",
              "      border-left-color: var(--fill-color);\n",
              "      border-top-color: var(--fill-color);\n",
              "    }\n",
              "    30% {\n",
              "      border-color: transparent;\n",
              "      border-left-color: var(--fill-color);\n",
              "      border-top-color: var(--fill-color);\n",
              "      border-right-color: var(--fill-color);\n",
              "    }\n",
              "    40% {\n",
              "      border-color: transparent;\n",
              "      border-right-color: var(--fill-color);\n",
              "      border-top-color: var(--fill-color);\n",
              "    }\n",
              "    60% {\n",
              "      border-color: transparent;\n",
              "      border-right-color: var(--fill-color);\n",
              "    }\n",
              "    80% {\n",
              "      border-color: transparent;\n",
              "      border-right-color: var(--fill-color);\n",
              "      border-bottom-color: var(--fill-color);\n",
              "    }\n",
              "    90% {\n",
              "      border-color: transparent;\n",
              "      border-bottom-color: var(--fill-color);\n",
              "    }\n",
              "  }\n",
              "</style>\n",
              "\n",
              "      <script>\n",
              "        async function quickchart(key) {\n",
              "          const quickchartButtonEl =\n",
              "            document.querySelector('#' + key + ' button');\n",
              "          quickchartButtonEl.disabled = true;  // To prevent multiple clicks.\n",
              "          quickchartButtonEl.classList.add('colab-df-spinner');\n",
              "          try {\n",
              "            const charts = await google.colab.kernel.invokeFunction(\n",
              "                'suggestCharts', [key], {});\n",
              "          } catch (error) {\n",
              "            console.error('Error during call to suggestCharts:', error);\n",
              "          }\n",
              "          quickchartButtonEl.classList.remove('colab-df-spinner');\n",
              "          quickchartButtonEl.classList.add('colab-df-quickchart-complete');\n",
              "        }\n",
              "        (() => {\n",
              "          let quickchartButtonEl =\n",
              "            document.querySelector('#df-6f6e09e4-e12a-4ce0-8089-2ebd81ae64bc button');\n",
              "          quickchartButtonEl.style.display =\n",
              "            google.colab.kernel.accessAllowed ? 'block' : 'none';\n",
              "        })();\n",
              "      </script>\n",
              "    </div>\n",
              "\n",
              "    </div>\n",
              "  </div>\n"
            ],
            "application/vnd.google.colaboratory.intrinsic+json": {
              "type": "dataframe",
              "variable_name": "df"
            }
          },
          "metadata": {},
          "execution_count": 3
        }
      ]
    },
    {
      "cell_type": "markdown",
      "source": [
        "## Visualize and Scale the Data"
      ],
      "metadata": {
        "id": "B_df2SzYgUjy"
      }
    },
    {
      "cell_type": "markdown",
      "source": [
        "Visualizations of user play counts, artist popularity, and user activity distributions.\n",
        "\n",
        "This helps understand data sparsity and long-tail distributions."
      ],
      "metadata": {
        "id": "oxfmNn6jgnkH"
      }
    },
    {
      "cell_type": "code",
      "source": [
        "# User activity analysis\n",
        "user_activity = df.groupby('user_id').agg({\n",
        "    'artist_id': 'count',      # number of different artists\n",
        "    'play_count': 'sum'        # total plays\n",
        "}).rename(columns={'artist_id': 'num_artists', 'play_count': 'total_plays'})\n",
        "\n",
        "print(\"User Activity Stats:\")\n",
        "print(f\"Average artists per user: {user_activity['num_artists'].mean():.1f}\")\n",
        "print(f\"Median artists per user: {user_activity['num_artists'].median()}\")\n",
        "print(f\"Most active user: {user_activity['num_artists'].max()} artists\")\n",
        "print(f\"Least active user: {user_activity['num_artists'].min()} artists\")\n",
        "\n",
        "# Artist popularity analysis\n",
        "artist_popularity = df.groupby('artist_id').agg({\n",
        "    'user_id': 'count',        # number of different users\n",
        "    'play_count': 'sum'        # total plays\n",
        "}).rename(columns={'user_id': 'num_listeners', 'play_count': 'total_plays'})\n",
        "\n",
        "print(\"\\nArtist Popularity Stats:\")\n",
        "print(f\"Average listeners per artist: {artist_popularity['num_listeners'].mean():.1f}\")\n",
        "print(f\"Median listeners per artist: {artist_popularity['num_listeners'].median()}\")\n",
        "print(f\"Most popular artist: {artist_popularity['num_listeners'].max()} listeners\")\n",
        "print(f\"Least popular artist: {artist_popularity['num_listeners'].min()} listeners\")"
      ],
      "metadata": {
        "id": "RO5ICXd6D1cn",
        "colab": {
          "base_uri": "https://localhost:8080/",
          "height": 0
        },
        "outputId": "d3b41f20-1ddb-4205-896c-1c5ff2d06ae9"
      },
      "execution_count": 4,
      "outputs": [
        {
          "output_type": "stream",
          "name": "stdout",
          "text": [
            "User Activity Stats:\n",
            "Average artists per user: 48.2\n",
            "Median artists per user: 48.0\n",
            "Most active user: 165 artists\n",
            "Least active user: 0 artists\n",
            "\n",
            "Artist Popularity Stats:\n",
            "Average listeners per artist: 108.1\n",
            "Median listeners per artist: 6.0\n",
            "Most popular artist: 77254 listeners\n",
            "Least popular artist: 1 listeners\n"
          ]
        }
      ]
    },
    {
      "cell_type": "code",
      "source": [
        "import matplotlib.pyplot as plt\n",
        "import seaborn as sns\n",
        "\n",
        "# Calculate user activity\n",
        "user_activity = df.groupby('user_id')['artist_id'].nunique().reset_index(name='num_artists')\n",
        "\n",
        "# Calculate artist popularity\n",
        "artist_popularity = df.groupby('artist_id')['user_id'].nunique().reset_index(name='num_listeners')\n",
        "\n",
        "# Visualize play count distribution\n",
        "plt.figure(figsize=(6, 6))\n",
        "sns.histplot(df['play_count'], bins=50, kde=False, color='skyblue')\n",
        "plt.title('Distribution of Play Counts')\n",
        "plt.xlabel('Play Count')\n",
        "plt.ylabel('Frequency')\n",
        "plt.yscale('log')\n",
        "plt.show()\n",
        "\n",
        "# User activity distribution\n",
        "plt.figure(figsize=(6, 6))\n",
        "sns.histplot(user_activity['num_artists'], bins=50, kde=False, color='lightgreen')\n",
        "plt.title('Distribution of Number of Artists per User')\n",
        "plt.xlabel('Number of Artists')\n",
        "plt.ylabel('Number of Users')\n",
        "plt.yscale('log')\n",
        "plt.show()\n",
        "\n",
        "# Artist popularity distribution\n",
        "plt.figure(figsize=(6, 6))\n",
        "sns.histplot(artist_popularity['num_listeners'], bins=50, kde=False, color='salmon')\n",
        "plt.title('Distribution of Number of Listeners per Artist')\n",
        "plt.xlabel('Number of Listeners')\n",
        "plt.ylabel('Number of Artists')\n",
        "plt.yscale('log')\n",
        "plt.show()"
      ],
      "metadata": {
        "id": "JwAVebbPeJcs",
        "colab": {
          "base_uri": "https://localhost:8080/",
          "height": 1658
        },
        "outputId": "e1cca9a6-9670-4f55-cd3e-1f60058b5aaa"
      },
      "execution_count": 5,
      "outputs": [
        {
          "output_type": "display_data",
          "data": {
            "text/plain": [
              "<Figure size 600x600 with 1 Axes>"
            ],
            "image/png": "[encoded data removed]"
          },
          "metadata": {}
        },
        {
          "output_type": "display_data",
          "data": {
            "text/plain": [
              "<Figure size 600x600 with 1 Axes>"
            ],
            "image/png": "[encoded data removed]"
          },
          "metadata": {}
        },
        {
          "output_type": "display_data",
          "data": {
            "text/plain": [
              "<Figure size 600x600 with 1 Axes>"
            ],
            "image/png": "[encoded data removed]"
          },
          "metadata": {}
        }
      ]
    },
    {
      "cell_type": "markdown",
      "source": [
        "## Filter and Scale\n",
        "\n",
        "### Data Quality Considerations\n",
        "\n",
        "**Why filter?**\n",
        "1. **Cold-start mitigation:** Users/artists with too few interactions provide weak signals\n",
        "2. **Computational efficiency:** Reducing matrix size speeds up training\n",
        "3. **Data quality:** Very inactive users may be bots or inactive accounts"
      ],
      "metadata": {
        "id": "C7G0Cmxy-xR3"
      }
    },
    {
      "cell_type": "code",
      "source": [
        "# Filter users with at least 5 unique artists\n",
        "user_counts = df.groupby('user_id').size()\n",
        "active_users = user_counts[user_counts >= 5].index\n",
        "df_filtered = df[df['user_id'].isin(active_users)]\n",
        "\n",
        "# Filter artists with at least 5 unique listeners\n",
        "artist_counts = df_filtered.groupby('artist_id').size()\n",
        "popular_artists = artist_counts[artist_counts >= 5].index\n",
        "df_filtered = df_filtered[df_filtered['artist_id'].isin(popular_artists)]\n",
        "\n",
        "# Scale down to the top 20,000 users\n",
        "top_users = df_filtered['user_id'].value_counts().head(20000).index\n",
        "df_scaled = df_filtered[df_filtered['user_id'].isin(top_users)]\n",
        "\n",
        "\n",
        "print(f\"Final scaled data: {len(df_scaled):,} interactions\")\n",
        "print(f\"Users: {df_scaled['user_id'].nunique():,}\")\n",
        "print(f\"Artists: {df_scaled['artist_id'].nunique():,}\")"
      ],
      "metadata": {
        "id": "UyH441HVgaNw",
        "colab": {
          "base_uri": "https://localhost:8080/",
          "height": 0
        },
        "outputId": "d7e11fc9-a333-4c4f-ff78-2473c6f4f335"
      },
      "execution_count": 6,
      "outputs": [
        {
          "output_type": "stream",
          "name": "stdout",
          "text": [
            "Final scaled data: 1,357,087 interactions\n",
            "Users: 20,000\n",
            "Artists: 66,959\n"
          ]
        }
      ]
    },
    {
      "cell_type": "markdown",
      "source": [
        "## Preprocessing\n",
        "Why sparse matrix?\n",
        "- Sparse matrices efficiently store user-item interactions, saving memory and speeding up computations for large datasets with many missing values.\n"
      ],
      "metadata": {
        "id": "IDENmJFboIIT"
      }
    },
    {
      "cell_type": "code",
      "source": [
        "from scipy.sparse import csr_matrix\n",
        "\n",
        "df_scaled = df_scaled.copy()\n",
        "\n",
        "# Create user and artist mappings to indices\n",
        "user_mapping = {user: idx for idx, user in enumerate(df_scaled['user_id'].unique())}\n",
        "artist_mapping = {artist: idx for idx, artist in enumerate(df_scaled['artist_id'].unique())}\n",
        "\n",
        "# Map IDs to indices\n",
        "user_mapping = {user: idx for idx, user in enumerate(df_scaled['user_id'].unique())}\n",
        "artist_mapping = {artist: idx for idx, artist in enumerate(df_scaled['artist_id'].unique())}\n",
        "\n",
        "# Create reverse mappings\n",
        "idx_to_artist_id = {idx: artist_id for artist_id, idx in artist_mapping.items()}\n",
        "artist_id_to_name = dict(zip(df_scaled['artist_id'], df_scaled['artist_name']))\n",
        "\n",
        "def get_artist_name(artist_idx):\n",
        "    \"\"\"Convert artist index to artist name\"\"\"\n",
        "    artist_id = idx_to_artist_id.get(artist_idx)\n",
        "    return artist_id_to_name.get(artist_id, f\"Unknown Artist {artist_idx}\")\n",
        "\n",
        "df_scaled['user_idx'] = df_scaled['user_id'].map(user_mapping)\n",
        "df_scaled['artist_idx'] = df_scaled['artist_id'].map(artist_mapping)\n",
        "\n",
        "# Create sparse matrix\n",
        "rows = df_scaled['user_idx'].values\n",
        "cols = df_scaled['artist_idx'].values\n",
        "data = df_scaled['play_count'].values\n",
        "sparse_matrix = csr_matrix((data, (rows, cols)),\n",
        "                           shape=(len(user_mapping), len(artist_mapping)))\n",
        "\n",
        "# Sparse Matrix Statistics\n",
        "print(f\"\\nSparse Matrix Statistics:\")\n",
        "print(f\"Shape: {sparse_matrix.shape}\")\n",
        "print(f\"Total possible entries: {sparse_matrix.shape[0] * sparse_matrix.shape[1]:,}\")\n",
        "print(f\"Non-zero entries: {sparse_matrix.nnz:,}\")\n",
        "sparsity_percent = (1 - sparse_matrix.nnz / (sparse_matrix.shape[0] * sparse_matrix.shape[1])) * 100\n",
        "print(f\"Sparsity: {sparsity_percent:.2f}%\")\n",
        "print(f\"Density: {100 - sparsity_percent:.2f}%\")"
      ],
      "metadata": {
        "id": "pPXIuqCYhLVt",
        "colab": {
          "base_uri": "https://localhost:8080/",
          "height": 0
        },
        "outputId": "6d83ac8c-1b25-4226-f141-f0f1a6f06c7a"
      },
      "execution_count": 7,
      "outputs": [
        {
          "output_type": "stream",
          "name": "stdout",
          "text": [
            "\n",
            "Sparse Matrix Statistics:\n",
            "Shape: (20000, 66959)\n",
            "Total possible entries: 1,339,180,000\n",
            "Non-zero entries: 1,357,032\n",
            "Sparsity: 99.90%\n",
            "Density: 0.10%\n"
          ]
        }
      ]
    },
    {
      "cell_type": "markdown",
      "source": [
        "## Train/Test Split"
      ],
      "metadata": {
        "id": "ptjmH6BQn93h"
      }
    },
    {
      "cell_type": "code",
      "source": [
        "import numpy as np\n",
        "\n",
        "# Split into train and test sets\n",
        "train_matrix = sparse_matrix.copy()\n",
        "test_interactions = []\n",
        "\n",
        "test_ratio = 0.2 # 20% for testing\n",
        "min_interactions = 5  # only consider users with at least 5 interactions\n",
        "\n",
        "# For each user, randomly select some interactions for the test set\n",
        "for user_idx in range(sparse_matrix.shape[0]):\n",
        "    user_interactions = sparse_matrix.getrow(user_idx)\n",
        "    nonzero_items = user_interactions.nonzero()[1]\n",
        "\n",
        "    if len(nonzero_items) >= min_interactions:\n",
        "        n_test = max(1, int(len(nonzero_items) * test_ratio))\n",
        "        test_items = np.random.choice(nonzero_items, n_test, replace=False)\n",
        "\n",
        "        for item_idx in test_items:\n",
        "            test_interactions.append({\n",
        "                'user_idx': user_idx,\n",
        "                'item_idx': item_idx,\n",
        "                'rating': sparse_matrix[user_idx, item_idx]\n",
        "            })\n",
        "            train_matrix[user_idx, item_idx] = 0\n",
        "\n",
        "train_matrix.eliminate_zeros()\n",
        "\n",
        "print(f\"\\nTrain Matrix Statistics:\")\n",
        "print(f\"Shape: {train_matrix.shape}\")\n",
        "print(f\"Total possible entries: {train_matrix.shape[0] * train_matrix.shape[1]:,}\")\n",
        "print(f\"Non-zero entries: {train_matrix.nnz:,}\")\n",
        "train_sparsity = (1 - train_matrix.nnz / (train_matrix.shape[0] * train_matrix.shape[1])) * 100\n",
        "print(f\"Train set sparsity: {train_sparsity:.2f}%\")"
      ],
      "metadata": {
        "id": "bmxNqSLdoA5i",
        "colab": {
          "base_uri": "https://localhost:8080/",
          "height": 0
        },
        "outputId": "83e58401-24ab-4493-fe7e-f33a6655af74"
      },
      "execution_count": 8,
      "outputs": [
        {
          "output_type": "stream",
          "name": "stdout",
          "text": [
            "\n",
            "Train Matrix Statistics:\n",
            "Shape: (20000, 66959)\n",
            "Total possible entries: 1,339,180,000\n",
            "Non-zero entries: 1,093,796\n",
            "Train set sparsity: 99.92%\n"
          ]
        }
      ]
    },
    {
      "cell_type": "markdown",
      "source": [
        "Data leackage prevention: Ensure each user has interactions in both train and test sets."
      ],
      "metadata": {
        "id": "wF8cSepBd1A8"
      }
    },
    {
      "cell_type": "code",
      "source": [
        "# Check for data leakage\n",
        "assert train_matrix.nnz + len(test_interactions) == sparse_matrix.nnz, \"Data leakage detected\"\n",
        "\n",
        "# Check sparsity\n",
        "train_sparsity = (1 - train_matrix.nnz / (train_matrix.shape[0] * train_matrix.shape[1])) * 100\n",
        "print(f\"Train set sparsity: {train_sparsity:.2f}%\")\n",
        "\n",
        "# Check for cold-start users\n",
        "train_user_counts = np.array(train_matrix.sum(axis=1)).flatten()\n",
        "cold_start_users = np.sum(train_user_counts == 0)\n",
        "print(f\"Cold-start users: {cold_start_users}\")"
      ],
      "metadata": {
        "id": "TRV99m6u_Jqz",
        "colab": {
          "base_uri": "https://localhost:8080/",
          "height": 0
        },
        "outputId": "64b66527-bde0-4954-b966-c6543ac3402e"
      },
      "execution_count": 9,
      "outputs": [
        {
          "output_type": "stream",
          "name": "stdout",
          "text": [
            "Train set sparsity: 99.92%\n",
            "Cold-start users: 0\n"
          ]
        }
      ]
    },
    {
      "cell_type": "markdown",
      "source": [
        "## Model Implementation and Training\n",
        "\n",
        "We'll implement two advanced recommendation approaches:\n",
        "1. **Baseline**: Popularity-based recommendations for comparison\n",
        "2. **ALS (Alternating Least Squares)**: Matrix factorization optimized for implicit feedback"
      ],
      "metadata": {
        "id": "ajWu9pKCE0ic"
      }
    },
    {
      "cell_type": "markdown",
      "source": [
        "### Baseline Model: Popularity-Based Recommendations\n",
        "\n",
        "First, let's establish our baseline by identifying the most popular artists based on total play counts across all training users.\n",
        "\n",
        "**Hypothesis Space:** H_baseline = {h}  \n",
        "where h is a single function:\n",
        "\n",
        "```\n",
        "h(u) = [a₁, a₂, ..., a₁₀] for all users u\n",
        "```\n",
        "\n",
        "Artists are ranked by global popularity: `popularity(j) = Σrᵢⱼ`\n",
        "\n",
        "**Characteristics:**\n",
        "- |H| = 1 (single hypothesis)\n",
        "- No learnable parameters\n",
        "- Zero generalization challenge (memorization of training data)"
      ],
      "metadata": {
        "id": "zh0_cr1kG_jZ"
      }
    },
    {
      "cell_type": "code",
      "source": [
        "# Calculate artist popularity from training data\n",
        "artist_popularity = np.array(train_matrix.sum(axis=0)).flatten()\n",
        "\n",
        "# Get top artists for baseline recommendations\n",
        "n_recommendations = 10\n",
        "top_artists_baseline = np.argsort(artist_popularity)[::-1][:n_recommendations]\n",
        "\n",
        "print(\"Baseline Model - Most Popular Artists:\")\n",
        "for i, artist_idx in enumerate(top_artists_baseline):\n",
        "    plays = artist_popularity[artist_idx]\n",
        "    print(f\"  {i+1}. Artist {artist_idx}: {plays:,.0f} total plays\")"
      ],
      "metadata": {
        "id": "IoAcP5VqG_FM",
        "colab": {
          "base_uri": "https://localhost:8080/",
          "height": 0
        },
        "outputId": "331f7d23-635d-4b85-b9ec-a414dd812fb2"
      },
      "execution_count": 10,
      "outputs": [
        {
          "output_type": "stream",
          "name": "stdout",
          "text": [
            "Baseline Model - Most Popular Artists:\n",
            "  1. Artist 156: 1,015,612 total plays\n",
            "  2. Artist 305: 712,181 total plays\n",
            "  3. Artist 816: 505,658 total plays\n",
            "  4. Artist 344: 503,991 total plays\n",
            "  5. Artist 421: 436,294 total plays\n",
            "  6. Artist 304: 412,446 total plays\n",
            "  7. Artist 674: 402,067 total plays\n",
            "  8. Artist 2425: 367,501 total plays\n",
            "  9. Artist 315: 345,315 total plays\n",
            "  10. Artist 134: 337,063 total plays\n"
          ]
        }
      ]
    },
    {
      "cell_type": "markdown",
      "source": [
        "### ALS Model: Collaborative Filtering\n",
        "\n",
        "ALS (Alternating Least Squares) is a matrix factorization technique that learns latent user and item factors by alternately optimizing user and item representations. It's particularly well-suited for implicit feedback data like play counts.\n",
        "\n",
        "Key advantages:\n",
        "- Handles sparse matrices efficiently\n",
        "- Optimized for implicit feedback (play counts vs explicit ratings)\n",
        "- Scalable to large datasets"
      ],
      "metadata": {
        "id": "CGaKN7I5HVsJ"
      }
    },
    {
      "cell_type": "markdown",
      "source": [
        "\n",
        "The implicit library's AlternatingLeastSquares implements our hypothesis space:\n",
        "H_ALS = {h | h(i,j) = uᵢᵀvⱼ, where U ∈ ℝ^(n×k), V ∈ ℝ^(m×k)}\n",
        "\n",
        "**Mathematical Mapping:**\n",
        "- `factors` → k (latent dimensionality)\n",
        "- `regularization` → λ in λ(||uᵢ||² + ||vⱼ||²)\n",
        "- `alpha` → α in confidence formula cᵢⱼ = 1 + α × rᵢⱼ\n",
        "- Internal matrices `model.user_factors` → U matrix\n",
        "- Internal matrices `model.item_factors` → V matrix"
      ],
      "metadata": {
        "id": "HrBG_xPfhZDW"
      }
    },
    {
      "cell_type": "code",
      "source": [
        "from implicit.als import AlternatingLeastSquares\n",
        "from tqdm import tqdm\n",
        "\n",
        "def evaluate(model, test_sample, k=10):\n",
        "    \"\"\"\n",
        "      Quick evaluation on sample of test data for hyperparameter search.\n",
        "\n",
        "      Args:\n",
        "          model: Trained ALS model\n",
        "          test_sample (list): Test interactions\n",
        "          k (int): Number of recommendations\n",
        "\n",
        "      Returns:\n",
        "          float: Average precision@k across sampled users\n",
        "    \"\"\"\n",
        "    precisions = []\n",
        "\n",
        "    # Sample 1000 users for fast evaluation\n",
        "    user_test_items = {}\n",
        "    for interaction in test_sample:\n",
        "        user_idx = interaction['user_idx']\n",
        "        if user_idx not in user_test_items:\n",
        "            user_test_items[user_idx] = []\n",
        "        user_test_items[user_idx].append(interaction['item_idx'])\n",
        "        if len(user_test_items) >= 1000:\n",
        "            break\n",
        "\n",
        "    for user_idx, true_items in user_test_items.items():\n",
        "        try:\n",
        "            user_items = train_matrix[user_idx].tocsr()  # Get user's know interactions (to exclude from recommendations)\n",
        "            recs, _ = model.recommend(userid=user_idx, user_items=user_items, N=k) # uᵢᵀvⱼ for all items j\n",
        "            hits = len(set(recs) & set(true_items))\n",
        "            precisions.append(hits / k)\n",
        "        except:\n",
        "            precisions.append(0)\n",
        "\n",
        "    return np.mean(precisions)\n",
        "\n",
        "# Parameter search space\n",
        "param_space = {\n",
        "    'factors': [30, 50, 70, 100],\n",
        "    'regularization': [0.001, 0.01, 0.05, 0.1],\n",
        "    'iterations': [10, 15, 20],\n",
        "    'alpha': [0.5, 1.0, 2.0, 5.0]\n",
        "}\n",
        "\n",
        "# Random search configuration\n",
        "n_trials = 12\n",
        "results = []\n",
        "\n",
        "print(f\"Random Hyperparameter Search: {n_trials} trials\")\n",
        "print(\"-\" * 60)\n",
        "\n",
        "for trial in tqdm(range(n_trials), desc=\"Searching hyperparameters\", ncols=80):\n",
        "    # Sample random parameters\n",
        "    params = {\n",
        "        'factors': np.random.choice(param_space['factors']),\n",
        "        'regularization': np.random.choice(param_space['regularization']),\n",
        "        'iterations': np.random.choice(param_space['iterations']),\n",
        "        'alpha': np.random.choice(param_space['alpha']),\n",
        "        'random_state': 42\n",
        "    }\n",
        "\n",
        "    # Train and evaluate\n",
        "    model = AlternatingLeastSquares(**params)\n",
        "    model.fit(train_matrix.tocsr(), show_progress=False)\n",
        "    precision = evaluate(model, test_interactions, k=10)\n",
        "\n",
        "    tqdm.write(f\"Trial {trial+1:2d}: P@10={precision:.4f} | \"\n",
        "               f\"f={params['factors']:3d} r={params['regularization']:.3f} \"\n",
        "               f\"i={params['iterations']:2d} a={params['alpha']:.1f}\")\n",
        "\n",
        "    results.append({\n",
        "        **params,\n",
        "        'precision': precision,\n",
        "    })\n",
        "\n",
        "# Results summary\n",
        "results_df = pd.DataFrame(results).sort_values('precision', ascending=False)\n",
        "print(\"-\" * 60)\n",
        "print(\"Top 3 Configurations:\")\n",
        "print(results_df[['factors', 'regularization', 'iterations', 'alpha', 'precision']].head(3).to_string(index=False))\n",
        "\n",
        "# Best parameters\n",
        "best = results_df.iloc[0]\n",
        "print(\"-\" * 60)\n",
        "print(\"Best Parameters:\")\n",
        "print(f\"  factors={int(best['factors'])}, regularization={best['regularization']}, \"\n",
        "      f\"iterations={int(best['iterations'])}, alpha={best['alpha']}\")\n",
        "print(f\"  Validation Precision@10: {best['precision']:.4f}\")\n",
        "\n",
        "\n"
      ],
      "metadata": {
        "id": "G0SCrrPvQbR1",
        "colab": {
          "base_uri": "https://localhost:8080/",
          "height": 0
        },
        "outputId": "e15d7745-252f-4874-b3f5-bbf088d334d9"
      },
      "execution_count": 22,
      "outputs": [
        {
          "output_type": "stream",
          "name": "stdout",
          "text": [
            "Random Hyperparameter Search: 12 trials\n",
            "------------------------------------------------------------\n"
          ]
        },
        {
          "output_type": "stream",
          "name": "stderr",
          "text": [
            "Searching hyperparameters:   8%|█▍               | 1/12 [00:23<04:13, 23.06s/it]"
          ]
        },
        {
          "output_type": "stream",
          "name": "stdout",
          "text": [
            "Trial  1: P@10=0.1327 | f= 50 r=0.050 i=20 a=0.5\n"
          ]
        },
        {
          "output_type": "stream",
          "name": "stderr",
          "text": [
            "Searching hyperparameters:  17%|██▊              | 2/12 [00:38<03:05, 18.56s/it]"
          ]
        },
        {
          "output_type": "stream",
          "name": "stdout",
          "text": [
            "Trial  2: P@10=0.1421 | f=100 r=0.100 i=15 a=0.5\n"
          ]
        },
        {
          "output_type": "stream",
          "name": "stderr",
          "text": [
            "Searching hyperparameters:  25%|████▎            | 3/12 [00:48<02:13, 14.81s/it]"
          ]
        },
        {
          "output_type": "stream",
          "name": "stdout",
          "text": [
            "Trial  3: P@10=0.0796 | f= 70 r=0.050 i=10 a=5.0\n"
          ]
        },
        {
          "output_type": "stream",
          "name": "stderr",
          "text": [
            "Searching hyperparameters:  33%|█████▋           | 4/12 [00:59<01:45, 13.21s/it]"
          ]
        },
        {
          "output_type": "stream",
          "name": "stdout",
          "text": [
            "Trial  4: P@10=0.0981 | f= 30 r=0.001 i=15 a=2.0\n"
          ]
        },
        {
          "output_type": "stream",
          "name": "stderr",
          "text": [
            "Searching hyperparameters:  42%|███████          | 5/12 [01:06<01:16, 10.91s/it]"
          ]
        },
        {
          "output_type": "stream",
          "name": "stdout",
          "text": [
            "Trial  5: P@10=0.0753 | f= 50 r=0.050 i=10 a=5.0\n"
          ]
        },
        {
          "output_type": "stream",
          "name": "stderr",
          "text": [
            "Searching hyperparameters:  50%|████████▌        | 6/12 [01:14<01:00, 10.09s/it]"
          ]
        },
        {
          "output_type": "stream",
          "name": "stdout",
          "text": [
            "Trial  6: P@10=0.0806 | f= 70 r=0.100 i=10 a=5.0\n"
          ]
        },
        {
          "output_type": "stream",
          "name": "stderr",
          "text": [
            "Searching hyperparameters:  58%|█████████▉       | 7/12 [01:25<00:51, 10.23s/it]"
          ]
        },
        {
          "output_type": "stream",
          "name": "stdout",
          "text": [
            "Trial  7: P@10=0.0789 | f=100 r=0.010 i=10 a=5.0\n"
          ]
        },
        {
          "output_type": "stream",
          "name": "stderr",
          "text": [
            "Searching hyperparameters:  67%|███████████▎     | 8/12 [01:32<00:36,  9.14s/it]"
          ]
        },
        {
          "output_type": "stream",
          "name": "stdout",
          "text": [
            "Trial  8: P@10=0.1346 | f= 50 r=0.050 i=10 a=0.5\n"
          ]
        },
        {
          "output_type": "stream",
          "name": "stderr",
          "text": [
            "Searching hyperparameters:  75%|████████████▊    | 9/12 [01:48<00:34, 11.37s/it]"
          ]
        },
        {
          "output_type": "stream",
          "name": "stdout",
          "text": [
            "Trial  9: P@10=0.1014 | f= 50 r=0.001 i=20 a=2.0\n"
          ]
        },
        {
          "output_type": "stream",
          "name": "stderr",
          "text": [
            "Searching hyperparameters:  83%|█████████████▎  | 10/12 [02:03<00:24, 12.50s/it]"
          ]
        },
        {
          "output_type": "stream",
          "name": "stdout",
          "text": [
            "Trial 10: P@10=0.1351 | f= 50 r=0.100 i=20 a=0.5\n"
          ]
        },
        {
          "output_type": "stream",
          "name": "stderr",
          "text": [
            "Searching hyperparameters:  92%|██████████████▋ | 11/12 [02:10<00:10, 10.80s/it]"
          ]
        },
        {
          "output_type": "stream",
          "name": "stdout",
          "text": [
            "Trial 11: P@10=0.0730 | f= 50 r=0.010 i=10 a=5.0\n"
          ]
        },
        {
          "output_type": "stream",
          "name": "stderr",
          "text": [
            "Searching hyperparameters: 100%|████████████████| 12/12 [02:21<00:00, 11.81s/it]"
          ]
        },
        {
          "output_type": "stream",
          "name": "stdout",
          "text": [
            "Trial 12: P@10=0.1370 | f=100 r=0.010 i=10 a=0.5\n",
            "Top 3 Configurations:\n",
            " factors  regularization  iterations  alpha  precision\n",
            "     100            0.10          15    0.5     0.1421\n",
            "     100            0.01          10    0.5     0.1370\n",
            "      50            0.10          20    0.5     0.1351\n",
            "Best Parameters:\n",
            "  factors=100, regularization=0.1, iterations=15, alpha=0.5\n",
            "  Validation Precision@10: 0.1421\n"
          ]
        },
        {
          "output_type": "stream",
          "name": "stderr",
          "text": [
            "\n"
          ]
        }
      ]
    },
    {
      "cell_type": "code",
      "source": [
        "# Visualize hyperparameter impact\n",
        "results_df = pd.DataFrame(results).sort_values('precision', ascending=False)\n",
        "\n",
        "fig, axes = plt.subplots(1, 2, figsize=(12, 4))\n",
        "\n",
        "# Impact of factors\n",
        "axes[0].scatter(results_df['factors'], results_df['precision'], alpha=0.6, s=50)\n",
        "axes[0].set_xlabel('Number of Latent Factors')\n",
        "axes[0].set_ylabel('Precision@10')\n",
        "axes[0].set_title('Impact of Latent Factors on Performance')\n",
        "axes[0].grid(alpha=0.3)\n",
        "\n",
        "# Impact of regularization\n",
        "axes[1].scatter(results_df['regularization'], results_df['precision'],\n",
        "                alpha=0.6, s=50, color='coral')\n",
        "axes[1].set_xlabel('Regularization')\n",
        "axes[1].set_ylabel('Precision@10')\n",
        "axes[1].set_title('Impact of Regularization on Performance')\n",
        "axes[1].set_xscale('log')\n",
        "axes[1].grid(alpha=0.3)\n",
        "\n",
        "plt.tight_layout()\n",
        "plt.show()"
      ],
      "metadata": {
        "colab": {
          "base_uri": "https://localhost:8080/",
          "height": 407
        },
        "id": "Knj3esW2raRR",
        "outputId": "b93f9c4b-1405-424d-dec7-a5acf36051fe"
      },
      "execution_count": 12,
      "outputs": [
        {
          "output_type": "display_data",
          "data": {
            "text/plain": [
              "<Figure size 1200x400 with 2 Axes>"
            ],
            "image/png": "[encoded data removed]"
          },
          "metadata": {}
        }
      ]
    },
    {
      "cell_type": "code",
      "source": [
        "# Show how performance improves with more iterations\n",
        "iteration_counts = [1, 3, 5, 10, 15, 20]\n",
        "precisions = []\n",
        "\n",
        "for n_iter in iteration_counts:\n",
        "    model = AlternatingLeastSquares(\n",
        "        factors=100, regularization=0.1,\n",
        "        iterations=n_iter, alpha=0.5, random_state=42\n",
        "    )\n",
        "    model.fit(train_matrix, show_progress=False)\n",
        "    precision = evaluate(model, test_interactions, k=10)\n",
        "    precisions.append(precision)\n",
        "    print(f\"Iterations: {n_iter:2d} → Precision@10: {precision:.4f}\")\n",
        "\n",
        "# Plot convergence\n",
        "plt.plot(iteration_counts, precisions, marker='o', linewidth=2)\n",
        "plt.xlabel('Number of ALS Iterations')\n",
        "plt.ylabel('Precision@10')\n",
        "plt.title('Model Performance vs Training Iterations')\n",
        "plt.grid(True, alpha=0.3)\n",
        "plt.show()"
      ],
      "metadata": {
        "colab": {
          "base_uri": "https://localhost:8080/",
          "height": 576
        },
        "id": "y_2iqdDq00tu",
        "outputId": "62f0749b-a101-49cb-807c-9c8c5e308529"
      },
      "execution_count": 24,
      "outputs": [
        {
          "output_type": "stream",
          "name": "stdout",
          "text": [
            "Iterations:  1 → Precision@10: 0.0190\n",
            "Iterations:  3 → Precision@10: 0.1108\n",
            "Iterations:  5 → Precision@10: 0.1265\n",
            "Iterations: 10 → Precision@10: 0.1382\n",
            "Iterations: 15 → Precision@10: 0.1421\n",
            "Iterations: 20 → Precision@10: 0.1436\n"
          ]
        },
        {
          "output_type": "display_data",
          "data": {
            "text/plain": [
              "<Figure size 640x480 with 1 Axes>"
            ],
            "image/png": "[encoded data removed]"
          },
          "metadata": {}
        }
      ]
    },
    {
      "cell_type": "code",
      "source": [
        "# Train final model with best parameters\n",
        "als_model = AlternatingLeastSquares(\n",
        "    factors=int(best['factors']),\n",
        "    regularization=best['regularization'],\n",
        "    iterations=int(best['iterations']),\n",
        "    alpha=best['alpha'],\n",
        "    random_state=42\n",
        ")\n",
        "als_model.fit(train_matrix.tocsr(), show_progress=True)\n",
        "print(\"Training complete.\")"
      ],
      "metadata": {
        "colab": {
          "base_uri": "https://localhost:8080/",
          "height": 66,
          "referenced_widgets": [
            "c0a0c6db5de349f9b62f1f204af69c0c",
            "df78dedfa5174b75a9a576f3a536ef0b",
            "ff5cf6bbbc8040da95ff237cb31b8d80",
            "b4f44bdd40c241b6b7b3fa38cc59f91d",
            "e8a7eec998d345899035a1b0bf35e607",
            "7de0bc6884404a9e890ca483d2224c66",
            "58ae958418a544778aabb7fe65ab30e8",
            "ca706148b6be4b1e914264725579f269",
            "dd0bf1bf5094432bba4c150f6e50c21a",
            "2c81bdb791754c579820f64197a52598",
            "bbf11e77ee3047718d5b7f50209c6059"
          ]
        },
        "id": "rZYDC1d7rYo0",
        "outputId": "2e85b893-3886-487f-eaa2-563c2c3b3fe8"
      },
      "execution_count": 13,
      "outputs": [
        {
          "output_type": "display_data",
          "data": {
            "text/plain": [
              "  0%|          | 0/15 [00:00<?, ?it/s]"
            ],
            "application/vnd.jupyter.widget-view+json": {
              "version_major": 2,
              "version_minor": 0,
              "model_id": "c0a0c6db5de349f9b62f1f204af69c0c"
            }
          },
          "metadata": {}
        },
        {
          "output_type": "stream",
          "name": "stdout",
          "text": [
            "Training complete.\n"
          ]
        }
      ]
    },
    {
      "cell_type": "markdown",
      "source": [
        "## Recommendation Generation Functions\n",
        "\n",
        "We'll implement functions to generate recommendations from both our baseline and ALS models, then evaluate their performance using standard recommendation metrics."
      ],
      "metadata": {
        "id": "gFFYKcsUHtEm"
      }
    },
    {
      "cell_type": "code",
      "source": [
        "def get_baseline_recommendations(k=10):\n",
        "    \"\"\"Return top K popular artists.\"\"\"\n",
        "    return top_artists_baseline[:k]\n",
        "\n",
        "def get_als_recommendations(user_idx, k=10):\n",
        "    \"\"\"\n",
        "    Get personalized ALS recommendations for a user.\n",
        "\n",
        "    Args:\n",
        "        user_idx: user index (0 to n_users-1)\n",
        "        k: number of recommendations\n",
        "\n",
        "    Returns:\n",
        "        artist_indices: array of recommended artist IDs\n",
        "        scores: prediction scores\n",
        "    \"\"\"\n",
        "    try:\n",
        "        # Get user's listening history (for filtering)\n",
        "        user_items = train_matrix[user_idx].tocsr()\n",
        "\n",
        "        recs, scores = als_model.recommend(\n",
        "            userid=user_idx,\n",
        "            user_items=user_items,\n",
        "            N=k,\n",
        "            filter_already_liked_items=True\n",
        "        )\n",
        "        return recs, scores\n",
        "\n",
        "    except Exception as e:\n",
        "        print(f\"Error getting recommendations for user {user_idx}: {e}\")\n",
        "        # Fallback to baseline\n",
        "        return np.array([]), np.array([])\n",
        "\n",
        "# Test the functions\n",
        "print(\"Testing recommendation functions.\")\n",
        "test_user = 0\n",
        "baseline_recs = get_baseline_recommendations(5)\n",
        "als_recs, als_scores = get_als_recommendations(test_user, 5)\n",
        "\n",
        "print(f\"Baseline recommendations: {baseline_recs}\")\n",
        "print(f\"ALS recommendations for user {test_user}: {als_recs}\")\n",
        "print(f\"ALS scores: {als_scores}\")"
      ],
      "metadata": {
        "id": "3pxojwGZHq7G",
        "colab": {
          "base_uri": "https://localhost:8080/",
          "height": 0
        },
        "outputId": "51819a61-c59c-4593-d543-3ce3c0a152a6"
      },
      "execution_count": 14,
      "outputs": [
        {
          "output_type": "stream",
          "name": "stdout",
          "text": [
            "Testing recommendation functions...\n",
            "Baseline recommendations: [156 305 816 344 421]\n",
            "ALS recommendations for user 0: [ 264  413    9   36 8748]\n",
            "ALS scores: [1.4043107 1.2438602 1.2266251 1.1947348 1.1586053]\n"
          ]
        }
      ]
    },
    {
      "cell_type": "markdown",
      "source": [
        "## Model Evaluation and Comparison\n",
        "\n",
        "Now we'll evaluate both models on our test set and compare their performance across multiple metrics."
      ],
      "metadata": {
        "id": "gCCRFRtcH2I9"
      }
    },
    {
      "cell_type": "code",
      "source": [
        "def evaluate_recommendations(model_name, get_recs_func, test_interactions, k=10):\n",
        "    \"\"\"\n",
        "    Evaluate recommendation quality using multiple metrics.\n",
        "\n",
        "    Args:\n",
        "        model_name (str): Name of the model being evaluated\n",
        "        get_recs_func (function): Function that generates recommendations\n",
        "                                   For baseline: takes only k\n",
        "                                   For other models: takes (user_idx, k)\n",
        "        test_interactions (list): List of test interaction dictionaries with keys:\n",
        "                                  'user_idx', 'item_idx', 'rating'\n",
        "        k (int): Number of recommendations to evaluate (default: 10)\n",
        "\n",
        "    Returns:\n",
        "        dict: Dictionary containing evaluation metrics:\n",
        "              - precision: Average precision@k across all users\n",
        "              - recall: Average recall@k across all users\n",
        "              - ndcg: Average NDCG@k across all users\n",
        "              - coverage: Fraction of items recommended at least once\n",
        "              - name: Model name string\n",
        "    \"\"\"\n",
        "    print(f\"\\nEvaluating {model_name}...\")\n",
        "\n",
        "    # Group test items by user\n",
        "    user_test_items = {}\n",
        "    for interaction in test_interactions:\n",
        "        user_idx = interaction['user_idx']\n",
        "        artist_idx = interaction['item_idx']\n",
        "        if user_idx not in user_test_items:\n",
        "            user_test_items[user_idx] = []\n",
        "        user_test_items[user_idx].append(artist_idx)\n",
        "\n",
        "    print(f\"  Evaluating on {len(user_test_items)} users\")\n",
        "\n",
        "    precisions = []\n",
        "    recalls = []\n",
        "    ndcgs = []\n",
        "    all_recommended = set()\n",
        "\n",
        "    for user_idx, true_items in user_test_items.items():\n",
        "        # Get recommendations based on model type\n",
        "        if model_name == \"Baseline\":\n",
        "            recs = get_recs_func(k)\n",
        "        else:\n",
        "            recs, _ = get_recs_func(user_idx, k)\n",
        "\n",
        "        # Ensure recommendations are valid indices\n",
        "        recs = np.array(recs)\n",
        "        valid_recs = recs[recs < train_matrix.shape[1]]\n",
        "\n",
        "        # Calculate hits\n",
        "        rec_set = set(valid_recs)\n",
        "        true_set = set(true_items)\n",
        "        hits = len(rec_set & true_set)\n",
        "\n",
        "        # Precision@k: fraction of recommendations that are relevant\n",
        "        precision = hits / k if k > 0 else 0\n",
        "        precisions.append(precision)\n",
        "\n",
        "        # Recall@k: fraction of relevant items that are recommended\n",
        "        recall = hits / len(true_set) if len(true_set) > 0 else 0\n",
        "        recalls.append(recall)\n",
        "\n",
        "        # NDCG@k: ranking quality metric (relevant items at top positions score higher)\n",
        "        dcg = 0.0\n",
        "        for i, item in enumerate(valid_recs[:k]):\n",
        "            if item in true_set:\n",
        "                dcg += 1.0 / np.log2(i + 2)\n",
        "\n",
        "        idcg = 0.0\n",
        "        for i in range(min(len(true_set), k)):\n",
        "            idcg += 1.0 / np.log2(i + 2)\n",
        "\n",
        "        ndcg = dcg / idcg if idcg > 0 else 0.0\n",
        "        ndcgs.append(ndcg)\n",
        "\n",
        "        # Track all recommended items for coverage\n",
        "        all_recommended.update(valid_recs)\n",
        "\n",
        "    # Calculate average metrics\n",
        "    avg_precision = np.mean(precisions)\n",
        "    avg_recall = np.mean(recalls)\n",
        "    avg_ndcg = np.mean(ndcgs)\n",
        "    coverage = len(all_recommended) / train_matrix.shape[1]\n",
        "\n",
        "    print(f\"  Precision@{k}: {avg_precision:.4f}\")\n",
        "    print(f\"  Recall@{k}: {avg_recall:.4f}\")\n",
        "    print(f\"  NDCG@{k}: {avg_ndcg:.4f}\")\n",
        "    print(f\"  Coverage: {coverage:.4f}\")\n",
        "\n",
        "    return {\n",
        "        'precision': avg_precision,\n",
        "        'recall': avg_recall,\n",
        "        'ndcg': avg_ndcg,\n",
        "        'coverage': coverage,\n",
        "        'name': model_name\n",
        "    }"
      ],
      "metadata": {
        "id": "IJZazULLH4yv"
      },
      "execution_count": 15,
      "outputs": []
    },
    {
      "cell_type": "code",
      "source": [
        "# Evaluate baseline\n",
        "baseline_results = evaluate_recommendations(\n",
        "    \"Baseline\",\n",
        "    get_baseline_recommendations,\n",
        "    test_interactions,\n",
        "    k=10\n",
        ")\n",
        "\n",
        "# Evaluate ALS\n",
        "als_results = evaluate_recommendations(\n",
        "    \"ALS\",\n",
        "    get_als_recommendations,\n",
        "    test_interactions,\n",
        "    k=10\n",
        ")\n",
        "\n",
        "# Compare results\n",
        "print(f\"\\n{'Metric':<15} {'Baseline':<12} {'ALS':<12} {'Improvement'}\")\n",
        "print(\"-\"*60)\n",
        "for metric in ['precision', 'recall', 'ndcg', 'coverage']:\n",
        "    base = baseline_results[metric]\n",
        "    als = als_results[metric]\n",
        "    improvement = ((als - base) / base * 100) if base > 0 else 0\n",
        "    print(f\"{metric.capitalize():<15} {base:<12.4f} {als:<12.4f} {improvement:>+7.1f}%\")"
      ],
      "metadata": {
        "id": "OZrYjl_2Wv8G",
        "colab": {
          "base_uri": "https://localhost:8080/",
          "height": 0
        },
        "outputId": "9be1ec1d-a2f8-47f0-ccf4-89db3efb1294"
      },
      "execution_count": 16,
      "outputs": [
        {
          "output_type": "stream",
          "name": "stdout",
          "text": [
            "\n",
            "Evaluating Baseline...\n",
            "  Evaluating on 20000 users\n",
            "  Precision@10: 0.0282\n",
            "  Recall@10: 0.0217\n",
            "  NDCG@10: 0.0322\n",
            "  Coverage: 0.0001\n",
            "\n",
            "Evaluating ALS...\n",
            "  Evaluating on 20000 users\n",
            "  Precision@10: 0.1368\n",
            "  Recall@10: 0.1049\n",
            "  NDCG@10: 0.1543\n",
            "  Coverage: 0.0650\n",
            "\n",
            "Metric          Baseline     ALS          Improvement\n",
            "------------------------------------------------------------\n",
            "Precision       0.0282       0.1368        +384.8%\n",
            "Recall          0.0217       0.1049        +384.2%\n",
            "Ndcg            0.0322       0.1543        +379.9%\n",
            "Coverage        0.0001       0.0650       +43440.0%\n"
          ]
        }
      ]
    },
    {
      "cell_type": "code",
      "source": [
        "fig, axes = plt.subplots(1, 2, figsize=(14, 5))\n",
        "\n",
        "# Performance comparison\n",
        "metrics = ['Precision@10', 'Recall@10', 'NDCG@10', 'Coverage']\n",
        "baseline_vals = [baseline_results['precision'], baseline_results['recall'], baseline_results['ndcg'], baseline_results['coverage']]\n",
        "als_vals = [als_results['precision'], als_results['recall'], als_results['ndcg'], als_results['coverage']]\n",
        "\n",
        "\n",
        "x = np.arange(len(metrics))\n",
        "width = 0.35\n",
        "\n",
        "axes[0].bar(x - width/2, baseline_vals, width, label='Baseline', alpha=0.8, color='skyblue')\n",
        "axes[0].bar(x + width/2, als_vals, width, label='ALS Model', alpha=0.8, color='lightcoral')\n",
        "axes[0].set_ylabel('Score')\n",
        "axes[0].set_title('Model Performance Comparison')\n",
        "axes[0].set_xticks(x)\n",
        "axes[0].set_xticklabels(metrics)\n",
        "axes[0].legend()\n",
        "axes[0].grid(axis='y', alpha=0.3)\n",
        "\n",
        "# Improvement percentages\n",
        "improvements = []\n",
        "for base, als in zip(baseline_vals, als_vals):\n",
        "    imp = ((als - base) / base * 100) if base > 0 else 0\n",
        "    improvements.append(imp)\n",
        "\n",
        "colors = ['green' if x > 0 else 'red' for x in improvements]\n",
        "bars = axes[1].bar(metrics, improvements, color=colors, alpha=0.7)\n",
        "axes[1].set_ylabel('Improvement (%)')\n",
        "axes[1].set_title('ALS vs Baseline Improvement')\n",
        "axes[1].axhline(y=0, color='black', linestyle='-', linewidth=0.8)\n",
        "axes[1].grid(axis='y', alpha=0.3)\n",
        "\n",
        "# Add value labels\n",
        "for bar, val in zip(bars, improvements):\n",
        "    height = bar.get_height()\n",
        "    axes[1].text(bar.get_x() + bar.get_width()/2., height + (2 if height > 0 else -5),\n",
        "                f'{val:.1f}%', ha='center', va='bottom' if height > 0 else 'top')\n",
        "\n",
        "plt.tight_layout()\n",
        "plt.show()"
      ],
      "metadata": {
        "id": "P66FZSrfH83b",
        "colab": {
          "base_uri": "https://localhost:8080/",
          "height": 507
        },
        "outputId": "95eb1f89-3545-40d0-ebef-3978db3a0899"
      },
      "execution_count": 17,
      "outputs": [
        {
          "output_type": "display_data",
          "data": {
            "text/plain": [
              "<Figure size 1400x500 with 2 Axes>"
            ],
            "image/png": "[encoded data removed]"
          },
          "metadata": {}
        }
      ]
    },
    {
      "cell_type": "code",
      "source": [
        "# Create user_test_items dictionary from test_interactions\n",
        "user_test_items = {}\n",
        "for interaction in test_interactions:\n",
        "    user_idx = interaction['user_idx']\n",
        "    item_idx = interaction['item_idx']\n",
        "    if user_idx not in user_test_items:\n",
        "        user_test_items[user_idx] = []\n",
        "    user_test_items[user_idx].append(item_idx)\n",
        "\n",
        "print(f\"Created test dictionary for {len(user_test_items)} users\")"
      ],
      "metadata": {
        "colab": {
          "base_uri": "https://localhost:8080/",
          "height": 0
        },
        "id": "rAZu_D8qtuON",
        "outputId": "48098af0-0930-4046-8621-6f99142165e0"
      },
      "execution_count": 19,
      "outputs": [
        {
          "output_type": "stream",
          "name": "stdout",
          "text": [
            "Created test dictionary for 20000 users\n"
          ]
        }
      ]
    },
    {
      "cell_type": "code",
      "source": [
        "# Evaluate at different K values\n",
        "k_values = [1, 5, 10, 15, 20]\n",
        "baseline_prec_k = []\n",
        "als_prec_k = []\n",
        "\n",
        "# Sample 1000 users for speed\n",
        "sample_users = np.random.choice(len(user_test_items),\n",
        "                                min(1000, len(user_test_items)),\n",
        "                                replace=False)\n",
        "\n",
        "for k in k_values:\n",
        "    b_prec, a_prec = [], []\n",
        "\n",
        "    for i in sample_users:\n",
        "        user_idx = list(user_test_items.keys())[i]\n",
        "        true_items = user_test_items[user_idx]\n",
        "\n",
        "        b_recs = get_baseline_recommendations(k)\n",
        "        b_hits = len(set(b_recs) & set(true_items))\n",
        "        b_prec.append(b_hits / k if k > 0 else 0)\n",
        "\n",
        "        a_recs, _ = get_als_recommendations(user_idx, k)\n",
        "        a_hits = len(set(a_recs) & set(true_items))\n",
        "        a_prec.append(a_hits / k if k > 0 else 0)\n",
        "\n",
        "    baseline_prec_k.append(np.mean(b_prec))\n",
        "    als_prec_k.append(np.mean(a_prec))\n",
        "\n",
        "plt.figure(figsize=(8, 5))\n",
        "plt.plot(k_values, baseline_prec_k, marker='o', label='Baseline', linewidth=2)\n",
        "plt.plot(k_values, als_prec_k, marker='s', label='ALS', linewidth=2)\n",
        "plt.xlabel('K (Number of Recommendations)')\n",
        "plt.ylabel('Precision@K')\n",
        "plt.title('Recommendation Quality at Different K Values')\n",
        "plt.legend()\n",
        "plt.grid(alpha=0.3)\n",
        "plt.show()"
      ],
      "metadata": {
        "colab": {
          "base_uri": "https://localhost:8080/",
          "height": 487
        },
        "id": "l7JOE8fXrFxy",
        "outputId": "0a1e4c4d-a2f3-4ff2-a7e4-f492663cb3c9"
      },
      "execution_count": 20,
      "outputs": [
        {
          "output_type": "display_data",
          "data": {
            "text/plain": [
              "<Figure size 800x500 with 1 Axes>"
            ],
            "image/png": "[encoded data removed]"
          },
          "metadata": {}
        }
      ]
    },
    {
      "cell_type": "markdown",
      "source": [
        "## Sample Recommendations Analysis\n",
        "\n",
        "Let's examine actual recommendations for a sample user to understand the difference between baseline and collaborative filtering approaches."
      ],
      "metadata": {
        "id": "4inHpfJ0H_k2"
      }
    },
    {
      "cell_type": "code",
      "source": [
        "sample_user = 0\n",
        "\n",
        "# User's profile\n",
        "user_artists = train_matrix[sample_user].nonzero()[1]\n",
        "total_plays = train_matrix[sample_user].sum()\n",
        "\n",
        "print(f\"Sample User {sample_user} Profile:\")\n",
        "print(f\"  Artists listened to: {len(user_artists)}\")\n",
        "print(f\"  Total plays: {total_plays}\")\n",
        "\n",
        "# Show what they actually listen to\n",
        "print(f\"\\n  Top 5 artists in listening history:\")\n",
        "user_plays = [(idx, train_matrix[sample_user, idx]) for idx in user_artists]\n",
        "user_plays.sort(key=lambda x: x[1], reverse=True)\n",
        "for i, (artist_idx, plays) in enumerate(user_plays[:5]):\n",
        "    print(f\"    {i+1}. {get_artist_name(artist_idx)} ({int(plays):,} plays)\")\n",
        "\n",
        "# Get recommendations\n",
        "baseline_recs = get_baseline_recommendations(5)\n",
        "als_recs, als_scores = get_als_recommendations(sample_user, 5)\n",
        "\n",
        "print(f\"\\nBaseline Recommendations (Same for Everyone):\")\n",
        "for i, artist_idx in enumerate(baseline_recs):\n",
        "    plays = int(artist_popularity[artist_idx])\n",
        "    print(f\"  {i+1}. Artist {artist_idx} ({plays:,} total plays)\")\n",
        "\n",
        "print(f\"\\nALS Recommendations (Personalized for User {sample_user}):\")\n",
        "for i, (artist_idx, score) in enumerate(zip(als_recs, als_scores)):\n",
        "    print(f\"  {i+1}. {get_artist_name(artist_idx)} (score: {score:.3f})\")\n",
        "\n",
        "# Check against test set\n",
        "user_test_items = [item['item_idx'] for item in test_interactions if item['user_idx'] == sample_user]\n",
        "if user_test_items:\n",
        "    baseline_hits = len(set(baseline_recs) & set(user_test_items))\n",
        "    als_hits = len(set(als_recs) & set(user_test_items))\n",
        "    print(f\"\\nActual Relevance (Test Set Hits):\")\n",
        "    print(f\"  Baseline: {baseline_hits}/5\")\n",
        "    print(f\"  ALS: {als_hits}/5\")"
      ],
      "metadata": {
        "id": "VpPcXcoWIBQo",
        "colab": {
          "base_uri": "https://localhost:8080/",
          "height": 0
        },
        "outputId": "653f7e7c-1f06-4fde-8a62-35be958a1269"
      },
      "execution_count": 23,
      "outputs": [
        {
          "output_type": "stream",
          "name": "stdout",
          "text": [
            "Sample User 0 Profile:\n",
            "  Artists listened to: 52\n",
            "  Total plays: 12727\n",
            "\n",
            "  Top 5 artists in listening history:\n",
            "    1. master's hammer (748 plays)\n",
            "    2. misfits (726 plays)\n",
            "    3. rubella ballet (687 plays)\n",
            "    4. cauda pavonis (609 plays)\n",
            "    5. creepersin (583 plays)\n",
            "\n",
            "Baseline Recommendations (Same for Everyone):\n",
            "  1. Artist 156 (1,015,612 total plays)\n",
            "  2. Artist 305 (712,181 total plays)\n",
            "  3. Artist 816 (505,658 total plays)\n",
            "  4. Artist 344 (503,991 total plays)\n",
            "  5. Artist 421 (436,294 total plays)\n",
            "\n",
            "ALS Recommendations (Personalized for User 0):\n",
            "  1. the doors (score: 1.404)\n",
            "  2. tom waits (score: 1.244)\n",
            "  3. inkubus sukkubus (score: 1.227)\n",
            "  4. christian death (score: 1.195)\n",
            "  5. horrorpops (score: 1.159)\n",
            "\n",
            "Actual Relevance (Test Set Hits):\n",
            "  Baseline: 0/5\n",
            "  ALS: 2/5\n"
          ]
        }
      ]
    }
  ]
}