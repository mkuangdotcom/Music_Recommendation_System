{
  "nbformat": 4,
  "nbformat_minor": 0,
  "metadata": {
    "colab": {
      "provenance": [],
      "authorship_tag": "ABX9TyNjhFN/A0Ah7pOJc3wOlhkG"
    },
    "kernelspec": {
      "name": "python3",
      "display_name": "Python 3"
    },
    "language_info": {
      "name": "python"
    }
  },
  "cells": [
    {
      "cell_type": "markdown",
      "source": [
        "# Problem Statement\n",
        "\n",
        "Music streaming platforms need to recommend relevant songs to users from millions of tracks.\n",
        "This project implements and compares three recommendation approaches:\n",
        "\n",
        "1. Baseline: Popularity-based recommendations (recommend top songs to everyone)\n",
        "2. ALS (Alternating Least Squares): Advanced collaborative filtering\n",
        "3. Factorization Machines: Machine learning with user features"
      ],
      "metadata": {
        "id": "BzsWzoEVk2ec"
      }
    },
    {
      "cell_type": "markdown",
      "source": [
        "In this project, we use the Last.fm 360K dataset, scaled to 10,000 users and 5,000 artists for computational efficiency.\n",
        "\n",
        "Dataset: http://ocelma.net/MusicRecommendationDataset/lastfm-360K.html (depreated)\n",
        "\n",
        "Download link: https://zenodo.org/record/6090214/files/lastfm-dataset-360K.tar.gz"
      ],
      "metadata": {
        "id": "LRooI8x6k-Vz"
      }
    },
    {
      "cell_type": "markdown",
      "source": [
        "## Data Loading"
      ],
      "metadata": {
        "id": "SiM01EczY8h4"
      }
    },
    {
      "cell_type": "code",
      "source": [
        "!curl -L -o lastfm-dataset-360K.tar.gz https://zenodo.org/records/6090214/files/lastfm-dataset-360K.tar.gz\n",
        "\n",
        "# Extract\n",
        "!tar -xzf lastfm-dataset-360K.tar.gz\n",
        "\n",
        "# Remove tar file\n",
        "!rm lastfm-dataset-360K.tar.gz\n",
        "\n",
        "data_path = 'lastfm-dataset-360K/usersha1-artmbid-artname-plays.tsv'"
      ],
      "metadata": {
        "colab": {
          "base_uri": "https://localhost:8080/",
          "height": 0
        },
        "id": "RmYBFiHyY8Jr",
        "outputId": "e3cd1ac8-6e3b-48a4-daaa-6b3c31a2c276"
      },
      "execution_count": 5,
      "outputs": [
        {
          "output_type": "stream",
          "name": "stdout",
          "text": [
            "  % Total    % Received % Xferd  Average Speed   Time    Time     Time  Current\n",
            "                                 Dload  Upload   Total   Spent    Left  Speed\n",
            "100  542M  100  542M    0     0  17.9M      0  0:00:30  0:00:30 --:--:-- 19.4M\n"
          ]
        }
      ]
    },
    {
      "cell_type": "code",
      "source": [
        "import pandas as pd\n",
        "\n",
        "# Load\n",
        "df = pd.read_csv(data_path, sep='\\t', header=None,\n",
        "                 names=['user_id', 'artist_id', 'artist_name', 'play_count'])\n",
        "\n",
        "print(f\"Total interactions: {len(df):,}\")\n",
        "print(f\"Unique users: {df['user_id'].nunique():,}\")\n",
        "print(f\"Unique artists: {df['artist_id'].nunique():,}\")\n",
        "print(f\"Play count range: {df['play_count'].min()} - {df['play_count'].max()}\")\n",
        "\n",
        "df.head()"
      ],
      "metadata": {
        "colab": {
          "base_uri": "https://localhost:8080/",
          "height": 276
        },
        "id": "xx8CIh1Labc6",
        "outputId": "876dcf16-51a2-408e-abac-8ad45f089feb"
      },
      "execution_count": 7,
      "outputs": [
        {
          "output_type": "stream",
          "name": "stdout",
          "text": [
            "Total interactions: 17,535,655\n",
            "Unique users: 358,868\n",
            "Unique artists: 160,112\n",
            "Play count range: 0 - 419157\n"
          ]
        },
        {
          "output_type": "execute_result",
          "data": {
            "text/plain": [
              "                                    user_id  \\\n",
              "0  00000c289a1829a808ac09c00daf10bc3c4e223b   \n",
              "1  00000c289a1829a808ac09c00daf10bc3c4e223b   \n",
              "2  00000c289a1829a808ac09c00daf10bc3c4e223b   \n",
              "3  00000c289a1829a808ac09c00daf10bc3c4e223b   \n",
              "4  00000c289a1829a808ac09c00daf10bc3c4e223b   \n",
              "\n",
              "                              artist_id           artist_name  play_count  \n",
              "0  3bd73256-3905-4f3a-97e2-8b341527f805       betty blowtorch        2137  \n",
              "1  f2fb0ff0-5679-42ec-a55c-15109ce6e320             die Ärzte        1099  \n",
              "2  b3ae82c2-e60b-4551-a76d-6620f1b456aa     melissa etheridge         897  \n",
              "3  3d6bbeb7-f90e-4d10-b440-e153c0d10b53             elvenking         717  \n",
              "4  bbd2ffd7-17f4-4506-8572-c1ea58c3f9a8  juliette & the licks         706  "
            ],
            "text/html": [
              "\n",
              "  <div id=\"df-95503fb4-6caa-49ae-b53d-b7831a22d8b7\" class=\"colab-df-container\">\n",
              "    <div>\n",
              "<style scoped>\n",
              "    .dataframe tbody tr th:only-of-type {\n",
              "        vertical-align: middle;\n",
              "    }\n",
              "\n",
              "    .dataframe tbody tr th {\n",
              "        vertical-align: top;\n",
              "    }\n",
              "\n",
              "    .dataframe thead th {\n",
              "        text-align: right;\n",
              "    }\n",
              "</style>\n",
              "<table border=\"1\" class=\"dataframe\">\n",
              "  <thead>\n",
              "    <tr style=\"text-align: right;\">\n",
              "      <th></th>\n",
              "      <th>user_id</th>\n",
              "      <th>artist_id</th>\n",
              "      <th>artist_name</th>\n",
              "      <th>play_count</th>\n",
              "    </tr>\n",
              "  </thead>\n",
              "  <tbody>\n",
              "    <tr>\n",
              "      <th>0</th>\n",
              "      <td>00000c289a1829a808ac09c00daf10bc3c4e223b</td>\n",
              "      <td>3bd73256-3905-4f3a-97e2-8b341527f805</td>\n",
              "      <td>betty blowtorch</td>\n",
              "      <td>2137</td>\n",
              "    </tr>\n",
              "    <tr>\n",
              "      <th>1</th>\n",
              "      <td>00000c289a1829a808ac09c00daf10bc3c4e223b</td>\n",
              "      <td>f2fb0ff0-5679-42ec-a55c-15109ce6e320</td>\n",
              "      <td>die Ärzte</td>\n",
              "      <td>1099</td>\n",
              "    </tr>\n",
              "    <tr>\n",
              "      <th>2</th>\n",
              "      <td>00000c289a1829a808ac09c00daf10bc3c4e223b</td>\n",
              "      <td>b3ae82c2-e60b-4551-a76d-6620f1b456aa</td>\n",
              "      <td>melissa etheridge</td>\n",
              "      <td>897</td>\n",
              "    </tr>\n",
              "    <tr>\n",
              "      <th>3</th>\n",
              "      <td>00000c289a1829a808ac09c00daf10bc3c4e223b</td>\n",
              "      <td>3d6bbeb7-f90e-4d10-b440-e153c0d10b53</td>\n",
              "      <td>elvenking</td>\n",
              "      <td>717</td>\n",
              "    </tr>\n",
              "    <tr>\n",
              "      <th>4</th>\n",
              "      <td>00000c289a1829a808ac09c00daf10bc3c4e223b</td>\n",
              "      <td>bbd2ffd7-17f4-4506-8572-c1ea58c3f9a8</td>\n",
              "      <td>juliette &amp; the licks</td>\n",
              "      <td>706</td>\n",
              "    </tr>\n",
              "  </tbody>\n",
              "</table>\n",
              "</div>\n",
              "    <div class=\"colab-df-buttons\">\n",
              "\n",
              "  <div class=\"colab-df-container\">\n",
              "    <button class=\"colab-df-convert\" onclick=\"convertToInteractive('df-95503fb4-6caa-49ae-b53d-b7831a22d8b7')\"\n",
              "            title=\"Convert this dataframe to an interactive table.\"\n",
              "            style=\"display:none;\">\n",
              "\n",
              "  <svg xmlns=\"http://www.w3.org/2000/svg\" height=\"24px\" viewBox=\"0 -960 960 960\">\n",
              "    <path d=\"M120-120v-720h720v720H120Zm60-500h600v-160H180v160Zm220 220h160v-160H400v160Zm0 220h160v-160H400v160ZM180-400h160v-160H180v160Zm440 0h160v-160H620v160ZM180-180h160v-160H180v160Zm440 0h160v-160H620v160Z\"/>\n",
              "  </svg>\n",
              "    </button>\n",
              "\n",
              "  <style>\n",
              "    .colab-df-container {\n",
              "      display:flex;\n",
              "      gap: 12px;\n",
              "    }\n",
              "\n",
              "    .colab-df-convert {\n",
              "      background-color: #E8F0FE;\n",
              "      border: none;\n",
              "      border-radius: 50%;\n",
              "      cursor: pointer;\n",
              "      display: none;\n",
              "      fill: #1967D2;\n",
              "      height: 32px;\n",
              "      padding: 0 0 0 0;\n",
              "      width: 32px;\n",
              "    }\n",
              "\n",
              "    .colab-df-convert:hover {\n",
              "      background-color: #E2EBFA;\n",
              "      box-shadow: 0px 1px 2px rgba(60, 64, 67, 0.3), 0px 1px 3px 1px rgba(60, 64, 67, 0.15);\n",
              "      fill: #174EA6;\n",
              "    }\n",
              "\n",
              "    .colab-df-buttons div {\n",
              "      margin-bottom: 4px;\n",
              "    }\n",
              "\n",
              "    [theme=dark] .colab-df-convert {\n",
              "      background-color: #3B4455;\n",
              "      fill: #D2E3FC;\n",
              "    }\n",
              "\n",
              "    [theme=dark] .colab-df-convert:hover {\n",
              "      background-color: #434B5C;\n",
              "      box-shadow: 0px 1px 3px 1px rgba(0, 0, 0, 0.15);\n",
              "      filter: drop-shadow(0px 1px 2px rgba(0, 0, 0, 0.3));\n",
              "      fill: #FFFFFF;\n",
              "    }\n",
              "  </style>\n",
              "\n",
              "    <script>\n",
              "      const buttonEl =\n",
              "        document.querySelector('#df-95503fb4-6caa-49ae-b53d-b7831a22d8b7 button.colab-df-convert');\n",
              "      buttonEl.style.display =\n",
              "        google.colab.kernel.accessAllowed ? 'block' : 'none';\n",
              "\n",
              "      async function convertToInteractive(key) {\n",
              "        const element = document.querySelector('#df-95503fb4-6caa-49ae-b53d-b7831a22d8b7');\n",
              "        const dataTable =\n",
              "          await google.colab.kernel.invokeFunction('convertToInteractive',\n",
              "                                                    [key], {});\n",
              "        if (!dataTable) return;\n",
              "\n",
              "        const docLinkHtml = 'Like what you see? Visit the ' +\n",
              "          '<a target=\"_blank\" href=https://colab.research.google.com/notebooks/data_table.ipynb>data table notebook</a>'\n",
              "          + ' to learn more about interactive tables.';\n",
              "        element.innerHTML = '';\n",
              "        dataTable['output_type'] = 'display_data';\n",
              "        await google.colab.output.renderOutput(dataTable, element);\n",
              "        const docLink = document.createElement('div');\n",
              "        docLink.innerHTML = docLinkHtml;\n",
              "        element.appendChild(docLink);\n",
              "      }\n",
              "    </script>\n",
              "  </div>\n",
              "\n",
              "\n",
              "    <div id=\"df-8ad62be9-709e-4af7-996a-3be5513ce053\">\n",
              "      <button class=\"colab-df-quickchart\" onclick=\"quickchart('df-8ad62be9-709e-4af7-996a-3be5513ce053')\"\n",
              "                title=\"Suggest charts\"\n",
              "                style=\"display:none;\">\n",
              "\n",
              "<svg xmlns=\"http://www.w3.org/2000/svg\" height=\"24px\"viewBox=\"0 0 24 24\"\n",
              "     width=\"24px\">\n",
              "    <g>\n",
              "        <path d=\"M19 3H5c-1.1 0-2 .9-2 2v14c0 1.1.9 2 2 2h14c1.1 0 2-.9 2-2V5c0-1.1-.9-2-2-2zM9 17H7v-7h2v7zm4 0h-2V7h2v10zm4 0h-2v-4h2v4z\"/>\n",
              "    </g>\n",
              "</svg>\n",
              "      </button>\n",
              "\n",
              "<style>\n",
              "  .colab-df-quickchart {\n",
              "      --bg-color: #E8F0FE;\n",
              "      --fill-color: #1967D2;\n",
              "      --hover-bg-color: #E2EBFA;\n",
              "      --hover-fill-color: #174EA6;\n",
              "      --disabled-fill-color: #AAA;\n",
              "      --disabled-bg-color: #DDD;\n",
              "  }\n",
              "\n",
              "  [theme=dark] .colab-df-quickchart {\n",
              "      --bg-color: #3B4455;\n",
              "      --fill-color: #D2E3FC;\n",
              "      --hover-bg-color: #434B5C;\n",
              "      --hover-fill-color: #FFFFFF;\n",
              "      --disabled-bg-color: #3B4455;\n",
              "      --disabled-fill-color: #666;\n",
              "  }\n",
              "\n",
              "  .colab-df-quickchart {\n",
              "    background-color: var(--bg-color);\n",
              "    border: none;\n",
              "    border-radius: 50%;\n",
              "    cursor: pointer;\n",
              "    display: none;\n",
              "    fill: var(--fill-color);\n",
              "    height: 32px;\n",
              "    padding: 0;\n",
              "    width: 32px;\n",
              "  }\n",
              "\n",
              "  .colab-df-quickchart:hover {\n",
              "    background-color: var(--hover-bg-color);\n",
              "    box-shadow: 0 1px 2px rgba(60, 64, 67, 0.3), 0 1px 3px 1px rgba(60, 64, 67, 0.15);\n",
              "    fill: var(--button-hover-fill-color);\n",
              "  }\n",
              "\n",
              "  .colab-df-quickchart-complete:disabled,\n",
              "  .colab-df-quickchart-complete:disabled:hover {\n",
              "    background-color: var(--disabled-bg-color);\n",
              "    fill: var(--disabled-fill-color);\n",
              "    box-shadow: none;\n",
              "  }\n",
              "\n",
              "  .colab-df-spinner {\n",
              "    border: 2px solid var(--fill-color);\n",
              "    border-color: transparent;\n",
              "    border-bottom-color: var(--fill-color);\n",
              "    animation:\n",
              "      spin 1s steps(1) infinite;\n",
              "  }\n",
              "\n",
              "  @keyframes spin {\n",
              "    0% {\n",
              "      border-color: transparent;\n",
              "      border-bottom-color: var(--fill-color);\n",
              "      border-left-color: var(--fill-color);\n",
              "    }\n",
              "    20% {\n",
              "      border-color: transparent;\n",
              "      border-left-color: var(--fill-color);\n",
              "      border-top-color: var(--fill-color);\n",
              "    }\n",
              "    30% {\n",
              "      border-color: transparent;\n",
              "      border-left-color: var(--fill-color);\n",
              "      border-top-color: var(--fill-color);\n",
              "      border-right-color: var(--fill-color);\n",
              "    }\n",
              "    40% {\n",
              "      border-color: transparent;\n",
              "      border-right-color: var(--fill-color);\n",
              "      border-top-color: var(--fill-color);\n",
              "    }\n",
              "    60% {\n",
              "      border-color: transparent;\n",
              "      border-right-color: var(--fill-color);\n",
              "    }\n",
              "    80% {\n",
              "      border-color: transparent;\n",
              "      border-right-color: var(--fill-color);\n",
              "      border-bottom-color: var(--fill-color);\n",
              "    }\n",
              "    90% {\n",
              "      border-color: transparent;\n",
              "      border-bottom-color: var(--fill-color);\n",
              "    }\n",
              "  }\n",
              "</style>\n",
              "\n",
              "      <script>\n",
              "        async function quickchart(key) {\n",
              "          const quickchartButtonEl =\n",
              "            document.querySelector('#' + key + ' button');\n",
              "          quickchartButtonEl.disabled = true;  // To prevent multiple clicks.\n",
              "          quickchartButtonEl.classList.add('colab-df-spinner');\n",
              "          try {\n",
              "            const charts = await google.colab.kernel.invokeFunction(\n",
              "                'suggestCharts', [key], {});\n",
              "          } catch (error) {\n",
              "            console.error('Error during call to suggestCharts:', error);\n",
              "          }\n",
              "          quickchartButtonEl.classList.remove('colab-df-spinner');\n",
              "          quickchartButtonEl.classList.add('colab-df-quickchart-complete');\n",
              "        }\n",
              "        (() => {\n",
              "          let quickchartButtonEl =\n",
              "            document.querySelector('#df-8ad62be9-709e-4af7-996a-3be5513ce053 button');\n",
              "          quickchartButtonEl.style.display =\n",
              "            google.colab.kernel.accessAllowed ? 'block' : 'none';\n",
              "        })();\n",
              "      </script>\n",
              "    </div>\n",
              "\n",
              "    </div>\n",
              "  </div>\n"
            ],
            "application/vnd.google.colaboratory.intrinsic+json": {
              "type": "dataframe",
              "variable_name": "df"
            }
          },
          "metadata": {},
          "execution_count": 7
        }
      ]
    },
    {
      "cell_type": "markdown",
      "source": [
        "## Visualize and Scale the Data"
      ],
      "metadata": {
        "id": "B_df2SzYgUjy"
      }
    },
    {
      "cell_type": "markdown",
      "source": [
        "Visualizations of user play counts, artist popularity, and user activity distributions."
      ],
      "metadata": {
        "id": "oxfmNn6jgnkH"
      }
    },
    {
      "cell_type": "code",
      "source": [
        "import matplotlib.pyplot as plt\n",
        "import seaborn as sns\n",
        "\n",
        "# Visualize play count distribution\n",
        "plt.figure(figsize=(6, 6))\n",
        "sns.histplot(df['play_count'], bins=50, kde=False, color='skyblue')\n",
        "plt.title('Distribution of Play Counts')\n",
        "plt.xlabel('Play Count')\n",
        "plt.ylabel('Frequency')\n",
        "plt.yscale('log')\n",
        "plt.show()\n",
        "\n",
        "# Visualize user activity distribution\n",
        "plt.figure(figsize=(6, 6))\n",
        "sns.histplot(user_activity['num_artists'], bins=50, kde=False, color='lightgreen')\n",
        "plt.title('Distribution of Number of Artists per User')\n",
        "plt.xlabel('Number of Artists')\n",
        "plt.ylabel('Number of Users')\n",
        "plt.yscale('log')\n",
        "plt.show()\n",
        "\n",
        "# Visualize artist popularity distribution\n",
        "plt.figure(figsize=(6, 6))\n",
        "sns.histplot(artist_popularity['num_listeners'], bins=50, kde=False, color='salmon')\n",
        "plt.title('Distribution of Number of Listeners per Artist')\n",
        "plt.xlabel('Number of Listeners')\n",
        "plt.ylabel('Number of Artists')\n",
        "plt.yscale('log')\n",
        "plt.show()"
      ],
      "metadata": {
        "colab": {
          "base_uri": "https://localhost:8080/",
          "height": 1658
        },
        "id": "JwAVebbPeJcs",
        "outputId": "6d5ef7b3-0b81-448a-a614-3b2e5e6997dc"
      },
      "execution_count": 9,
      "outputs": [
        {
          "output_type": "display_data",
          "data": {
            "text/plain": [
              "<Figure size 600x600 with 1 Axes>"
            ],
            "image/png": "[encoded data removed]"
          },
          "metadata": {}
        },
        {
          "output_type": "display_data",
          "data": {
            "text/plain": [
              "<Figure size 600x600 with 1 Axes>"
            ],
            "image/png": "[encoded data removed]"
          },
          "metadata": {}
        },
        {
          "output_type": "display_data",
          "data": {
            "text/plain": [
              "<Figure size 600x600 with 1 Axes>"
            ],
            "image/png": "[encoded data removed]"
          },
          "metadata": {}
        }
      ]
    },
    {
      "cell_type": "markdown",
      "source": [
        "## Filter and Scale"
      ],
      "metadata": {
        "id": "C7G0Cmxy-xR3"
      }
    },
    {
      "cell_type": "code",
      "source": [
        "# Filter users with at least 20 unique artists\n",
        "user_counts = df.groupby('user_id').size()\n",
        "active_users = user_counts[user_counts >= 20].index\n",
        "df_filtered = df[df['user_id'].isin(active_users)]\n",
        "\n",
        "# Filter artists with at least 10 unique listeners\n",
        "artist_counts = df_filtered.groupby('artist_id').size()\n",
        "popular_artists = artist_counts[artist_counts >= 10].index\n",
        "df_filtered = df_filtered[df_filtered['artist_id'].isin(popular_artists)]\n",
        "\n",
        "# Scale down to the top 10,000 users and 5,000 artists\n",
        "top_users = df_filtered['user_id'].value_counts().head(10000).index\n",
        "top_artists = df_filtered['artist_id'].value_counts().head(5000).index\n",
        "df_scaled = df_filtered[\n",
        "    (df_filtered['user_id'].isin(top_users)) &\n",
        "    (df_filtered['artist_id'].isin(top_artists))\n",
        "]\n",
        "\n",
        "print(f\"Final scaled data: {len(df_scaled):,} interactions\")\n",
        "print(f\"Users: {df_scaled['user_id'].nunique():,}\")\n",
        "print(f\"Artists: {df_scaled['artist_id'].nunique():,}\")"
      ],
      "metadata": {
        "colab": {
          "base_uri": "https://localhost:8080/",
          "height": 0
        },
        "id": "UyH441HVgaNw",
        "outputId": "a521560b-f840-4c76-b263-b56c4213c6d6"
      },
      "execution_count": 10,
      "outputs": [
        {
          "output_type": "stream",
          "name": "stdout",
          "text": [
            "Final scaled data: 503,817 interactions\n",
            "Users: 9,999\n",
            "Artists: 5,000\n"
          ]
        }
      ]
    },
    {
      "cell_type": "markdown",
      "source": [
        "## Preprocessing"
      ],
      "metadata": {
        "id": "IDENmJFboIIT"
      }
    },
    {
      "cell_type": "code",
      "source": [
        "from scipy.sparse import csr_matrix\n",
        "\n",
        "# Create user and artist mappings\n",
        "user_mapping = {user: idx for idx, user in enumerate(df_scaled['user_id'].unique())}\n",
        "artist_mapping = {artist: idx for idx, artist in enumerate(df_scaled['artist_id'].unique())}\n",
        "\n",
        "# Map IDs to indices\n",
        "df_scaled['user_idx'] = df_scaled['user_id'].map(user_mapping)\n",
        "df_scaled['artist_idx'] = df_scaled['artist_id'].map(artist_mapping)\n",
        "\n",
        "# Create sparse matrix\n",
        "rows = df_scaled['user_idx'].values\n",
        "cols = df_scaled['artist_idx'].values\n",
        "data = df_scaled['play_count'].values\n",
        "sparse_matrix = csr_matrix((data, (rows, cols)),\n",
        "                           shape=(len(user_mapping), len(artist_mapping)))\n",
        "\n",
        "print(f\"Sparse matrix shape: {sparse_matrix.shape}\")\n",
        "print(f\"Non-zero entries: {sparse_matrix.nnz:,}\")"
      ],
      "metadata": {
        "colab": {
          "base_uri": "https://localhost:8080/",
          "height": 0
        },
        "id": "pPXIuqCYhLVt",
        "outputId": "247990a0-371f-4421-d45d-949052e6d625"
      },
      "execution_count": 11,
      "outputs": [
        {
          "output_type": "stream",
          "name": "stdout",
          "text": [
            "Sparse matrix shape: (9999, 5000)\n",
            "Non-zero entries: 503,796\n"
          ]
        },
        {
          "output_type": "stream",
          "name": "stderr",
          "text": [
            "/tmp/ipython-input-4266519952.py:8: SettingWithCopyWarning: \n",
            "A value is trying to be set on a copy of a slice from a DataFrame.\n",
            "Try using .loc[row_indexer,col_indexer] = value instead\n",
            "\n",
            "See the caveats in the documentation: https://pandas.pydata.org/pandas-docs/stable/user_guide/indexing.html#returning-a-view-versus-a-copy\n",
            "  df_scaled['user_idx'] = df_scaled['user_id'].map(user_mapping)\n",
            "/tmp/ipython-input-4266519952.py:9: SettingWithCopyWarning: \n",
            "A value is trying to be set on a copy of a slice from a DataFrame.\n",
            "Try using .loc[row_indexer,col_indexer] = value instead\n",
            "\n",
            "See the caveats in the documentation: https://pandas.pydata.org/pandas-docs/stable/user_guide/indexing.html#returning-a-view-versus-a-copy\n",
            "  df_scaled['artist_idx'] = df_scaled['artist_id'].map(artist_mapping)\n"
          ]
        }
      ]
    },
    {
      "cell_type": "markdown",
      "source": [
        "## Train/Test Split"
      ],
      "metadata": {
        "id": "ptjmH6BQn93h"
      }
    },
    {
      "cell_type": "code",
      "source": [
        "import numpy as np\n",
        "\n",
        "# Split into train and test sets\n",
        "train_matrix = sparse_matrix.copy()\n",
        "test_interactions = []\n",
        "\n",
        "test_ratio = 0.2\n",
        "min_interactions = 5\n",
        "\n",
        "for user_idx in range(sparse_matrix.shape[0]):\n",
        "    user_interactions = sparse_matrix.getrow(user_idx)\n",
        "    nonzero_items = user_interactions.nonzero()[1]\n",
        "\n",
        "    if len(nonzero_items) >= min_interactions:\n",
        "        n_test = max(1, int(len(nonzero_items) * test_ratio))\n",
        "        test_items = np.random.choice(nonzero_items, n_test, replace=False)\n",
        "\n",
        "        for item_idx in test_items:\n",
        "            test_interactions.append({\n",
        "                'user_idx': user_idx,\n",
        "                'item_idx': item_idx,\n",
        "                'rating': sparse_matrix[user_idx, item_idx]\n",
        "            })\n",
        "            train_matrix[user_idx, item_idx] = 0\n",
        "\n",
        "train_matrix.eliminate_zeros()\n",
        "\n",
        "print(f\"Train matrix shape: {train_matrix.shape}\")\n",
        "print(f\"Test interactions: {len(test_interactions):,}\")"
      ],
      "metadata": {
        "colab": {
          "base_uri": "https://localhost:8080/",
          "height": 0
        },
        "id": "bmxNqSLdoA5i",
        "outputId": "b04d9fe2-750f-459b-d6a5-67a2b0a08db7"
      },
      "execution_count": 12,
      "outputs": [
        {
          "output_type": "stream",
          "name": "stdout",
          "text": [
            "Train matrix shape: (9999, 5000)\n",
            "Test interactions: 96,786\n"
          ]
        }
      ]
    },
    {
      "cell_type": "code",
      "source": [
        "# Check for data leakage\n",
        "assert train_matrix.nnz + len(test_interactions) == sparse_matrix.nnz, \"Data leakage detected\"\n",
        "\n",
        "# Check sparsity\n",
        "train_sparsity = (1 - train_matrix.nnz / (train_matrix.shape[0] * train_matrix.shape[1])) * 100\n",
        "print(f\"Train set sparsity: {train_sparsity:.2f}%\")\n",
        "\n",
        "# Check for cold-start users\n",
        "train_user_counts = np.array(train_matrix.sum(axis=1)).flatten()\n",
        "cold_start_users = np.sum(train_user_counts == 0)\n",
        "print(f\"Cold-start users: {cold_start_users}\")"
      ],
      "metadata": {
        "colab": {
          "base_uri": "https://localhost:8080/",
          "height": 0
        },
        "id": "TRV99m6u_Jqz",
        "outputId": "1e8a7fe9-13e3-46a1-c66e-3150898e9448"
      },
      "execution_count": 13,
      "outputs": [
        {
          "output_type": "stream",
          "name": "stdout",
          "text": [
            "Train set sparsity: 99.19%\n",
            "Cold-start users: 0\n"
          ]
        }
      ]
    },
    {
      "cell_type": "code",
      "source": [
        "# Log transformation\n",
        "matrix_log = sparse_matrix.copy().astype(float)\n",
        "matrix_log.data = np.log1p(matrix_log.data)\n",
        "\n",
        "# Binary transformation\n",
        "matrix_binary = sparse_matrix.copy()\n",
        "matrix_binary.data = (matrix_binary.data > 0).astype(float)\n",
        "\n",
        "# User-normalized transformation\n",
        "matrix_normalized = sparse_matrix.copy().astype(float)\n",
        "row_sums = np.array(matrix_normalized.sum(axis=1)).flatten()\n",
        "row_sums[row_sums == 0] = 1  # Avoid division by zero\n",
        "for i in range(matrix_normalized.shape[0]):\n",
        "    matrix_normalized.data[matrix_normalized.indptr[i]:matrix_normalized.indptr[i+1]] /= row_sums[i]"
      ],
      "metadata": {
        "id": "G9nOwsQWDxp3"
      },
      "execution_count": 14,
      "outputs": []
    }
  ]
}