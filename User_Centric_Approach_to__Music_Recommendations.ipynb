{
  "nbformat": 4,
  "nbformat_minor": 0,
  "metadata": {
    "colab": {
      "provenance": [],
      "authorship_tag": "ABX9TyO8MDWmF7m5o1JCGiZbOiuD"
    },
    "kernelspec": {
      "name": "python3",
      "display_name": "Python 3"
    },
    "language_info": {
      "name": "python"
    },
    "widgets": {
      "application/vnd.jupyter.widget-state+json": {
        "c8040d5c2f984b1caffa8737b37b1c35": {
          "model_module": "@jupyter-widgets/controls",
          "model_name": "HBoxModel",
          "model_module_version": "1.5.0",
          "state": {
            "_dom_classes": [],
            "_model_module": "@jupyter-widgets/controls",
            "_model_module_version": "1.5.0",
            "_model_name": "HBoxModel",
            "_view_count": null,
            "_view_module": "@jupyter-widgets/controls",
            "_view_module_version": "1.5.0",
            "_view_name": "HBoxView",
            "box_style": "",
            "children": [
              "IPY_MODEL_d5c0df878f4f485391ed68a8e621e444",
              "IPY_MODEL_d5a56aa4a25d49e29e2d9dd11182ba40",
              "IPY_MODEL_00a40570d4d84ccf93f1fdff01efb7a4"
            ],
            "layout": "IPY_MODEL_a30151fcfca942faa39d637758ea0c88"
          }
        },
        "d5c0df878f4f485391ed68a8e621e444": {
          "model_module": "@jupyter-widgets/controls",
          "model_name": "HTMLModel",
          "model_module_version": "1.5.0",
          "state": {
            "_dom_classes": [],
            "_model_module": "@jupyter-widgets/controls",
            "_model_module_version": "1.5.0",
            "_model_name": "HTMLModel",
            "_view_count": null,
            "_view_module": "@jupyter-widgets/controls",
            "_view_module_version": "1.5.0",
            "_view_name": "HTMLView",
            "description": "",
            "description_tooltip": null,
            "layout": "IPY_MODEL_8786b0a347374f6eb60610a68441d1e3",
            "placeholder": "​",
            "style": "IPY_MODEL_1a54cce3f6c041769ee603a64d2db9bd",
            "value": "100%"
          }
        },
        "d5a56aa4a25d49e29e2d9dd11182ba40": {
          "model_module": "@jupyter-widgets/controls",
          "model_name": "FloatProgressModel",
          "model_module_version": "1.5.0",
          "state": {
            "_dom_classes": [],
            "_model_module": "@jupyter-widgets/controls",
            "_model_module_version": "1.5.0",
            "_model_name": "FloatProgressModel",
            "_view_count": null,
            "_view_module": "@jupyter-widgets/controls",
            "_view_module_version": "1.5.0",
            "_view_name": "ProgressView",
            "bar_style": "success",
            "description": "",
            "description_tooltip": null,
            "layout": "IPY_MODEL_1f11e2d12ccf418f88060c965176b5da",
            "max": 20,
            "min": 0,
            "orientation": "horizontal",
            "style": "IPY_MODEL_5e4e858a96a74b6682aa117b819fe438",
            "value": 20
          }
        },
        "00a40570d4d84ccf93f1fdff01efb7a4": {
          "model_module": "@jupyter-widgets/controls",
          "model_name": "HTMLModel",
          "model_module_version": "1.5.0",
          "state": {
            "_dom_classes": [],
            "_model_module": "@jupyter-widgets/controls",
            "_model_module_version": "1.5.0",
            "_model_name": "HTMLModel",
            "_view_count": null,
            "_view_module": "@jupyter-widgets/controls",
            "_view_module_version": "1.5.0",
            "_view_name": "HTMLView",
            "description": "",
            "description_tooltip": null,
            "layout": "IPY_MODEL_ebca908177814702a3f80cdc9e1100c0",
            "placeholder": "​",
            "style": "IPY_MODEL_c801ba4972214c01bbc11aff929160b2",
            "value": " 20/20 [00:11&lt;00:00,  2.71it/s]"
          }
        },
        "a30151fcfca942faa39d637758ea0c88": {
          "model_module": "@jupyter-widgets/base",
          "model_name": "LayoutModel",
          "model_module_version": "1.2.0",
          "state": {
            "_model_module": "@jupyter-widgets/base",
            "_model_module_version": "1.2.0",
            "_model_name": "LayoutModel",
            "_view_count": null,
            "_view_module": "@jupyter-widgets/base",
            "_view_module_version": "1.2.0",
            "_view_name": "LayoutView",
            "align_content": null,
            "align_items": null,
            "align_self": null,
            "border": null,
            "bottom": null,
            "display": null,
            "flex": null,
            "flex_flow": null,
            "grid_area": null,
            "grid_auto_columns": null,
            "grid_auto_flow": null,
            "grid_auto_rows": null,
            "grid_column": null,
            "grid_gap": null,
            "grid_row": null,
            "grid_template_areas": null,
            "grid_template_columns": null,
            "grid_template_rows": null,
            "height": null,
            "justify_content": null,
            "justify_items": null,
            "left": null,
            "margin": null,
            "max_height": null,
            "max_width": null,
            "min_height": null,
            "min_width": null,
            "object_fit": null,
            "object_position": null,
            "order": null,
            "overflow": null,
            "overflow_x": null,
            "overflow_y": null,
            "padding": null,
            "right": null,
            "top": null,
            "visibility": null,
            "width": null
          }
        },
        "8786b0a347374f6eb60610a68441d1e3": {
          "model_module": "@jupyter-widgets/base",
          "model_name": "LayoutModel",
          "model_module_version": "1.2.0",
          "state": {
            "_model_module": "@jupyter-widgets/base",
            "_model_module_version": "1.2.0",
            "_model_name": "LayoutModel",
            "_view_count": null,
            "_view_module": "@jupyter-widgets/base",
            "_view_module_version": "1.2.0",
            "_view_name": "LayoutView",
            "align_content": null,
            "align_items": null,
            "align_self": null,
            "border": null,
            "bottom": null,
            "display": null,
            "flex": null,
            "flex_flow": null,
            "grid_area": null,
            "grid_auto_columns": null,
            "grid_auto_flow": null,
            "grid_auto_rows": null,
            "grid_column": null,
            "grid_gap": null,
            "grid_row": null,
            "grid_template_areas": null,
            "grid_template_columns": null,
            "grid_template_rows": null,
            "height": null,
            "justify_content": null,
            "justify_items": null,
            "left": null,
            "margin": null,
            "max_height": null,
            "max_width": null,
            "min_height": null,
            "min_width": null,
            "object_fit": null,
            "object_position": null,
            "order": null,
            "overflow": null,
            "overflow_x": null,
            "overflow_y": null,
            "padding": null,
            "right": null,
            "top": null,
            "visibility": null,
            "width": null
          }
        },
        "1a54cce3f6c041769ee603a64d2db9bd": {
          "model_module": "@jupyter-widgets/controls",
          "model_name": "DescriptionStyleModel",
          "model_module_version": "1.5.0",
          "state": {
            "_model_module": "@jupyter-widgets/controls",
            "_model_module_version": "1.5.0",
            "_model_name": "DescriptionStyleModel",
            "_view_count": null,
            "_view_module": "@jupyter-widgets/base",
            "_view_module_version": "1.2.0",
            "_view_name": "StyleView",
            "description_width": ""
          }
        },
        "1f11e2d12ccf418f88060c965176b5da": {
          "model_module": "@jupyter-widgets/base",
          "model_name": "LayoutModel",
          "model_module_version": "1.2.0",
          "state": {
            "_model_module": "@jupyter-widgets/base",
            "_model_module_version": "1.2.0",
            "_model_name": "LayoutModel",
            "_view_count": null,
            "_view_module": "@jupyter-widgets/base",
            "_view_module_version": "1.2.0",
            "_view_name": "LayoutView",
            "align_content": null,
            "align_items": null,
            "align_self": null,
            "border": null,
            "bottom": null,
            "display": null,
            "flex": null,
            "flex_flow": null,
            "grid_area": null,
            "grid_auto_columns": null,
            "grid_auto_flow": null,
            "grid_auto_rows": null,
            "grid_column": null,
            "grid_gap": null,
            "grid_row": null,
            "grid_template_areas": null,
            "grid_template_columns": null,
            "grid_template_rows": null,
            "height": null,
            "justify_content": null,
            "justify_items": null,
            "left": null,
            "margin": null,
            "max_height": null,
            "max_width": null,
            "min_height": null,
            "min_width": null,
            "object_fit": null,
            "object_position": null,
            "order": null,
            "overflow": null,
            "overflow_x": null,
            "overflow_y": null,
            "padding": null,
            "right": null,
            "top": null,
            "visibility": null,
            "width": null
          }
        },
        "5e4e858a96a74b6682aa117b819fe438": {
          "model_module": "@jupyter-widgets/controls",
          "model_name": "ProgressStyleModel",
          "model_module_version": "1.5.0",
          "state": {
            "_model_module": "@jupyter-widgets/controls",
            "_model_module_version": "1.5.0",
            "_model_name": "ProgressStyleModel",
            "_view_count": null,
            "_view_module": "@jupyter-widgets/base",
            "_view_module_version": "1.2.0",
            "_view_name": "StyleView",
            "bar_color": null,
            "description_width": ""
          }
        },
        "ebca908177814702a3f80cdc9e1100c0": {
          "model_module": "@jupyter-widgets/base",
          "model_name": "LayoutModel",
          "model_module_version": "1.2.0",
          "state": {
            "_model_module": "@jupyter-widgets/base",
            "_model_module_version": "1.2.0",
            "_model_name": "LayoutModel",
            "_view_count": null,
            "_view_module": "@jupyter-widgets/base",
            "_view_module_version": "1.2.0",
            "_view_name": "LayoutView",
            "align_content": null,
            "align_items": null,
            "align_self": null,
            "border": null,
            "bottom": null,
            "display": null,
            "flex": null,
            "flex_flow": null,
            "grid_area": null,
            "grid_auto_columns": null,
            "grid_auto_flow": null,
            "grid_auto_rows": null,
            "grid_column": null,
            "grid_gap": null,
            "grid_row": null,
            "grid_template_areas": null,
            "grid_template_columns": null,
            "grid_template_rows": null,
            "height": null,
            "justify_content": null,
            "justify_items": null,
            "left": null,
            "margin": null,
            "max_height": null,
            "max_width": null,
            "min_height": null,
            "min_width": null,
            "object_fit": null,
            "object_position": null,
            "order": null,
            "overflow": null,
            "overflow_x": null,
            "overflow_y": null,
            "padding": null,
            "right": null,
            "top": null,
            "visibility": null,
            "width": null
          }
        },
        "c801ba4972214c01bbc11aff929160b2": {
          "model_module": "@jupyter-widgets/controls",
          "model_name": "DescriptionStyleModel",
          "model_module_version": "1.5.0",
          "state": {
            "_model_module": "@jupyter-widgets/controls",
            "_model_module_version": "1.5.0",
            "_model_name": "DescriptionStyleModel",
            "_view_count": null,
            "_view_module": "@jupyter-widgets/base",
            "_view_module_version": "1.2.0",
            "_view_name": "StyleView",
            "description_width": ""
          }
        }
      }
    }
  },
  "cells": [
    {
      "cell_type": "markdown",
      "source": [
        "# Problem Statement\n",
        "\n",
        "Music streaming platforms need to recommend relevant songs to users from millions of tracks.\n",
        "This project implements and compares three recommendation approaches:\n",
        "\n",
        "1. Baseline: Popularity-based recommendations (recommend top songs to everyone)\n",
        "2. ALS (Alternating Least Squares): Advanced collaborative filtering\n",
        "3. Factorization Machines: Machine learning with user features"
      ],
      "metadata": {
        "id": "BzsWzoEVk2ec"
      }
    },
    {
      "cell_type": "markdown",
      "source": [
        "In this project, we use the Last.fm 360K dataset, scaled to 10,000 users and 5,000 artists for computational efficiency.\n",
        "\n",
        "Dataset: http://ocelma.net/MusicRecommendationDataset/lastfm-360K.html (depreated)\n",
        "\n",
        "Download link: https://zenodo.org/record/6090214/files/lastfm-dataset-360K.tar.gz"
      ],
      "metadata": {
        "id": "LRooI8x6k-Vz"
      }
    },
    {
      "cell_type": "markdown",
      "source": [
        "## Data Loading"
      ],
      "metadata": {
        "id": "SiM01EczY8h4"
      }
    },
    {
      "cell_type": "code",
      "source": [
        "!curl -L -o lastfm-dataset-360K.tar.gz https://zenodo.org/records/6090214/files/lastfm-dataset-360K.tar.gz\n",
        "\n",
        "# Extract\n",
        "!tar -xzf lastfm-dataset-360K.tar.gz\n",
        "\n",
        "# Remove tar file\n",
        "!rm lastfm-dataset-360K.tar.gz\n",
        "\n",
        "data_path = 'lastfm-dataset-360K/usersha1-artmbid-artname-plays.tsv'"
      ],
      "metadata": {
        "colab": {
          "base_uri": "https://localhost:8080/"
        },
        "id": "RmYBFiHyY8Jr",
        "outputId": "c336b723-192a-4b33-93b3-cb223d75c934"
      },
      "execution_count": null,
      "outputs": [
        {
          "output_type": "stream",
          "name": "stdout",
          "text": [
            "  % Total    % Received % Xferd  Average Speed   Time    Time     Time  Current\n",
            "                                 Dload  Upload   Total   Spent    Left  Speed\n",
            "100  542M  100  542M    0     0  26.5M      0  0:00:20  0:00:20 --:--:-- 29.6M\n"
          ]
        }
      ]
    },
    {
      "cell_type": "code",
      "source": [
        "import pandas as pd\n",
        "\n",
        "# Load\n",
        "df = pd.read_csv(data_path, sep='\\t', header=None,\n",
        "                 names=['user_id', 'artist_id', 'artist_name', 'play_count'])\n",
        "\n",
        "print(f\"Total interactions: {len(df):,}\")\n",
        "print(f\"Unique users: {df['user_id'].nunique():,}\")\n",
        "print(f\"Unique artists: {df['artist_id'].nunique():,}\")\n",
        "print(f\"Play count range: {df['play_count'].min()} - {df['play_count'].max()}\")\n",
        "\n",
        "df.head()"
      ],
      "metadata": {
        "colab": {
          "base_uri": "https://localhost:8080/",
          "height": 275
        },
        "id": "xx8CIh1Labc6",
        "outputId": "9797d0ef-2523-411f-97ae-cd0faf547fe1"
      },
      "execution_count": null,
      "outputs": [
        {
          "output_type": "stream",
          "name": "stdout",
          "text": [
            "Total interactions: 17,535,655\n",
            "Unique users: 358,868\n",
            "Unique artists: 160,112\n",
            "Play count range: 0 - 419157\n"
          ]
        },
        {
          "output_type": "execute_result",
          "data": {
            "text/plain": [
              "                                    user_id  \\\n",
              "0  00000c289a1829a808ac09c00daf10bc3c4e223b   \n",
              "1  00000c289a1829a808ac09c00daf10bc3c4e223b   \n",
              "2  00000c289a1829a808ac09c00daf10bc3c4e223b   \n",
              "3  00000c289a1829a808ac09c00daf10bc3c4e223b   \n",
              "4  00000c289a1829a808ac09c00daf10bc3c4e223b   \n",
              "\n",
              "                              artist_id           artist_name  play_count  \n",
              "0  3bd73256-3905-4f3a-97e2-8b341527f805       betty blowtorch        2137  \n",
              "1  f2fb0ff0-5679-42ec-a55c-15109ce6e320             die Ärzte        1099  \n",
              "2  b3ae82c2-e60b-4551-a76d-6620f1b456aa     melissa etheridge         897  \n",
              "3  3d6bbeb7-f90e-4d10-b440-e153c0d10b53             elvenking         717  \n",
              "4  bbd2ffd7-17f4-4506-8572-c1ea58c3f9a8  juliette & the licks         706  "
            ],
            "text/html": [
              "\n",
              "  <div id=\"df-f8f27ac6-5c50-4ef8-bea6-6d5f3e525c6c\" class=\"colab-df-container\">\n",
              "    <div>\n",
              "<style scoped>\n",
              "    .dataframe tbody tr th:only-of-type {\n",
              "        vertical-align: middle;\n",
              "    }\n",
              "\n",
              "    .dataframe tbody tr th {\n",
              "        vertical-align: top;\n",
              "    }\n",
              "\n",
              "    .dataframe thead th {\n",
              "        text-align: right;\n",
              "    }\n",
              "</style>\n",
              "<table border=\"1\" class=\"dataframe\">\n",
              "  <thead>\n",
              "    <tr style=\"text-align: right;\">\n",
              "      <th></th>\n",
              "      <th>user_id</th>\n",
              "      <th>artist_id</th>\n",
              "      <th>artist_name</th>\n",
              "      <th>play_count</th>\n",
              "    </tr>\n",
              "  </thead>\n",
              "  <tbody>\n",
              "    <tr>\n",
              "      <th>0</th>\n",
              "      <td>00000c289a1829a808ac09c00daf10bc3c4e223b</td>\n",
              "      <td>3bd73256-3905-4f3a-97e2-8b341527f805</td>\n",
              "      <td>betty blowtorch</td>\n",
              "      <td>2137</td>\n",
              "    </tr>\n",
              "    <tr>\n",
              "      <th>1</th>\n",
              "      <td>00000c289a1829a808ac09c00daf10bc3c4e223b</td>\n",
              "      <td>f2fb0ff0-5679-42ec-a55c-15109ce6e320</td>\n",
              "      <td>die Ärzte</td>\n",
              "      <td>1099</td>\n",
              "    </tr>\n",
              "    <tr>\n",
              "      <th>2</th>\n",
              "      <td>00000c289a1829a808ac09c00daf10bc3c4e223b</td>\n",
              "      <td>b3ae82c2-e60b-4551-a76d-6620f1b456aa</td>\n",
              "      <td>melissa etheridge</td>\n",
              "      <td>897</td>\n",
              "    </tr>\n",
              "    <tr>\n",
              "      <th>3</th>\n",
              "      <td>00000c289a1829a808ac09c00daf10bc3c4e223b</td>\n",
              "      <td>3d6bbeb7-f90e-4d10-b440-e153c0d10b53</td>\n",
              "      <td>elvenking</td>\n",
              "      <td>717</td>\n",
              "    </tr>\n",
              "    <tr>\n",
              "      <th>4</th>\n",
              "      <td>00000c289a1829a808ac09c00daf10bc3c4e223b</td>\n",
              "      <td>bbd2ffd7-17f4-4506-8572-c1ea58c3f9a8</td>\n",
              "      <td>juliette &amp; the licks</td>\n",
              "      <td>706</td>\n",
              "    </tr>\n",
              "  </tbody>\n",
              "</table>\n",
              "</div>\n",
              "    <div class=\"colab-df-buttons\">\n",
              "\n",
              "  <div class=\"colab-df-container\">\n",
              "    <button class=\"colab-df-convert\" onclick=\"convertToInteractive('df-f8f27ac6-5c50-4ef8-bea6-6d5f3e525c6c')\"\n",
              "            title=\"Convert this dataframe to an interactive table.\"\n",
              "            style=\"display:none;\">\n",
              "\n",
              "  <svg xmlns=\"http://www.w3.org/2000/svg\" height=\"24px\" viewBox=\"0 -960 960 960\">\n",
              "    <path d=\"M120-120v-720h720v720H120Zm60-500h600v-160H180v160Zm220 220h160v-160H400v160Zm0 220h160v-160H400v160ZM180-400h160v-160H180v160Zm440 0h160v-160H620v160ZM180-180h160v-160H180v160Zm440 0h160v-160H620v160Z\"/>\n",
              "  </svg>\n",
              "    </button>\n",
              "\n",
              "  <style>\n",
              "    .colab-df-container {\n",
              "      display:flex;\n",
              "      gap: 12px;\n",
              "    }\n",
              "\n",
              "    .colab-df-convert {\n",
              "      background-color: #E8F0FE;\n",
              "      border: none;\n",
              "      border-radius: 50%;\n",
              "      cursor: pointer;\n",
              "      display: none;\n",
              "      fill: #1967D2;\n",
              "      height: 32px;\n",
              "      padding: 0 0 0 0;\n",
              "      width: 32px;\n",
              "    }\n",
              "\n",
              "    .colab-df-convert:hover {\n",
              "      background-color: #E2EBFA;\n",
              "      box-shadow: 0px 1px 2px rgba(60, 64, 67, 0.3), 0px 1px 3px 1px rgba(60, 64, 67, 0.15);\n",
              "      fill: #174EA6;\n",
              "    }\n",
              "\n",
              "    .colab-df-buttons div {\n",
              "      margin-bottom: 4px;\n",
              "    }\n",
              "\n",
              "    [theme=dark] .colab-df-convert {\n",
              "      background-color: #3B4455;\n",
              "      fill: #D2E3FC;\n",
              "    }\n",
              "\n",
              "    [theme=dark] .colab-df-convert:hover {\n",
              "      background-color: #434B5C;\n",
              "      box-shadow: 0px 1px 3px 1px rgba(0, 0, 0, 0.15);\n",
              "      filter: drop-shadow(0px 1px 2px rgba(0, 0, 0, 0.3));\n",
              "      fill: #FFFFFF;\n",
              "    }\n",
              "  </style>\n",
              "\n",
              "    <script>\n",
              "      const buttonEl =\n",
              "        document.querySelector('#df-f8f27ac6-5c50-4ef8-bea6-6d5f3e525c6c button.colab-df-convert');\n",
              "      buttonEl.style.display =\n",
              "        google.colab.kernel.accessAllowed ? 'block' : 'none';\n",
              "\n",
              "      async function convertToInteractive(key) {\n",
              "        const element = document.querySelector('#df-f8f27ac6-5c50-4ef8-bea6-6d5f3e525c6c');\n",
              "        const dataTable =\n",
              "          await google.colab.kernel.invokeFunction('convertToInteractive',\n",
              "                                                    [key], {});\n",
              "        if (!dataTable) return;\n",
              "\n",
              "        const docLinkHtml = 'Like what you see? Visit the ' +\n",
              "          '<a target=\"_blank\" href=https://colab.research.google.com/notebooks/data_table.ipynb>data table notebook</a>'\n",
              "          + ' to learn more about interactive tables.';\n",
              "        element.innerHTML = '';\n",
              "        dataTable['output_type'] = 'display_data';\n",
              "        await google.colab.output.renderOutput(dataTable, element);\n",
              "        const docLink = document.createElement('div');\n",
              "        docLink.innerHTML = docLinkHtml;\n",
              "        element.appendChild(docLink);\n",
              "      }\n",
              "    </script>\n",
              "  </div>\n",
              "\n",
              "\n",
              "    <div id=\"df-80d8968c-3e17-407b-be81-561a6530da8d\">\n",
              "      <button class=\"colab-df-quickchart\" onclick=\"quickchart('df-80d8968c-3e17-407b-be81-561a6530da8d')\"\n",
              "                title=\"Suggest charts\"\n",
              "                style=\"display:none;\">\n",
              "\n",
              "<svg xmlns=\"http://www.w3.org/2000/svg\" height=\"24px\"viewBox=\"0 0 24 24\"\n",
              "     width=\"24px\">\n",
              "    <g>\n",
              "        <path d=\"M19 3H5c-1.1 0-2 .9-2 2v14c0 1.1.9 2 2 2h14c1.1 0 2-.9 2-2V5c0-1.1-.9-2-2-2zM9 17H7v-7h2v7zm4 0h-2V7h2v10zm4 0h-2v-4h2v4z\"/>\n",
              "    </g>\n",
              "</svg>\n",
              "      </button>\n",
              "\n",
              "<style>\n",
              "  .colab-df-quickchart {\n",
              "      --bg-color: #E8F0FE;\n",
              "      --fill-color: #1967D2;\n",
              "      --hover-bg-color: #E2EBFA;\n",
              "      --hover-fill-color: #174EA6;\n",
              "      --disabled-fill-color: #AAA;\n",
              "      --disabled-bg-color: #DDD;\n",
              "  }\n",
              "\n",
              "  [theme=dark] .colab-df-quickchart {\n",
              "      --bg-color: #3B4455;\n",
              "      --fill-color: #D2E3FC;\n",
              "      --hover-bg-color: #434B5C;\n",
              "      --hover-fill-color: #FFFFFF;\n",
              "      --disabled-bg-color: #3B4455;\n",
              "      --disabled-fill-color: #666;\n",
              "  }\n",
              "\n",
              "  .colab-df-quickchart {\n",
              "    background-color: var(--bg-color);\n",
              "    border: none;\n",
              "    border-radius: 50%;\n",
              "    cursor: pointer;\n",
              "    display: none;\n",
              "    fill: var(--fill-color);\n",
              "    height: 32px;\n",
              "    padding: 0;\n",
              "    width: 32px;\n",
              "  }\n",
              "\n",
              "  .colab-df-quickchart:hover {\n",
              "    background-color: var(--hover-bg-color);\n",
              "    box-shadow: 0 1px 2px rgba(60, 64, 67, 0.3), 0 1px 3px 1px rgba(60, 64, 67, 0.15);\n",
              "    fill: var(--button-hover-fill-color);\n",
              "  }\n",
              "\n",
              "  .colab-df-quickchart-complete:disabled,\n",
              "  .colab-df-quickchart-complete:disabled:hover {\n",
              "    background-color: var(--disabled-bg-color);\n",
              "    fill: var(--disabled-fill-color);\n",
              "    box-shadow: none;\n",
              "  }\n",
              "\n",
              "  .colab-df-spinner {\n",
              "    border: 2px solid var(--fill-color);\n",
              "    border-color: transparent;\n",
              "    border-bottom-color: var(--fill-color);\n",
              "    animation:\n",
              "      spin 1s steps(1) infinite;\n",
              "  }\n",
              "\n",
              "  @keyframes spin {\n",
              "    0% {\n",
              "      border-color: transparent;\n",
              "      border-bottom-color: var(--fill-color);\n",
              "      border-left-color: var(--fill-color);\n",
              "    }\n",
              "    20% {\n",
              "      border-color: transparent;\n",
              "      border-left-color: var(--fill-color);\n",
              "      border-top-color: var(--fill-color);\n",
              "    }\n",
              "    30% {\n",
              "      border-color: transparent;\n",
              "      border-left-color: var(--fill-color);\n",
              "      border-top-color: var(--fill-color);\n",
              "      border-right-color: var(--fill-color);\n",
              "    }\n",
              "    40% {\n",
              "      border-color: transparent;\n",
              "      border-right-color: var(--fill-color);\n",
              "      border-top-color: var(--fill-color);\n",
              "    }\n",
              "    60% {\n",
              "      border-color: transparent;\n",
              "      border-right-color: var(--fill-color);\n",
              "    }\n",
              "    80% {\n",
              "      border-color: transparent;\n",
              "      border-right-color: var(--fill-color);\n",
              "      border-bottom-color: var(--fill-color);\n",
              "    }\n",
              "    90% {\n",
              "      border-color: transparent;\n",
              "      border-bottom-color: var(--fill-color);\n",
              "    }\n",
              "  }\n",
              "</style>\n",
              "\n",
              "      <script>\n",
              "        async function quickchart(key) {\n",
              "          const quickchartButtonEl =\n",
              "            document.querySelector('#' + key + ' button');\n",
              "          quickchartButtonEl.disabled = true;  // To prevent multiple clicks.\n",
              "          quickchartButtonEl.classList.add('colab-df-spinner');\n",
              "          try {\n",
              "            const charts = await google.colab.kernel.invokeFunction(\n",
              "                'suggestCharts', [key], {});\n",
              "          } catch (error) {\n",
              "            console.error('Error during call to suggestCharts:', error);\n",
              "          }\n",
              "          quickchartButtonEl.classList.remove('colab-df-spinner');\n",
              "          quickchartButtonEl.classList.add('colab-df-quickchart-complete');\n",
              "        }\n",
              "        (() => {\n",
              "          let quickchartButtonEl =\n",
              "            document.querySelector('#df-80d8968c-3e17-407b-be81-561a6530da8d button');\n",
              "          quickchartButtonEl.style.display =\n",
              "            google.colab.kernel.accessAllowed ? 'block' : 'none';\n",
              "        })();\n",
              "      </script>\n",
              "    </div>\n",
              "\n",
              "    </div>\n",
              "  </div>\n"
            ],
            "application/vnd.google.colaboratory.intrinsic+json": {
              "type": "dataframe",
              "variable_name": "df"
            }
          },
          "metadata": {},
          "execution_count": 8
        }
      ]
    },
    {
      "cell_type": "markdown",
      "source": [
        "## Visualize and Scale the Data"
      ],
      "metadata": {
        "id": "B_df2SzYgUjy"
      }
    },
    {
      "cell_type": "markdown",
      "source": [
        "Visualizations of user play counts, artist popularity, and user activity distributions."
      ],
      "metadata": {
        "id": "oxfmNn6jgnkH"
      }
    },
    {
      "cell_type": "code",
      "source": [
        "# User activity analysis\n",
        "user_activity = df.groupby('user_id').agg({\n",
        "    'artist_id': 'count',      # number of different artists\n",
        "    'play_count': 'sum'        # total plays\n",
        "}).rename(columns={'artist_id': 'num_artists', 'play_count': 'total_plays'})\n",
        "\n",
        "print(\"User Activity Stats:\")\n",
        "print(f\"Average artists per user: {user_activity['num_artists'].mean():.1f}\")\n",
        "print(f\"Median artists per user: {user_activity['num_artists'].median()}\")\n",
        "print(f\"Most active user: {user_activity['num_artists'].max()} artists\")\n",
        "print(f\"Least active user: {user_activity['num_artists'].min()} artists\")\n",
        "\n",
        "# Artist popularity analysis\n",
        "artist_popularity = df.groupby('artist_id').agg({\n",
        "    'user_id': 'count',        # number of different users\n",
        "    'play_count': 'sum'        # total plays\n",
        "}).rename(columns={'user_id': 'num_listeners', 'play_count': 'total_plays'})\n",
        "\n",
        "print(\"\\nArtist Popularity Stats:\")\n",
        "print(f\"Average listeners per artist: {artist_popularity['num_listeners'].mean():.1f}\")\n",
        "print(f\"Median listeners per artist: {artist_popularity['num_listeners'].median()}\")\n",
        "print(f\"Most popular artist: {artist_popularity['num_listeners'].max()} listeners\")\n",
        "print(f\"Least popular artist: {artist_popularity['num_listeners'].min()} listeners\")"
      ],
      "metadata": {
        "colab": {
          "base_uri": "https://localhost:8080/"
        },
        "id": "RO5ICXd6D1cn",
        "outputId": "44ca5e29-9cf6-4d46-aef1-b661a5e96760"
      },
      "execution_count": null,
      "outputs": [
        {
          "output_type": "stream",
          "name": "stdout",
          "text": [
            "User Activity Stats:\n",
            "Average artists per user: 48.2\n",
            "Median artists per user: 48.0\n",
            "Most active user: 165 artists\n",
            "Least active user: 0 artists\n",
            "\n",
            "Artist Popularity Stats:\n",
            "Average listeners per artist: 108.1\n",
            "Median listeners per artist: 6.0\n",
            "Most popular artist: 77254 listeners\n",
            "Least popular artist: 1 listeners\n"
          ]
        }
      ]
    },
    {
      "cell_type": "code",
      "source": [
        "import matplotlib.pyplot as plt\n",
        "import seaborn as sns\n",
        "\n",
        "# Calculate user activity (number of unique artists per user)\n",
        "user_activity = df.groupby('user_id')['artist_id'].nunique().reset_index(name='num_artists')\n",
        "\n",
        "# Calculate artist popularity (number of unique listeners per artist)\n",
        "artist_popularity = df.groupby('artist_id')['user_id'].nunique().reset_index(name='num_listeners')\n",
        "\n",
        "# Visualize play count distribution\n",
        "plt.figure(figsize=(6, 6))\n",
        "sns.histplot(df['play_count'], bins=50, kde=False, color='skyblue')\n",
        "plt.title('Distribution of Play Counts')\n",
        "plt.xlabel('Play Count')\n",
        "plt.ylabel('Frequency')\n",
        "plt.yscale('log')\n",
        "plt.show()\n",
        "\n",
        "# Visualize user activity distribution\n",
        "plt.figure(figsize=(6, 6))\n",
        "sns.histplot(user_activity['num_artists'], bins=50, kde=False, color='lightgreen')\n",
        "plt.title('Distribution of Number of Artists per User')\n",
        "plt.xlabel('Number of Artists')\n",
        "plt.ylabel('Number of Users')\n",
        "plt.yscale('log')\n",
        "plt.show()\n",
        "\n",
        "# Visualize artist popularity distribution\n",
        "plt.figure(figsize=(6, 6))\n",
        "sns.histplot(artist_popularity['num_listeners'], bins=50, kde=False, color='salmon')\n",
        "plt.title('Distribution of Number of Listeners per Artist')\n",
        "plt.xlabel('Number of Listeners')\n",
        "plt.ylabel('Number of Artists')\n",
        "plt.yscale('log')\n",
        "plt.show()"
      ],
      "metadata": {
        "colab": {
          "base_uri": "https://localhost:8080/",
          "height": 1658
        },
        "id": "JwAVebbPeJcs",
        "outputId": "2b9f5a76-3480-43c4-a605-b6119cce541b"
      },
      "execution_count": null,
      "outputs": [
        {
          "output_type": "display_data",
          "data": {
            "text/plain": [
              "<Figure size 600x600 with 1 Axes>"
            ],
            "image/png": "[encoded data removed]"
          },
          "metadata": {}
        },
        {
          "output_type": "display_data",
          "data": {
            "text/plain": [
              "<Figure size 600x600 with 1 Axes>"
            ],
            "image/png": "[encoded data removed]"
          },
          "metadata": {}
        },
        {
          "output_type": "display_data",
          "data": {
            "text/plain": [
              "<Figure size 600x600 with 1 Axes>"
            ],
            "image/png": "[encoded data removed]"
          },
          "metadata": {}
        }
      ]
    },
    {
      "cell_type": "markdown",
      "source": [
        "## Filter and Scale"
      ],
      "metadata": {
        "id": "C7G0Cmxy-xR3"
      }
    },
    {
      "cell_type": "code",
      "source": [
        "# Filter users with at least 20 unique artists\n",
        "user_counts = df.groupby('user_id').size()\n",
        "active_users = user_counts[user_counts >= 20].index\n",
        "df_filtered = df[df['user_id'].isin(active_users)]\n",
        "\n",
        "# Filter artists with at least 10 unique listeners\n",
        "artist_counts = df_filtered.groupby('artist_id').size()\n",
        "popular_artists = artist_counts[artist_counts >= 10].index\n",
        "df_filtered = df_filtered[df_filtered['artist_id'].isin(popular_artists)]\n",
        "\n",
        "# Scale down to the top 10,000 users and 5,000 artists\n",
        "top_users = df_filtered['user_id'].value_counts().head(10000).index\n",
        "top_artists = df_filtered['artist_id'].value_counts().head(5000).index\n",
        "df_scaled = df_filtered[\n",
        "    (df_filtered['user_id'].isin(top_users)) &\n",
        "    (df_filtered['artist_id'].isin(top_artists))\n",
        "]\n",
        "\n",
        "print(f\"Final scaled data: {len(df_scaled):,} interactions\")\n",
        "print(f\"Users: {df_scaled['user_id'].nunique():,}\")\n",
        "print(f\"Artists: {df_scaled['artist_id'].nunique():,}\")"
      ],
      "metadata": {
        "colab": {
          "base_uri": "https://localhost:8080/"
        },
        "id": "UyH441HVgaNw",
        "outputId": "3e83adaa-c5ae-47c4-fa4a-1bd4b74d733b"
      },
      "execution_count": null,
      "outputs": [
        {
          "output_type": "stream",
          "name": "stdout",
          "text": [
            "Final scaled data: 504,023 interactions\n",
            "Users: 10,000\n",
            "Artists: 5,000\n"
          ]
        }
      ]
    },
    {
      "cell_type": "markdown",
      "source": [
        "## Preprocessing"
      ],
      "metadata": {
        "id": "IDENmJFboIIT"
      }
    },
    {
      "cell_type": "code",
      "source": [
        "from scipy.sparse import csr_matrix\n",
        "\n",
        "# Create user and artist mappings\n",
        "user_mapping = {user: idx for idx, user in enumerate(df_scaled['user_id'].unique())}\n",
        "artist_mapping = {artist: idx for idx, artist in enumerate(df_scaled['artist_id'].unique())}\n",
        "\n",
        "# Map IDs to indices\n",
        "df_scaled['user_idx'] = df_scaled['user_id'].map(user_mapping)\n",
        "df_scaled['artist_idx'] = df_scaled['artist_id'].map(artist_mapping)\n",
        "\n",
        "# Create sparse matrix\n",
        "rows = df_scaled['user_idx'].values\n",
        "cols = df_scaled['artist_idx'].values\n",
        "data = df_scaled['play_count'].values\n",
        "sparse_matrix = csr_matrix((data, (rows, cols)),\n",
        "                           shape=(len(user_mapping), len(artist_mapping)))\n",
        "\n",
        "print(f\"Sparse matrix shape: {sparse_matrix.shape}\")\n",
        "print(f\"Non-zero entries: {sparse_matrix.nnz:,}\")"
      ],
      "metadata": {
        "colab": {
          "base_uri": "https://localhost:8080/"
        },
        "id": "pPXIuqCYhLVt",
        "outputId": "b3ccad2b-46c9-4a5d-909b-055856fba6a5"
      },
      "execution_count": null,
      "outputs": [
        {
          "output_type": "stream",
          "name": "stdout",
          "text": [
            "Sparse matrix shape: (10000, 5000)\n",
            "Non-zero entries: 504,003\n"
          ]
        },
        {
          "output_type": "stream",
          "name": "stderr",
          "text": [
            "/tmp/ipython-input-4266519952.py:8: SettingWithCopyWarning: \n",
            "A value is trying to be set on a copy of a slice from a DataFrame.\n",
            "Try using .loc[row_indexer,col_indexer] = value instead\n",
            "\n",
            "See the caveats in the documentation: https://pandas.pydata.org/pandas-docs/stable/user_guide/indexing.html#returning-a-view-versus-a-copy\n",
            "  df_scaled['user_idx'] = df_scaled['user_id'].map(user_mapping)\n",
            "/tmp/ipython-input-4266519952.py:9: SettingWithCopyWarning: \n",
            "A value is trying to be set on a copy of a slice from a DataFrame.\n",
            "Try using .loc[row_indexer,col_indexer] = value instead\n",
            "\n",
            "See the caveats in the documentation: https://pandas.pydata.org/pandas-docs/stable/user_guide/indexing.html#returning-a-view-versus-a-copy\n",
            "  df_scaled['artist_idx'] = df_scaled['artist_id'].map(artist_mapping)\n"
          ]
        }
      ]
    },
    {
      "cell_type": "markdown",
      "source": [
        "## Train/Test Split"
      ],
      "metadata": {
        "id": "ptjmH6BQn93h"
      }
    },
    {
      "cell_type": "code",
      "source": [
        "import numpy as np\n",
        "\n",
        "# Split into train and test sets\n",
        "train_matrix = sparse_matrix.copy()\n",
        "test_interactions = []\n",
        "\n",
        "test_ratio = 0.2 # 20% for testing\n",
        "min_interactions = 5  # only consider users with at least 5 interactions\n",
        "\n",
        "for user_idx in range(sparse_matrix.shape[0]):\n",
        "    user_interactions = sparse_matrix.getrow(user_idx)\n",
        "    nonzero_items = user_interactions.nonzero()[1]\n",
        "\n",
        "    if len(nonzero_items) >= min_interactions:\n",
        "        n_test = max(1, int(len(nonzero_items) * test_ratio))\n",
        "        test_items = np.random.choice(nonzero_items, n_test, replace=False)\n",
        "\n",
        "        for item_idx in test_items:\n",
        "            test_interactions.append({\n",
        "                'user_idx': user_idx,\n",
        "                'item_idx': item_idx,\n",
        "                'rating': sparse_matrix[user_idx, item_idx]\n",
        "            })\n",
        "            train_matrix[user_idx, item_idx] = 0\n",
        "\n",
        "train_matrix.eliminate_zeros()\n",
        "\n",
        "print(f\"Train matrix shape: {train_matrix.shape}\")\n",
        "print(f\"Test interactions: {len(test_interactions):,}\")"
      ],
      "metadata": {
        "colab": {
          "base_uri": "https://localhost:8080/"
        },
        "id": "bmxNqSLdoA5i",
        "outputId": "80b11cac-e423-4596-dcd4-5d023fefae3f"
      },
      "execution_count": null,
      "outputs": [
        {
          "output_type": "stream",
          "name": "stdout",
          "text": [
            "Train matrix shape: (10000, 5000)\n",
            "Test interactions: 96,828\n"
          ]
        }
      ]
    },
    {
      "cell_type": "code",
      "source": [
        "# Check for data leakage\n",
        "assert train_matrix.nnz + len(test_interactions) == sparse_matrix.nnz, \"Data leakage detected\"\n",
        "\n",
        "# Check sparsity\n",
        "train_sparsity = (1 - train_matrix.nnz / (train_matrix.shape[0] * train_matrix.shape[1])) * 100\n",
        "print(f\"Train set sparsity: {train_sparsity:.2f}%\")\n",
        "\n",
        "# Check for cold-start users\n",
        "train_user_counts = np.array(train_matrix.sum(axis=1)).flatten()\n",
        "cold_start_users = np.sum(train_user_counts == 0)\n",
        "print(f\"Cold-start users: {cold_start_users}\")"
      ],
      "metadata": {
        "colab": {
          "base_uri": "https://localhost:8080/"
        },
        "id": "TRV99m6u_Jqz",
        "outputId": "1a623b65-9c45-46c7-b32d-f21817f2a5d8"
      },
      "execution_count": null,
      "outputs": [
        {
          "output_type": "stream",
          "name": "stdout",
          "text": [
            "Train set sparsity: 99.19%\n",
            "Cold-start users: 0\n"
          ]
        }
      ]
    },
    {
      "cell_type": "code",
      "source": [
        "# Log transformation\n",
        "matrix_log = sparse_matrix.copy().astype(float)\n",
        "matrix_log.data = np.log1p(matrix_log.data)\n",
        "\n",
        "# Binary transformation\n",
        "matrix_binary = sparse_matrix.copy()\n",
        "matrix_binary.data = (matrix_binary.data > 0).astype(float)\n",
        "\n",
        "# User-normalized transformation\n",
        "matrix_normalized = sparse_matrix.copy().astype(float)\n",
        "row_sums = np.array(matrix_normalized.sum(axis=1)).flatten()\n",
        "row_sums[row_sums == 0] = 1  # Avoid division by zero\n",
        "for i in range(matrix_normalized.shape[0]):\n",
        "    matrix_normalized.data[matrix_normalized.indptr[i]:matrix_normalized.indptr[i+1]] /= row_sums[i]"
      ],
      "metadata": {
        "id": "G9nOwsQWDxp3"
      },
      "execution_count": null,
      "outputs": []
    },
    {
      "cell_type": "markdown",
      "source": [
        "## Model Implementation and Training\n",
        "\n",
        "We'll implement two advanced recommendation approaches:\n",
        "\n",
        "1. **ALS (Alternating Least Squares)**: Matrix factorization optimized for implicit feedback\n",
        "2. **Baseline**: Popularity-based recommendations for comparison\n",
        "\n",
        "ALS is particularly effective for music recommendation as it handles implicit feedback (play counts) and the sparse interaction matrix well."
      ],
      "metadata": {
        "id": "ajWu9pKCE0ic"
      }
    },
    {
      "cell_type": "markdown",
      "source": [
        "### Baseline Model: Popularity-Based Recommendations\n",
        "\n",
        "First, let's establish our baseline by identifying the most popular artists based on total play counts across all training users."
      ],
      "metadata": {
        "id": "zh0_cr1kG_jZ"
      }
    },
    {
      "cell_type": "code",
      "source": [
        "# Calculate artist popularity from training data\n",
        "artist_popularity = np.array(train_matrix.sum(axis=0)).flatten()\n",
        "\n",
        "# Get top artists for baseline recommendations\n",
        "n_recommendations = 10\n",
        "top_artists_baseline = np.argsort(artist_popularity)[::-1][:n_recommendations]\n",
        "\n",
        "print(\"Baseline Model - Most Popular Artists:\")\n",
        "for i, artist_idx in enumerate(top_artists_baseline):\n",
        "    plays = artist_popularity[artist_idx]\n",
        "    print(f\"  {i+1}. Artist {artist_idx}: {plays:,.0f} total plays\")"
      ],
      "metadata": {
        "colab": {
          "base_uri": "https://localhost:8080/"
        },
        "id": "IoAcP5VqG_FM",
        "outputId": "13eaf7b1-5556-4460-c676-1f2785404fc7"
      },
      "execution_count": null,
      "outputs": [
        {
          "output_type": "stream",
          "name": "stdout",
          "text": [
            "Baseline Model - Most Popular Artists:\n",
            "  1. Artist 26: 423,444 total plays\n",
            "  2. Artist 148: 310,809 total plays\n",
            "  3. Artist 833: 224,996 total plays\n",
            "  4. Artist 122: 218,579 total plays\n",
            "  5. Artist 289: 204,809 total plays\n",
            "  6. Artist 9: 190,932 total plays\n",
            "  7. Artist 628: 176,638 total plays\n",
            "  8. Artist 182: 175,678 total plays\n",
            "  9. Artist 1280: 175,094 total plays\n",
            "  10. Artist 1030: 168,414 total plays\n"
          ]
        }
      ]
    },
    {
      "cell_type": "markdown",
      "source": [
        "### ALS Model: Collaborative Filtering\n",
        "\n",
        "ALS (Alternating Least Squares) is a matrix factorization technique that learns latent user and item factors by alternately optimizing user and item representations. It's particularly well-suited for implicit feedback data like play counts.\n",
        "\n",
        "Key advantages:\n",
        "- Handles sparse matrices efficiently\n",
        "- Optimized for implicit feedback (play counts vs explicit ratings)\n",
        "- Scalable to large datasets"
      ],
      "metadata": {
        "id": "CGaKN7I5HVsJ"
      }
    },
    {
      "cell_type": "code",
      "source": [
        "!pip install implicit scikit-learn"
      ],
      "metadata": {
        "colab": {
          "base_uri": "https://localhost:8080/"
        },
        "id": "kE9Z8LarMo2F",
        "outputId": "e604a10f-82e7-42ef-ae34-99c9b78c5a5f"
      },
      "execution_count": null,
      "outputs": [
        {
          "output_type": "stream",
          "name": "stdout",
          "text": [
            "Collecting implicit\n",
            "  Downloading implicit-0.7.2.tar.gz (70 kB)\n",
            "\u001b[?25l     \u001b[90m━━━━━━━━━━━━━━━━━━━━━━━━━━━━━━━━━━━━━━━━\u001b[0m \u001b[32m0.0/70.3 kB\u001b[0m \u001b[31m?\u001b[0m eta \u001b[36m-:--:--\u001b[0m\r\u001b[2K     \u001b[90m━━━━━━━━━━━━━━━━━━━━━━━━━━━━━━━━━━━━━━━━\u001b[0m \u001b[32m70.3/70.3 kB\u001b[0m \u001b[31m2.9 MB/s\u001b[0m eta \u001b[36m0:00:00\u001b[0m\n",
            "\u001b[?25h  Installing build dependencies ... \u001b[?25l\u001b[?25hdone\n",
            "  Getting requirements to build wheel ... \u001b[?25l\u001b[?25hdone\n",
            "  Preparing metadata (pyproject.toml) ... \u001b[?25l\u001b[?25hdone\n",
            "Requirement already satisfied: scikit-learn in /usr/local/lib/python3.12/dist-packages (1.6.1)\n",
            "Requirement already satisfied: numpy>=1.17.0 in /usr/local/lib/python3.12/dist-packages (from implicit) (2.0.2)\n",
            "Requirement already satisfied: scipy>=0.16 in /usr/local/lib/python3.12/dist-packages (from implicit) (1.16.2)\n",
            "Requirement already satisfied: tqdm>=4.27 in /usr/local/lib/python3.12/dist-packages (from implicit) (4.67.1)\n",
            "Requirement already satisfied: threadpoolctl in /usr/local/lib/python3.12/dist-packages (from implicit) (3.6.0)\n",
            "Requirement already satisfied: joblib>=1.2.0 in /usr/local/lib/python3.12/dist-packages (from scikit-learn) (1.5.2)\n",
            "Building wheels for collected packages: implicit\n",
            "  Building wheel for implicit (pyproject.toml) ... \u001b[?25l\u001b[?25hdone\n",
            "  Created wheel for implicit: filename=implicit-0.7.2-cp312-cp312-linux_x86_64.whl size=10855811 sha256=8cce746b0ca273ba3f3e3504d8118d068483dface4fb66723a75083a64dde4a0\n",
            "  Stored in directory: /root/.cache/pip/wheels/b2/00/4f/9ff8af07a0a53ac6007ea5d739da19cfe147a2df542b6899f8\n",
            "Successfully built implicit\n",
            "Installing collected packages: implicit\n",
            "Successfully installed implicit-0.7.2\n"
          ]
        }
      ]
    },
    {
      "cell_type": "code",
      "source": [
        "from implicit.als import AlternatingLeastSquares\n",
        "\n",
        "# ALS expects item-user matrix (transpose of our user-item matrix)\n",
        "train_matrix_T = train_matrix.T.tocsr()\n",
        "\n",
        "# Initialize ALS model with optimized parameters\n",
        "als_model = AlternatingLeastSquares(\n",
        "    factors=50,              # number of latent factors\n",
        "    regularization=0.01,     # L2 regularization to prevent overfitting\n",
        "    iterations=20,           # number of alternating optimization steps\n",
        "    alpha=1,                # confidence scaling for implicit feedback\n",
        "    random_state=42\n",
        ")\n",
        "\n",
        "# Train the model\n",
        "print(\"Training ALS model...\")\n",
        "als_model.fit(train_matrix_T)\n",
        "\n",
        "# Extract learned factor matrices\n",
        "user_factors_als = als_model.user_factors\n",
        "item_factors_als = als_model.item_factors\n",
        "\n",
        "print(f\"ALS Model Training Complete:\")\n",
        "print(f\"  User factors shape: {user_factors_als.shape}\")\n",
        "print(f\"  Artist factors shape: {item_factors_als.shape}\")\n",
        "print(f\"  Total parameters: {user_factors_als.size + item_factors_als.size:,}\")"
      ],
      "metadata": {
        "colab": {
          "base_uri": "https://localhost:8080/",
          "height": 136,
          "referenced_widgets": [
            "c8040d5c2f984b1caffa8737b37b1c35",
            "d5c0df878f4f485391ed68a8e621e444",
            "d5a56aa4a25d49e29e2d9dd11182ba40",
            "00a40570d4d84ccf93f1fdff01efb7a4",
            "a30151fcfca942faa39d637758ea0c88",
            "8786b0a347374f6eb60610a68441d1e3",
            "1a54cce3f6c041769ee603a64d2db9bd",
            "1f11e2d12ccf418f88060c965176b5da",
            "5e4e858a96a74b6682aa117b819fe438",
            "ebca908177814702a3f80cdc9e1100c0",
            "c801ba4972214c01bbc11aff929160b2"
          ]
        },
        "id": "b_A2yjvqHdws",
        "outputId": "5f525f12-3b6a-4099-b011-f2765929841c"
      },
      "execution_count": null,
      "outputs": [
        {
          "output_type": "stream",
          "name": "stdout",
          "text": [
            "Training ALS model...\n"
          ]
        },
        {
          "output_type": "display_data",
          "data": {
            "text/plain": [
              "  0%|          | 0/20 [00:00<?, ?it/s]"
            ],
            "application/vnd.jupyter.widget-view+json": {
              "version_major": 2,
              "version_minor": 0,
              "model_id": "c8040d5c2f984b1caffa8737b37b1c35"
            }
          },
          "metadata": {}
        },
        {
          "output_type": "stream",
          "name": "stdout",
          "text": [
            "ALS Model Training Complete:\n",
            "  User factors shape: (5000, 50)\n",
            "  Artist factors shape: (10000, 50)\n",
            "  Total parameters: 750,000\n"
          ]
        }
      ]
    },
    {
      "cell_type": "markdown",
      "source": [
        "## Recommendation Generation Functions\n",
        "\n",
        "We'll implement functions to generate recommendations from both our baseline and ALS models, then evaluate their performance using standard recommendation metrics."
      ],
      "metadata": {
        "id": "gFFYKcsUHtEm"
      }
    },
    {
      "cell_type": "code",
      "source": [
        "def get_als_recommendations(user_idx, als_model, train_matrix, n_rec=10):\n",
        "    \"\"\"\n",
        "    Generate ALS-based recommendations for a specific user.\n",
        "\n",
        "    Args:\n",
        "        user_idx: Index of user to generate recommendations for\n",
        "        als_model: Trained ALS model\n",
        "        train_matrix: Training interaction matrix\n",
        "        n_rec: Number of recommendations to return\n",
        "\n",
        "    Returns:\n",
        "        rec_items: Array of recommended artist indices\n",
        "        scores: Prediction scores for recommended artists\n",
        "    \"\"\"\n",
        "    try:\n",
        "        # Use implicit library's recommend function\n",
        "        recommended = als_model.recommend(\n",
        "            user_idx,\n",
        "            train_matrix[user_idx],\n",
        "            N=n_rec,\n",
        "            filter_already_liked_items=True\n",
        "        )\n",
        "        return recommended[0], recommended[1]  # artist_indices, scores\n",
        "    except:\n",
        "        # Fallback for users with no training data\n",
        "        return top_artists_baseline[:n_rec], np.ones(n_rec)\n",
        "\n",
        "def evaluate_model(model_name, train_matrix, test_interactions,\n",
        "                  als_model=None, baseline_recs=None, k=10):\n",
        "    \"\"\"\n",
        "    Evaluate recommendation model performance using precision, recall, and coverage.\n",
        "    \"\"\"\n",
        "    print(f\"Evaluating {model_name}...\")\n",
        "\n",
        "    # Group test interactions by user\n",
        "    user_test_items = {}\n",
        "    for item in test_interactions:\n",
        "        user_idx = item['user_idx']\n",
        "        artist_idx = item['item_idx']\n",
        "        if user_idx not in user_test_items:\n",
        "            user_test_items[user_idx] = []\n",
        "        user_test_items[user_idx].append(artist_idx)\n",
        "\n",
        "    precisions = []\n",
        "    recalls = []\n",
        "    coverage_set = set()\n",
        "\n",
        "    for user_idx, true_items in user_test_items.items():\n",
        "        # Generate recommendations based on model type\n",
        "        if model_name == \"Baseline\":\n",
        "            rec_items = baseline_recs[:k]\n",
        "        elif model_name == \"ALS\":\n",
        "            rec_items, _ = get_als_recommendations(user_idx, als_model, train_matrix, k)\n",
        "\n",
        "        # Calculate precision and recall\n",
        "        rec_set = set(rec_items)\n",
        "        true_set = set(true_items)\n",
        "        hits = len(rec_set & true_set)\n",
        "\n",
        "        precision = hits / k if k > 0 else 0\n",
        "        recall = hits / len(true_set) if len(true_set) > 0 else 0\n",
        "\n",
        "        precisions.append(precision)\n",
        "        recalls.append(recall)\n",
        "        coverage_set.update(rec_items)\n",
        "\n",
        "    # Calculate average metrics\n",
        "    avg_precision = np.mean(precisions)\n",
        "    avg_recall = np.mean(recalls)\n",
        "    coverage = len(coverage_set) / train_matrix.shape[1]\n",
        "\n",
        "    print(f\"  Precision@{k}: {avg_precision:.4f}\")\n",
        "    print(f\"  Recall@{k}: {avg_recall:.4f}\")\n",
        "    print(f\"  Coverage: {coverage:.4f}\")\n",
        "\n",
        "    return {\n",
        "        'precision': avg_precision,\n",
        "        'recall': avg_recall,\n",
        "        'coverage': coverage,\n",
        "        'name': model_name\n",
        "    }"
      ],
      "metadata": {
        "id": "3pxojwGZHq7G"
      },
      "execution_count": null,
      "outputs": []
    },
    {
      "cell_type": "markdown",
      "source": [
        "## Model Evaluation and Comparison\n",
        "\n",
        "Now we'll evaluate both models on our test set and compare their performance across multiple metrics."
      ],
      "metadata": {
        "id": "gCCRFRtcH2I9"
      }
    },
    {
      "cell_type": "code",
      "source": [
        "print(\"Model Evaluation Results\")\n",
        "print(\"=\"*50)\n",
        "\n",
        "# Evaluate Baseline Model\n",
        "baseline_results = evaluate_model(\n",
        "    \"Baseline\",\n",
        "    train_matrix,\n",
        "    test_interactions,\n",
        "    baseline_recs=top_artists_baseline,\n",
        "    k=10\n",
        ")\n",
        "\n",
        "# Evaluate ALS Model\n",
        "als_results = evaluate_model(\n",
        "    \"ALS\",\n",
        "    train_matrix,\n",
        "    test_interactions,\n",
        "    als_model=als_model,\n",
        "    k=10\n",
        ")\n",
        "\n",
        "# Print comparison\n",
        "print(f\"\\nDetailed Performance Comparison:\")\n",
        "print(f\"{'Metric':<15} {'Baseline':<12} {'ALS':<12} {'Improvement'}\")\n",
        "print(\"-\"*55)\n",
        "\n",
        "for metric in ['precision', 'recall', 'coverage']:\n",
        "    base_val = baseline_results[metric]\n",
        "    als_val = als_results[metric]\n",
        "    improvement = ((als_val - base_val) / base_val * 100) if base_val > 0 else 0\n",
        "    print(f\"{metric.capitalize():<15} {base_val:<12.4f} {als_val:<12.4f} {improvement:>+6.1f}%\")"
      ],
      "metadata": {
        "colab": {
          "base_uri": "https://localhost:8080/"
        },
        "id": "IJZazULLH4yv",
        "outputId": "cde1da62-43a2-4c55-8dae-d5536dc7ebcb"
      },
      "execution_count": null,
      "outputs": [
        {
          "output_type": "stream",
          "name": "stdout",
          "text": [
            "Model Evaluation Results\n",
            "==================================================\n",
            "Evaluating Baseline...\n",
            "  Precision@10: 0.0281\n",
            "  Recall@10: 0.0269\n",
            "  Coverage: 0.0020\n",
            "Evaluating ALS...\n",
            "  Precision@10: 0.0145\n",
            "  Recall@10: 0.0139\n",
            "  Coverage: 1.2668\n",
            "\n",
            "Detailed Performance Comparison:\n",
            "Metric          Baseline     ALS          Improvement\n",
            "-------------------------------------------------------\n",
            "Precision       0.0281       0.0145        -48.4%\n",
            "Recall          0.0269       0.0139        -48.3%\n",
            "Coverage        0.0020       1.2668       +63240.0%\n"
          ]
        }
      ]
    },
    {
      "cell_type": "code",
      "source": [],
      "metadata": {
        "colab": {
          "base_uri": "https://localhost:8080/",
          "height": 176
        },
        "id": "UOW4wDgJSVZ1",
        "outputId": "b0064939-7e08-450e-a40c-5351acc92676"
      },
      "execution_count": null,
      "outputs": [
        {
          "output_type": "error",
          "ename": "NameError",
          "evalue": "name 'coverage_set' is not defined",
          "traceback": [
            "\u001b[0;31m---------------------------------------------------------------------------\u001b[0m",
            "\u001b[0;31mNameError\u001b[0m                                 Traceback (most recent call last)",
            "\u001b[0;32m/tmp/ipython-input-3040154799.py\u001b[0m in \u001b[0;36m<cell line: 0>\u001b[0;34m()\u001b[0m\n\u001b[0;32m----> 1\u001b[0;31m \u001b[0mprint\u001b[0m\u001b[0;34m(\u001b[0m\u001b[0;34mf\"Coverage set size: {len(coverage_set)}\"\u001b[0m\u001b[0;34m)\u001b[0m\u001b[0;34m\u001b[0m\u001b[0;34m\u001b[0m\u001b[0m\n\u001b[0m\u001b[1;32m      2\u001b[0m \u001b[0mprint\u001b[0m\u001b[0;34m(\u001b[0m\u001b[0;34mf\"Total items: {train_matrix.shape[1]}\"\u001b[0m\u001b[0;34m)\u001b[0m\u001b[0;34m\u001b[0m\u001b[0;34m\u001b[0m\u001b[0m\n\u001b[1;32m      3\u001b[0m \u001b[0mprint\u001b[0m\u001b[0;34m(\u001b[0m\u001b[0;34mf\"Sample coverage_set: {list(coverage_set)[:20]}\"\u001b[0m\u001b[0;34m)\u001b[0m\u001b[0;34m\u001b[0m\u001b[0;34m\u001b[0m\u001b[0m\n",
            "\u001b[0;31mNameError\u001b[0m: name 'coverage_set' is not defined"
          ]
        }
      ]
    },
    {
      "cell_type": "code",
      "source": [
        "# Create performance comparison visualization\n",
        "fig, axes = plt.subplots(1, 2, figsize=(15, 6))\n",
        "\n",
        "# Performance comparison chart\n",
        "metrics = ['Precision@10', 'Recall@10', 'Coverage']\n",
        "baseline_vals = [baseline_results['precision'], baseline_results['recall'], baseline_results['coverage']]\n",
        "als_vals = [als_results['precision'], als_results['recall'], als_results['coverage']]\n",
        "\n",
        "x = np.arange(len(metrics))\n",
        "width = 0.35\n",
        "\n",
        "axes[0].bar(x - width/2, baseline_vals, width, label='Baseline', alpha=0.8, color='lightblue')\n",
        "axes[0].bar(x + width/2, als_vals, width, label='ALS Model', alpha=0.8, color='lightcoral')\n",
        "axes[0].set_ylabel('Score')\n",
        "axes[0].set_title('Model Performance Comparison')\n",
        "axes[0].set_xticks(x)\n",
        "axes[0].set_xticklabels(metrics, rotation=15)\n",
        "axes[0].legend()\n",
        "axes[0].grid(axis='y', alpha=0.3)\n",
        "\n",
        "# Improvement visualization\n",
        "improvements = []\n",
        "for base, als in zip(baseline_vals, als_vals):\n",
        "    imp = ((als - base) / base * 100) if base > 0 else 0\n",
        "    improvements.append(imp)\n",
        "\n",
        "colors = ['green' if x > 0 else 'red' for x in improvements]\n",
        "bars = axes[1].bar(metrics, improvements, color=colors, alpha=0.7)\n",
        "axes[1].set_ylabel('Improvement (%)')\n",
        "axes[1].set_title('ALS vs Baseline Performance Gain')\n",
        "axes[1].axhline(y=0, color='black', linestyle='-', linewidth=0.8)\n",
        "axes[1].grid(axis='y', alpha=0.3)\n",
        "\n",
        "# Add value labels on bars\n",
        "for bar, val in zip(bars, improvements):\n",
        "    height = bar.get_height()\n",
        "    axes[1].text(bar.get_x() + bar.get_width()/2., height + (1 if height > 0 else -2),\n",
        "                f'{val:.1f}%', ha='center', va='bottom' if height > 0 else 'top')\n",
        "\n",
        "plt.tight_layout()\n",
        "plt.show()"
      ],
      "metadata": {
        "colab": {
          "base_uri": "https://localhost:8080/",
          "height": 607
        },
        "id": "P66FZSrfH83b",
        "outputId": "d8525504-cc61-41cc-c1cf-76329ff27608"
      },
      "execution_count": null,
      "outputs": [
        {
          "output_type": "display_data",
          "data": {
            "text/plain": [
              "<Figure size 1500x600 with 2 Axes>"
            ],
            "image/png": "[encoded data removed]"
          },
          "metadata": {}
        }
      ]
    },
    {
      "cell_type": "markdown",
      "source": [
        "## Sample Recommendations Analysis\n",
        "\n",
        "Let's examine actual recommendations for a sample user to understand the difference between baseline and collaborative filtering approaches."
      ],
      "metadata": {
        "id": "4inHpfJ0H_k2"
      }
    },
    {
      "cell_type": "code",
      "source": [
        "# Analyze recommendations for sample user\n",
        "sample_user = 0\n",
        "\n",
        "# Get user's training history\n",
        "listened_artists = train_matrix[sample_user].nonzero()[1]\n",
        "total_plays = int(train_matrix[sample_user].sum())\n",
        "\n",
        "print(f\"Sample User {sample_user} Profile:\")\n",
        "print(f\"  Artists in training: {len(listened_artists)}\")\n",
        "print(f\"  Total training plays: {total_plays:,}\")\n",
        "\n",
        "# Generate recommendations from both models\n",
        "print(f\"\\nBaseline Recommendations (Same for Everyone):\")\n",
        "for i, artist_idx in enumerate(top_artists_baseline[:5]):\n",
        "    plays = int(artist_popularity[artist_idx])\n",
        "    print(f\"  {i+1}. Artist {artist_idx} ({plays:,} total plays)\")\n",
        "\n",
        "print(f\"\\nALS Recommendations (Personalized):\")\n",
        "als_recs, als_scores = get_als_recommendations(sample_user, als_model, train_matrix, 5)\n",
        "for i, (artist_idx, score) in enumerate(zip(als_recs, als_scores)):\n",
        "    print(f\"  {i+1}. Artist {artist_idx} (score: {score:.3f})\")\n",
        "\n",
        "# Check relevance against test set if available\n",
        "user_test_items = [item['item_idx'] for item in test_interactions if item['user_idx'] == sample_user]\n",
        "if user_test_items:\n",
        "    baseline_hits = len(set(top_artists_baseline[:5]) & set(user_test_items))\n",
        "    als_hits = len(set(als_recs) & set(user_test_items))\n",
        "    print(f\"\\nRelevance Check (Test Set):\")\n",
        "    print(f\"  Baseline hits: {baseline_hits}/5\")\n",
        "    print(f\"  ALS hits: {als_hits}/5\")"
      ],
      "metadata": {
        "colab": {
          "base_uri": "https://localhost:8080/"
        },
        "id": "VpPcXcoWIBQo",
        "outputId": "e980dec6-a71c-48cb-d09b-1f11b4b7bf0c"
      },
      "execution_count": 50,
      "outputs": [
        {
          "output_type": "stream",
          "name": "stdout",
          "text": [
            "Sample User 0 Profile:\n",
            "  Artists in training: 48\n",
            "  Total training plays: 6,182\n",
            "\n",
            "Baseline Recommendations (Same for Everyone):\n",
            "  1. Artist 26 (423,444 total plays)\n",
            "  2. Artist 148 (310,809 total plays)\n",
            "  3. Artist 833 (224,996 total plays)\n",
            "  4. Artist 122 (218,579 total plays)\n",
            "  5. Artist 289 (204,809 total plays)\n",
            "\n",
            "ALS Recommendations (Personalized):\n",
            "  1. Artist 1354 (score: 1.520)\n",
            "  2. Artist 2232 (score: 1.501)\n",
            "  3. Artist 4589 (score: 1.465)\n",
            "  4. Artist 9389 (score: 1.350)\n",
            "  5. Artist 5835 (score: 1.334)\n",
            "\n",
            "Relevance Check (Test Set):\n",
            "  Baseline hits: 0/5\n",
            "  ALS hits: 0/5\n"
          ]
        }
      ]
    }
  ]
}