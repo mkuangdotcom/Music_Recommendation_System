{
  "cells": [
    {
      "cell_type": "markdown",
      "source": [],
      "metadata": {
        "id": "GxfpkBTAn0JG"
      },
      "id": "GxfpkBTAn0JG"
    },
    {
      "cell_type": "code",
      "source": [
        "!wget http://ocelma.net/MusicRecommendationDataset/lastfm-360K.html"
      ],
      "metadata": {
        "id": "VqUutkQxn1bF",
        "outputId": "9e2bfe95-5d77-42b2-ec8f-8d96750d9d83",
        "colab": {
          "base_uri": "https://localhost:8080/"
        }
      },
      "id": "VqUutkQxn1bF",
      "execution_count": 1,
      "outputs": [
        {
          "output_type": "stream",
          "name": "stdout",
          "text": [
            "--2025-09-28 04:42:28--  http://ocelma.net/MusicRecommendationDataset/lastfm-360K.html\n",
            "Resolving ocelma.net (ocelma.net)... 69.163.187.191\n",
            "Connecting to ocelma.net (ocelma.net)|69.163.187.191|:80... connected.\n",
            "HTTP request sent, awaiting response... 200 OK\n",
            "Length: 4173 (4.1K) [text/html]\n",
            "Saving to: ‘lastfm-360K.html’\n",
            "\n",
            "\rlastfm-360K.html      0%[                    ]       0  --.-KB/s               \rlastfm-360K.html    100%[===================>]   4.08K  --.-KB/s    in 0s      \n",
            "\n",
            "2025-09-28 04:42:28 (341 MB/s) - ‘lastfm-360K.html’ saved [4173/4173]\n",
            "\n"
          ]
        }
      ]
    }
  ],
  "metadata": {
    "language_info": {
      "name": "python"
    },
    "colab": {
      "provenance": []
    },
    "kernelspec": {
      "name": "python3",
      "display_name": "Python 3"
    }
  },
  "nbformat": 4,
  "nbformat_minor": 5
}